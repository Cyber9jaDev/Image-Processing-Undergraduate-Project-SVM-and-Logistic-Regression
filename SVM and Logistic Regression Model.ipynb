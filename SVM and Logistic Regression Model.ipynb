{
  "cells": [
    {
      "cell_type": "markdown",
      "metadata": {
        "id": "S3BclZof6xZ0"
      },
      "source": [
        "## **Libraries**"
      ]
    },
    {
      "cell_type": "code",
      "execution_count": null,
      "metadata": {
        "colab": {
          "base_uri": "https://localhost:8080/"
        },
        "id": "quRc4KSv7A9h",
        "outputId": "23708469-6e06-49be-ba1b-76f5d57df411"
      },
      "outputs": [
        {
          "name": "stdout",
          "output_type": "stream",
          "text": [
            "Drive already mounted at /content/drive; to attempt to forcibly remount, call drive.mount(\"/content/drive\", force_remount=True).\n"
          ]
        }
      ],
      "source": [
        "from google.colab import drive\n",
        "drive.mount('/content/drive')"
      ]
    },
    {
      "cell_type": "code",
      "execution_count": null,
      "metadata": {
        "id": "YZsxyxZG70Or"
      },
      "outputs": [],
      "source": [
        "class params:\n",
        "\n",
        "    data_path = '/content/drive/MyDrive/Project'\n",
        "    bad_images = '/content/drive/MyDrive/Project/Bad'\n",
        "    good_images = '/content/drive/MyDrive/Project/Good'\n",
        "    csv_files = '/content/drive/MyDrive/Project/csv_files'"
      ]
    },
    {
      "cell_type": "code",
      "execution_count": null,
      "metadata": {
        "id": "vyvK0a0M7f8j"
      },
      "outputs": [],
      "source": [
        "import os\n",
        "import cv2\n",
        "\n",
        "import matplotlib.pyplot as plt\n",
        "%matplotlib inline"
      ]
    },
    {
      "cell_type": "code",
      "execution_count": null,
      "metadata": {
        "id": "sR1pGsmb-iJE"
      },
      "outputs": [],
      "source": [
        "import pandas as pd\n",
        "from sklearn.model_selection import train_test_split"
      ]
    },
    {
      "cell_type": "markdown",
      "metadata": {
        "id": "2YNSNw8D71E8"
      },
      "source": [
        "## **Dataset**\n",
        "\n"
      ]
    },
    {
      "cell_type": "code",
      "execution_count": null,
      "metadata": {
        "id": "I_7dQOTs7f_l"
      },
      "outputs": [],
      "source": [
        "all_images = os.listdir(params.bad_images) + os.listdir(params.good_images)"
      ]
    },
    {
      "cell_type": "code",
      "execution_count": null,
      "metadata": {
        "id": "4EB4MYX1-a9E"
      },
      "outputs": [],
      "source": [
        "dataset = pd.DataFrame(\n",
        "    {\n",
        "        'images': [f\"{params.bad_images}/{x}\" for x in os.listdir(params.bad_images)] + [f\"{params.good_images}/{x}\" for x in os.listdir(params.good_images)],\n",
        "        'label': [0]*len(os.listdir(params.bad_images)) + [1]*len(os.listdir(params.good_images))\n",
        "    }\n",
        ")"
      ]
    },
    {
      "cell_type": "code",
      "execution_count": null,
      "metadata": {
        "colab": {
          "base_uri": "https://localhost:8080/",
          "height": 206
        },
        "id": "bqhFS149-bAZ",
        "outputId": "8ada11ab-dbaf-4c28-bf92-d5efc7141947"
      },
      "outputs": [
        {
          "data": {
            "application/vnd.google.colaboratory.intrinsic+json": {
              "summary": "{\n  \"name\": \"dataset\",\n  \"rows\": 455,\n  \"fields\": [\n    {\n      \"column\": \"images\",\n      \"properties\": {\n        \"dtype\": \"string\",\n        \"num_unique_values\": 455,\n        \"samples\": [\n          \"/content/drive/MyDrive/Project/Good/IMG_20240211_003057.jpg\",\n          \"/content/drive/MyDrive/Project/Bad/IMG_20240217_130930.jpg\",\n          \"/content/drive/MyDrive/Project/Good/IMG_20240211_005047.jpg\"\n        ],\n        \"semantic_type\": \"\",\n        \"description\": \"\"\n      }\n    },\n    {\n      \"column\": \"label\",\n      \"properties\": {\n        \"dtype\": \"number\",\n        \"std\": 0,\n        \"min\": 0,\n        \"max\": 1,\n        \"num_unique_values\": 2,\n        \"samples\": [\n          1,\n          0\n        ],\n        \"semantic_type\": \"\",\n        \"description\": \"\"\n      }\n    }\n  ]\n}",
              "type": "dataframe",
              "variable_name": "dataset"
            },
            "text/html": [
              "\n",
              "  <div id=\"df-6184d610-0231-4360-8158-446d114f10a1\" class=\"colab-df-container\">\n",
              "    <div>\n",
              "<style scoped>\n",
              "    .dataframe tbody tr th:only-of-type {\n",
              "        vertical-align: middle;\n",
              "    }\n",
              "\n",
              "    .dataframe tbody tr th {\n",
              "        vertical-align: top;\n",
              "    }\n",
              "\n",
              "    .dataframe thead th {\n",
              "        text-align: right;\n",
              "    }\n",
              "</style>\n",
              "<table border=\"1\" class=\"dataframe\">\n",
              "  <thead>\n",
              "    <tr style=\"text-align: right;\">\n",
              "      <th></th>\n",
              "      <th>images</th>\n",
              "      <th>label</th>\n",
              "    </tr>\n",
              "  </thead>\n",
              "  <tbody>\n",
              "    <tr>\n",
              "      <th>0</th>\n",
              "      <td>/content/drive/MyDrive/Project/Bad/IMG_2024021...</td>\n",
              "      <td>0</td>\n",
              "    </tr>\n",
              "    <tr>\n",
              "      <th>1</th>\n",
              "      <td>/content/drive/MyDrive/Project/Bad/IMG_2024021...</td>\n",
              "      <td>0</td>\n",
              "    </tr>\n",
              "    <tr>\n",
              "      <th>2</th>\n",
              "      <td>/content/drive/MyDrive/Project/Bad/IMG_2024021...</td>\n",
              "      <td>0</td>\n",
              "    </tr>\n",
              "    <tr>\n",
              "      <th>3</th>\n",
              "      <td>/content/drive/MyDrive/Project/Bad/IMG_2024021...</td>\n",
              "      <td>0</td>\n",
              "    </tr>\n",
              "    <tr>\n",
              "      <th>4</th>\n",
              "      <td>/content/drive/MyDrive/Project/Bad/IMG_2024021...</td>\n",
              "      <td>0</td>\n",
              "    </tr>\n",
              "  </tbody>\n",
              "</table>\n",
              "</div>\n",
              "    <div class=\"colab-df-buttons\">\n",
              "\n",
              "  <div class=\"colab-df-container\">\n",
              "    <button class=\"colab-df-convert\" onclick=\"convertToInteractive('df-6184d610-0231-4360-8158-446d114f10a1')\"\n",
              "            title=\"Convert this dataframe to an interactive table.\"\n",
              "            style=\"display:none;\">\n",
              "\n",
              "  <svg xmlns=\"http://www.w3.org/2000/svg\" height=\"24px\" viewBox=\"0 -960 960 960\">\n",
              "    <path d=\"M120-120v-720h720v720H120Zm60-500h600v-160H180v160Zm220 220h160v-160H400v160Zm0 220h160v-160H400v160ZM180-400h160v-160H180v160Zm440 0h160v-160H620v160ZM180-180h160v-160H180v160Zm440 0h160v-160H620v160Z\"/>\n",
              "  </svg>\n",
              "    </button>\n",
              "\n",
              "  <style>\n",
              "    .colab-df-container {\n",
              "      display:flex;\n",
              "      gap: 12px;\n",
              "    }\n",
              "\n",
              "    .colab-df-convert {\n",
              "      background-color: #E8F0FE;\n",
              "      border: none;\n",
              "      border-radius: 50%;\n",
              "      cursor: pointer;\n",
              "      display: none;\n",
              "      fill: #1967D2;\n",
              "      height: 32px;\n",
              "      padding: 0 0 0 0;\n",
              "      width: 32px;\n",
              "    }\n",
              "\n",
              "    .colab-df-convert:hover {\n",
              "      background-color: #E2EBFA;\n",
              "      box-shadow: 0px 1px 2px rgba(60, 64, 67, 0.3), 0px 1px 3px 1px rgba(60, 64, 67, 0.15);\n",
              "      fill: #174EA6;\n",
              "    }\n",
              "\n",
              "    .colab-df-buttons div {\n",
              "      margin-bottom: 4px;\n",
              "    }\n",
              "\n",
              "    [theme=dark] .colab-df-convert {\n",
              "      background-color: #3B4455;\n",
              "      fill: #D2E3FC;\n",
              "    }\n",
              "\n",
              "    [theme=dark] .colab-df-convert:hover {\n",
              "      background-color: #434B5C;\n",
              "      box-shadow: 0px 1px 3px 1px rgba(0, 0, 0, 0.15);\n",
              "      filter: drop-shadow(0px 1px 2px rgba(0, 0, 0, 0.3));\n",
              "      fill: #FFFFFF;\n",
              "    }\n",
              "  </style>\n",
              "\n",
              "    <script>\n",
              "      const buttonEl =\n",
              "        document.querySelector('#df-6184d610-0231-4360-8158-446d114f10a1 button.colab-df-convert');\n",
              "      buttonEl.style.display =\n",
              "        google.colab.kernel.accessAllowed ? 'block' : 'none';\n",
              "\n",
              "      async function convertToInteractive(key) {\n",
              "        const element = document.querySelector('#df-6184d610-0231-4360-8158-446d114f10a1');\n",
              "        const dataTable =\n",
              "          await google.colab.kernel.invokeFunction('convertToInteractive',\n",
              "                                                    [key], {});\n",
              "        if (!dataTable) return;\n",
              "\n",
              "        const docLinkHtml = 'Like what you see? Visit the ' +\n",
              "          '<a target=\"_blank\" href=https://colab.research.google.com/notebooks/data_table.ipynb>data table notebook</a>'\n",
              "          + ' to learn more about interactive tables.';\n",
              "        element.innerHTML = '';\n",
              "        dataTable['output_type'] = 'display_data';\n",
              "        await google.colab.output.renderOutput(dataTable, element);\n",
              "        const docLink = document.createElement('div');\n",
              "        docLink.innerHTML = docLinkHtml;\n",
              "        element.appendChild(docLink);\n",
              "      }\n",
              "    </script>\n",
              "  </div>\n",
              "\n",
              "\n",
              "<div id=\"df-82f9b641-4804-4e05-9af9-fd50eaa0da15\">\n",
              "  <button class=\"colab-df-quickchart\" onclick=\"quickchart('df-82f9b641-4804-4e05-9af9-fd50eaa0da15')\"\n",
              "            title=\"Suggest charts\"\n",
              "            style=\"display:none;\">\n",
              "\n",
              "<svg xmlns=\"http://www.w3.org/2000/svg\" height=\"24px\"viewBox=\"0 0 24 24\"\n",
              "     width=\"24px\">\n",
              "    <g>\n",
              "        <path d=\"M19 3H5c-1.1 0-2 .9-2 2v14c0 1.1.9 2 2 2h14c1.1 0 2-.9 2-2V5c0-1.1-.9-2-2-2zM9 17H7v-7h2v7zm4 0h-2V7h2v10zm4 0h-2v-4h2v4z\"/>\n",
              "    </g>\n",
              "</svg>\n",
              "  </button>\n",
              "\n",
              "<style>\n",
              "  .colab-df-quickchart {\n",
              "      --bg-color: #E8F0FE;\n",
              "      --fill-color: #1967D2;\n",
              "      --hover-bg-color: #E2EBFA;\n",
              "      --hover-fill-color: #174EA6;\n",
              "      --disabled-fill-color: #AAA;\n",
              "      --disabled-bg-color: #DDD;\n",
              "  }\n",
              "\n",
              "  [theme=dark] .colab-df-quickchart {\n",
              "      --bg-color: #3B4455;\n",
              "      --fill-color: #D2E3FC;\n",
              "      --hover-bg-color: #434B5C;\n",
              "      --hover-fill-color: #FFFFFF;\n",
              "      --disabled-bg-color: #3B4455;\n",
              "      --disabled-fill-color: #666;\n",
              "  }\n",
              "\n",
              "  .colab-df-quickchart {\n",
              "    background-color: var(--bg-color);\n",
              "    border: none;\n",
              "    border-radius: 50%;\n",
              "    cursor: pointer;\n",
              "    display: none;\n",
              "    fill: var(--fill-color);\n",
              "    height: 32px;\n",
              "    padding: 0;\n",
              "    width: 32px;\n",
              "  }\n",
              "\n",
              "  .colab-df-quickchart:hover {\n",
              "    background-color: var(--hover-bg-color);\n",
              "    box-shadow: 0 1px 2px rgba(60, 64, 67, 0.3), 0 1px 3px 1px rgba(60, 64, 67, 0.15);\n",
              "    fill: var(--button-hover-fill-color);\n",
              "  }\n",
              "\n",
              "  .colab-df-quickchart-complete:disabled,\n",
              "  .colab-df-quickchart-complete:disabled:hover {\n",
              "    background-color: var(--disabled-bg-color);\n",
              "    fill: var(--disabled-fill-color);\n",
              "    box-shadow: none;\n",
              "  }\n",
              "\n",
              "  .colab-df-spinner {\n",
              "    border: 2px solid var(--fill-color);\n",
              "    border-color: transparent;\n",
              "    border-bottom-color: var(--fill-color);\n",
              "    animation:\n",
              "      spin 1s steps(1) infinite;\n",
              "  }\n",
              "\n",
              "  @keyframes spin {\n",
              "    0% {\n",
              "      border-color: transparent;\n",
              "      border-bottom-color: var(--fill-color);\n",
              "      border-left-color: var(--fill-color);\n",
              "    }\n",
              "    20% {\n",
              "      border-color: transparent;\n",
              "      border-left-color: var(--fill-color);\n",
              "      border-top-color: var(--fill-color);\n",
              "    }\n",
              "    30% {\n",
              "      border-color: transparent;\n",
              "      border-left-color: var(--fill-color);\n",
              "      border-top-color: var(--fill-color);\n",
              "      border-right-color: var(--fill-color);\n",
              "    }\n",
              "    40% {\n",
              "      border-color: transparent;\n",
              "      border-right-color: var(--fill-color);\n",
              "      border-top-color: var(--fill-color);\n",
              "    }\n",
              "    60% {\n",
              "      border-color: transparent;\n",
              "      border-right-color: var(--fill-color);\n",
              "    }\n",
              "    80% {\n",
              "      border-color: transparent;\n",
              "      border-right-color: var(--fill-color);\n",
              "      border-bottom-color: var(--fill-color);\n",
              "    }\n",
              "    90% {\n",
              "      border-color: transparent;\n",
              "      border-bottom-color: var(--fill-color);\n",
              "    }\n",
              "  }\n",
              "</style>\n",
              "\n",
              "  <script>\n",
              "    async function quickchart(key) {\n",
              "      const quickchartButtonEl =\n",
              "        document.querySelector('#' + key + ' button');\n",
              "      quickchartButtonEl.disabled = true;  // To prevent multiple clicks.\n",
              "      quickchartButtonEl.classList.add('colab-df-spinner');\n",
              "      try {\n",
              "        const charts = await google.colab.kernel.invokeFunction(\n",
              "            'suggestCharts', [key], {});\n",
              "      } catch (error) {\n",
              "        console.error('Error during call to suggestCharts:', error);\n",
              "      }\n",
              "      quickchartButtonEl.classList.remove('colab-df-spinner');\n",
              "      quickchartButtonEl.classList.add('colab-df-quickchart-complete');\n",
              "    }\n",
              "    (() => {\n",
              "      let quickchartButtonEl =\n",
              "        document.querySelector('#df-82f9b641-4804-4e05-9af9-fd50eaa0da15 button');\n",
              "      quickchartButtonEl.style.display =\n",
              "        google.colab.kernel.accessAllowed ? 'block' : 'none';\n",
              "    })();\n",
              "  </script>\n",
              "</div>\n",
              "\n",
              "    </div>\n",
              "  </div>\n"
            ],
            "text/plain": [
              "                                              images  label\n",
              "0  /content/drive/MyDrive/Project/Bad/IMG_2024021...      0\n",
              "1  /content/drive/MyDrive/Project/Bad/IMG_2024021...      0\n",
              "2  /content/drive/MyDrive/Project/Bad/IMG_2024021...      0\n",
              "3  /content/drive/MyDrive/Project/Bad/IMG_2024021...      0\n",
              "4  /content/drive/MyDrive/Project/Bad/IMG_2024021...      0"
            ]
          },
          "execution_count": 19,
          "metadata": {},
          "output_type": "execute_result"
        }
      ],
      "source": [
        "dataset.head()"
      ]
    },
    {
      "cell_type": "code",
      "execution_count": null,
      "metadata": {
        "colab": {
          "base_uri": "https://localhost:8080/"
        },
        "id": "ImjmXd6c-bDJ",
        "outputId": "c5a77e82-76af-4be8-a713-45e0aefa597d"
      },
      "outputs": [
        {
          "data": {
            "text/plain": [
              "label\n",
              "1    0.773626\n",
              "0    0.226374\n",
              "Name: proportion, dtype: float64"
            ]
          },
          "execution_count": 20,
          "metadata": {},
          "output_type": "execute_result"
        }
      ],
      "source": [
        "dataset['label'].value_counts(normalize = True)"
      ]
    },
    {
      "cell_type": "code",
      "execution_count": null,
      "metadata": {
        "id": "XYbkgc2M-bGM"
      },
      "outputs": [],
      "source": [
        "X = dataset['images']\n",
        "y = dataset['label']\n",
        "\n",
        "\n",
        "X_train, X_test, y_train, y_test = train_test_split(X, y, test_size = 0.2, stratify = y)"
      ]
    },
    {
      "cell_type": "code",
      "execution_count": null,
      "metadata": {
        "colab": {
          "base_uri": "https://localhost:8080/"
        },
        "id": "iejQPdSe7gCn",
        "outputId": "f2331fab-1e9a-4aed-8a78-8fc2b578b90e"
      },
      "outputs": [
        {
          "data": {
            "text/plain": [
              "((364,), (91,), (364,), (91,))"
            ]
          },
          "execution_count": 22,
          "metadata": {},
          "output_type": "execute_result"
        }
      ],
      "source": [
        "X_train.shape, X_test.shape, y_train.shape, y_test.shape"
      ]
    },
    {
      "cell_type": "code",
      "execution_count": null,
      "metadata": {
        "colab": {
          "base_uri": "https://localhost:8080/"
        },
        "id": "X24p1yhKELzF",
        "outputId": "0a909454-bbc4-488a-939f-706e7906527b"
      },
      "outputs": [
        {
          "data": {
            "text/plain": [
              "label\n",
              "1    0.774725\n",
              "0    0.225275\n",
              "Name: proportion, dtype: float64"
            ]
          },
          "execution_count": 23,
          "metadata": {},
          "output_type": "execute_result"
        }
      ],
      "source": [
        "y_train.value_counts(normalize = True)"
      ]
    },
    {
      "cell_type": "code",
      "execution_count": null,
      "metadata": {
        "colab": {
          "base_uri": "https://localhost:8080/"
        },
        "id": "ElKWl-IuEL2z",
        "outputId": "b9fbad48-128a-4a0a-c81b-66992f23a049"
      },
      "outputs": [
        {
          "data": {
            "text/plain": [
              "label\n",
              "1    0.769231\n",
              "0    0.230769\n",
              "Name: proportion, dtype: float64"
            ]
          },
          "execution_count": 24,
          "metadata": {},
          "output_type": "execute_result"
        }
      ],
      "source": [
        "y_test.value_counts(normalize = True)"
      ]
    },
    {
      "cell_type": "code",
      "execution_count": null,
      "metadata": {
        "id": "ZJxHMRyLEL5w"
      },
      "outputs": [],
      "source": []
    },
    {
      "cell_type": "markdown",
      "metadata": {
        "id": "Cg5Oq7pmAoB7"
      },
      "source": [
        "## **Feature Extration**"
      ]
    },
    {
      "cell_type": "code",
      "execution_count": null,
      "metadata": {
        "id": "sqBVwK3eAv4f"
      },
      "outputs": [],
      "source": [
        "import cv2\n",
        "import numpy as np\n",
        "from skimage.feature import greycomatrix, graycoprops, graycomatrix\n",
        "from skimage import io, color, img_as_ubyte\n",
        "from skimage.feature import local_binary_pattern\n",
        "from scipy.stats import skew, kurtosis\n",
        "from skimage.measure import shannon_entropy"
      ]
    },
    {
      "cell_type": "code",
      "execution_count": null,
      "metadata": {
        "id": "S7Ni-Tb20KfC"
      },
      "outputs": [],
      "source": [
        "def ExtractFeatures(image_ids):\n",
        "  \"\"\"\n",
        "  image_paths: Paths to the images\n",
        "  \"\"\"\n",
        "  import time\n",
        "  from tqdm import tqdm\n",
        "  import warnings\n",
        "  warnings.filterwarnings(\"ignore\")\n",
        "\n",
        "  features = {\"image_id\": [],\n",
        "                \"average_hue\":[],\n",
        "                \"average_saturation\": [],\n",
        "                \"average_value\" : [],\n",
        "                \"area\": [],\n",
        "                \"x\":[], \"y\":[],\n",
        "                \"w\":[], \"h\":[],\n",
        "                \"aspect_ratio\": [],\n",
        "                \"correlation\": [],\n",
        "                \"energy\":[],\n",
        "                \"contrast\":[],\n",
        "                \"homogeneity\":[]}\n",
        "\n",
        "  for image_id in tqdm(image_ids, desc=\"Processing\", unit=\"images\"):\n",
        "\n",
        "    features[\"image_id\"].append(image_id)\n",
        "    image = cv2.imread(image_id)\n",
        "    gray_image = cv2.cvtColor(image, cv2.COLOR_BGR2GRAY)\n",
        "    hsv = cv2.cvtColor(image, cv2.COLOR_BGR2GRAY)\n",
        "\n",
        "    # Color Features\n",
        "    average_color = np.mean(image, axis=(0, 1))\n",
        "    color_histogram = cv2.calcHist([image], [0, 1, 2], None, [256, 256, 256], [0, 256, 0, 256, 0, 256])\n",
        "    dominant_color = np.argmax(color_histogram)\n",
        "    color_variance = np.var(image)\n",
        "\n",
        "    # 1. Average color in HSV channels (Hue, Saturation, Value)\n",
        "    h, s, v,_ = cv2.mean(hsv)\n",
        "    features[\"average_hue\"].append(h)\n",
        "    features[\"average_saturation\"].append(s)\n",
        "    features[\"average_value\"].append(v)\n",
        "\n",
        "    # 3. Area of the tomato (assuming some segmentation is done beforehand)\n",
        "    # Replace this with your segmentation method (e.g., Otsu's thresholding)\n",
        "    # This is a placeholder for demonstration purposes\n",
        "    gray = cv2.cvtColor(image, cv2.COLOR_BGR2GRAY)\n",
        "    _, binary = cv2.threshold(gray, 127, 255, cv2.THRESH_BINARY_INV)\n",
        "    contours, _ = cv2.findContours(binary, cv2.RETR_EXTERNAL, cv2.CHAIN_APPROX_SIMPLE)\n",
        "\n",
        "    if len(contours) > 0:\n",
        "        largest_area = cv2.contourArea(contours[0])\n",
        "        for cnt in contours:\n",
        "          area = cv2.contourArea(cnt)\n",
        "          if area > largest_area:\n",
        "            largest_area = area\n",
        "    else:\n",
        "        largest_area = 0\n",
        "    features[\"area\"].append(largest_area)\n",
        "    cnt = max(contours, key=cv2.contourArea)\n",
        "\n",
        "    area = cv2.contourArea(cnt)\n",
        "    perimeter = cv2.arcLength(cnt, True)\n",
        "    (x, y, w, h) = cv2.boundingRect(cnt)\n",
        "    aspect_ratio = float(w) / h\n",
        "\n",
        "    features[\"w\"].append(w)\n",
        "    features[\"h\"].append(h)\n",
        "    features[\"x\"].append(x)\n",
        "    features[\"y\"].append(y)\n",
        "    features[\"aspect_ratio\"].append(aspect_ratio)\n",
        "\n",
        "    glcm = graycomatrix(gray_image, [1], [0, np.pi/4, np.pi/2, 3*np.pi/4], levels=256, symmetric=True, normed=True)\n",
        "    contrast = graycoprops(glcm, 'contrast')\n",
        "    homogeneity = graycoprops(glcm, 'homogeneity')\n",
        "    energy = graycoprops(glcm, 'energy')\n",
        "    correlation = graycoprops(glcm, 'correlation')\n",
        "\n",
        "    features[\"correlation\"].append(correlation.mean())\n",
        "    features[\"energy\"].append(energy.mean())\n",
        "    features[\"contrast\"].append(contrast.mean())\n",
        "    features[\"homogeneity\"].append(homogeneity.mean())\n",
        "\n",
        "  return pd.DataFrame(features)"
      ]
    },
    {
      "cell_type": "code",
      "execution_count": null,
      "metadata": {
        "colab": {
          "base_uri": "https://localhost:8080/",
          "height": 333
        },
        "id": "7URUcgzt4SBZ",
        "outputId": "ec82fb60-e35d-48d6-b8a4-1cbca5043a64"
      },
      "outputs": [
        {
          "name": "stderr",
          "output_type": "stream",
          "text": [
            "Processing:   6%|▌         | 22/364 [02:16<35:27,  6.22s/images]\n"
          ]
        },
        {
          "ename": "KeyboardInterrupt",
          "evalue": "",
          "output_type": "error",
          "traceback": [
            "\u001b[0;31m---------------------------------------------------------------------------\u001b[0m",
            "\u001b[0;31mKeyboardInterrupt\u001b[0m                         Traceback (most recent call last)",
            "\u001b[0;32m<ipython-input-27-931fb588a53d>\u001b[0m in \u001b[0;36m<cell line: 2>\u001b[0;34m()\u001b[0m\n\u001b[1;32m      1\u001b[0m \u001b[0;31m## Extracting Training Dataset\u001b[0m\u001b[0;34m\u001b[0m\u001b[0;34m\u001b[0m\u001b[0m\n\u001b[0;32m----> 2\u001b[0;31m \u001b[0mfeatures_df\u001b[0m \u001b[0;34m=\u001b[0m \u001b[0mExtractFeatures\u001b[0m\u001b[0;34m(\u001b[0m\u001b[0mimage_ids\u001b[0m \u001b[0;34m=\u001b[0m \u001b[0mX_train\u001b[0m\u001b[0;34m.\u001b[0m\u001b[0mvalues\u001b[0m\u001b[0;34m)\u001b[0m\u001b[0;34m\u001b[0m\u001b[0;34m\u001b[0m\u001b[0m\n\u001b[0m",
            "\u001b[0;32m<ipython-input-26-d05352bfb4f9>\u001b[0m in \u001b[0;36mExtractFeatures\u001b[0;34m(image_ids)\u001b[0m\n\u001b[1;32m     29\u001b[0m \u001b[0;34m\u001b[0m\u001b[0m\n\u001b[1;32m     30\u001b[0m     \u001b[0;31m# Color Features\u001b[0m\u001b[0;34m\u001b[0m\u001b[0;34m\u001b[0m\u001b[0m\n\u001b[0;32m---> 31\u001b[0;31m     \u001b[0maverage_color\u001b[0m \u001b[0;34m=\u001b[0m \u001b[0mnp\u001b[0m\u001b[0;34m.\u001b[0m\u001b[0mmean\u001b[0m\u001b[0;34m(\u001b[0m\u001b[0mimage\u001b[0m\u001b[0;34m,\u001b[0m \u001b[0maxis\u001b[0m\u001b[0;34m=\u001b[0m\u001b[0;34m(\u001b[0m\u001b[0;36m0\u001b[0m\u001b[0;34m,\u001b[0m \u001b[0;36m1\u001b[0m\u001b[0;34m)\u001b[0m\u001b[0;34m)\u001b[0m\u001b[0;34m\u001b[0m\u001b[0;34m\u001b[0m\u001b[0m\n\u001b[0m\u001b[1;32m     32\u001b[0m     \u001b[0mcolor_histogram\u001b[0m \u001b[0;34m=\u001b[0m \u001b[0mcv2\u001b[0m\u001b[0;34m.\u001b[0m\u001b[0mcalcHist\u001b[0m\u001b[0;34m(\u001b[0m\u001b[0;34m[\u001b[0m\u001b[0mimage\u001b[0m\u001b[0;34m]\u001b[0m\u001b[0;34m,\u001b[0m \u001b[0;34m[\u001b[0m\u001b[0;36m0\u001b[0m\u001b[0;34m,\u001b[0m \u001b[0;36m1\u001b[0m\u001b[0;34m,\u001b[0m \u001b[0;36m2\u001b[0m\u001b[0;34m]\u001b[0m\u001b[0;34m,\u001b[0m \u001b[0;32mNone\u001b[0m\u001b[0;34m,\u001b[0m \u001b[0;34m[\u001b[0m\u001b[0;36m256\u001b[0m\u001b[0;34m,\u001b[0m \u001b[0;36m256\u001b[0m\u001b[0;34m,\u001b[0m \u001b[0;36m256\u001b[0m\u001b[0;34m]\u001b[0m\u001b[0;34m,\u001b[0m \u001b[0;34m[\u001b[0m\u001b[0;36m0\u001b[0m\u001b[0;34m,\u001b[0m \u001b[0;36m256\u001b[0m\u001b[0;34m,\u001b[0m \u001b[0;36m0\u001b[0m\u001b[0;34m,\u001b[0m \u001b[0;36m256\u001b[0m\u001b[0;34m,\u001b[0m \u001b[0;36m0\u001b[0m\u001b[0;34m,\u001b[0m \u001b[0;36m256\u001b[0m\u001b[0;34m]\u001b[0m\u001b[0;34m)\u001b[0m\u001b[0;34m\u001b[0m\u001b[0;34m\u001b[0m\u001b[0m\n\u001b[1;32m     33\u001b[0m     \u001b[0mdominant_color\u001b[0m \u001b[0;34m=\u001b[0m \u001b[0mnp\u001b[0m\u001b[0;34m.\u001b[0m\u001b[0margmax\u001b[0m\u001b[0;34m(\u001b[0m\u001b[0mcolor_histogram\u001b[0m\u001b[0;34m)\u001b[0m\u001b[0;34m\u001b[0m\u001b[0;34m\u001b[0m\u001b[0m\n",
            "\u001b[0;32m/usr/local/lib/python3.10/dist-packages/numpy/core/fromnumeric.py\u001b[0m in \u001b[0;36mmean\u001b[0;34m(a, axis, dtype, out, keepdims, where)\u001b[0m\n\u001b[1;32m   3502\u001b[0m             \u001b[0;32mreturn\u001b[0m \u001b[0mmean\u001b[0m\u001b[0;34m(\u001b[0m\u001b[0maxis\u001b[0m\u001b[0;34m=\u001b[0m\u001b[0maxis\u001b[0m\u001b[0;34m,\u001b[0m \u001b[0mdtype\u001b[0m\u001b[0;34m=\u001b[0m\u001b[0mdtype\u001b[0m\u001b[0;34m,\u001b[0m \u001b[0mout\u001b[0m\u001b[0;34m=\u001b[0m\u001b[0mout\u001b[0m\u001b[0;34m,\u001b[0m \u001b[0;34m**\u001b[0m\u001b[0mkwargs\u001b[0m\u001b[0;34m)\u001b[0m\u001b[0;34m\u001b[0m\u001b[0;34m\u001b[0m\u001b[0m\n\u001b[1;32m   3503\u001b[0m \u001b[0;34m\u001b[0m\u001b[0m\n\u001b[0;32m-> 3504\u001b[0;31m     return _methods._mean(a, axis=axis, dtype=dtype,\n\u001b[0m\u001b[1;32m   3505\u001b[0m                           out=out, **kwargs)\n\u001b[1;32m   3506\u001b[0m \u001b[0;34m\u001b[0m\u001b[0m\n",
            "\u001b[0;32m/usr/local/lib/python3.10/dist-packages/numpy/core/_methods.py\u001b[0m in \u001b[0;36m_mean\u001b[0;34m(a, axis, dtype, out, keepdims, where)\u001b[0m\n\u001b[1;32m    116\u001b[0m             \u001b[0mis_float16_result\u001b[0m \u001b[0;34m=\u001b[0m \u001b[0;32mTrue\u001b[0m\u001b[0;34m\u001b[0m\u001b[0;34m\u001b[0m\u001b[0m\n\u001b[1;32m    117\u001b[0m \u001b[0;34m\u001b[0m\u001b[0m\n\u001b[0;32m--> 118\u001b[0;31m     \u001b[0mret\u001b[0m \u001b[0;34m=\u001b[0m \u001b[0mumr_sum\u001b[0m\u001b[0;34m(\u001b[0m\u001b[0marr\u001b[0m\u001b[0;34m,\u001b[0m \u001b[0maxis\u001b[0m\u001b[0;34m,\u001b[0m \u001b[0mdtype\u001b[0m\u001b[0;34m,\u001b[0m \u001b[0mout\u001b[0m\u001b[0;34m,\u001b[0m \u001b[0mkeepdims\u001b[0m\u001b[0;34m,\u001b[0m \u001b[0mwhere\u001b[0m\u001b[0;34m=\u001b[0m\u001b[0mwhere\u001b[0m\u001b[0;34m)\u001b[0m\u001b[0;34m\u001b[0m\u001b[0;34m\u001b[0m\u001b[0m\n\u001b[0m\u001b[1;32m    119\u001b[0m     \u001b[0;32mif\u001b[0m \u001b[0misinstance\u001b[0m\u001b[0;34m(\u001b[0m\u001b[0mret\u001b[0m\u001b[0;34m,\u001b[0m \u001b[0mmu\u001b[0m\u001b[0;34m.\u001b[0m\u001b[0mndarray\u001b[0m\u001b[0;34m)\u001b[0m\u001b[0;34m:\u001b[0m\u001b[0;34m\u001b[0m\u001b[0;34m\u001b[0m\u001b[0m\n\u001b[1;32m    120\u001b[0m         \u001b[0;32mwith\u001b[0m \u001b[0m_no_nep50_warning\u001b[0m\u001b[0;34m(\u001b[0m\u001b[0;34m)\u001b[0m\u001b[0;34m:\u001b[0m\u001b[0;34m\u001b[0m\u001b[0;34m\u001b[0m\u001b[0m\n",
            "\u001b[0;31mKeyboardInterrupt\u001b[0m: "
          ]
        }
      ],
      "source": [
        "## Extracting Training Dataset\n",
        "features_df = ExtractFeatures(image_ids = X_train.values)"
      ]
    },
    {
      "cell_type": "code",
      "execution_count": null,
      "metadata": {
        "colab": {
          "base_uri": "https://localhost:8080/",
          "height": 226
        },
        "id": "vDFqE6EyizU0",
        "outputId": "13cef656-3a5e-4d99-f6a2-2ba2ee8728c5"
      },
      "outputs": [
        {
          "data": {
            "application/vnd.google.colaboratory.intrinsic+json": {
              "summary": "{\n  \"name\": \"features_df\",\n  \"rows\": 364,\n  \"fields\": [\n    {\n      \"column\": \"image_id\",\n      \"properties\": {\n        \"dtype\": \"string\",\n        \"num_unique_values\": 364,\n        \"samples\": [\n          \"/content/drive/MyDrive/Project/Good/IMG_20240211_005523.jpg\",\n          \"/content/drive/MyDrive/Project/Good/IMG_20240211_005331.jpg\",\n          \"/content/drive/MyDrive/Project/Good/IMG_20240211_005035.jpg\"\n        ],\n        \"semantic_type\": \"\",\n        \"description\": \"\"\n      }\n    },\n    {\n      \"column\": \"average_hue\",\n      \"properties\": {\n        \"dtype\": \"number\",\n        \"std\": 8.917800832193441,\n        \"min\": 153.3291836009306,\n        \"max\": 203.65981680676828,\n        \"num_unique_values\": 364,\n        \"samples\": [\n          183.09291720920137,\n          175.2231936984592,\n          184.08500816993464\n        ],\n        \"semantic_type\": \"\",\n        \"description\": \"\"\n      }\n    },\n    {\n      \"column\": \"average_saturation\",\n      \"properties\": {\n        \"dtype\": \"number\",\n        \"std\": 0.0,\n        \"min\": 0.0,\n        \"max\": 0.0,\n        \"num_unique_values\": 1,\n        \"samples\": [\n          0.0\n        ],\n        \"semantic_type\": \"\",\n        \"description\": \"\"\n      }\n    },\n    {\n      \"column\": \"average_value\",\n      \"properties\": {\n        \"dtype\": \"number\",\n        \"std\": 0.0,\n        \"min\": 0.0,\n        \"max\": 0.0,\n        \"num_unique_values\": 1,\n        \"samples\": [\n          0.0\n        ],\n        \"semantic_type\": \"\",\n        \"description\": \"\"\n      }\n    },\n    {\n      \"column\": \"area\",\n      \"properties\": {\n        \"dtype\": \"number\",\n        \"std\": 3830467.7079624604,\n        \"min\": 348592.0,\n        \"max\": 21800064.5,\n        \"num_unique_values\": 364,\n        \"samples\": [\n          4562180.0\n        ],\n        \"semantic_type\": \"\",\n        \"description\": \"\"\n      }\n    },\n    {\n      \"column\": \"x\",\n      \"properties\": {\n        \"dtype\": \"number\",\n        \"std\": 501,\n        \"min\": 0,\n        \"max\": 3715,\n        \"num_unique_values\": 328,\n        \"samples\": [\n          1574\n        ],\n        \"semantic_type\": \"\",\n        \"description\": \"\"\n      }\n    },\n    {\n      \"column\": \"y\",\n      \"properties\": {\n        \"dtype\": \"number\",\n        \"std\": 852,\n        \"min\": 0,\n        \"max\": 5921,\n        \"num_unique_values\": 343,\n        \"samples\": [\n          2710\n        ],\n        \"semantic_type\": \"\",\n        \"description\": \"\"\n      }\n    },\n    {\n      \"column\": \"w\",\n      \"properties\": {\n        \"dtype\": \"number\",\n        \"std\": 767,\n        \"min\": 1365,\n        \"max\": 5925,\n        \"num_unique_values\": 342,\n        \"samples\": [\n          2996\n        ],\n        \"semantic_type\": \"\",\n        \"description\": \"\"\n      }\n    },\n    {\n      \"column\": \"h\",\n      \"properties\": {\n        \"dtype\": \"number\",\n        \"std\": 921,\n        \"min\": 523,\n        \"max\": 7034,\n        \"num_unique_values\": 342,\n        \"samples\": [\n          2641\n        ],\n        \"semantic_type\": \"\",\n        \"description\": \"\"\n      }\n    },\n    {\n      \"column\": \"aspect_ratio\",\n      \"properties\": {\n        \"dtype\": \"number\",\n        \"std\": 0.273242018302495,\n        \"min\": 0.5063974978675007,\n        \"max\": 3.0018148820326678,\n        \"num_unique_values\": 364,\n        \"samples\": [\n          1.1675451807228916\n        ],\n        \"semantic_type\": \"\",\n        \"description\": \"\"\n      }\n    },\n    {\n      \"column\": \"correlation\",\n      \"properties\": {\n        \"dtype\": \"number\",\n        \"std\": 0.00013677966495631724,\n        \"min\": 0.9986909707725525,\n        \"max\": 0.9999242126080624,\n        \"num_unique_values\": 364,\n        \"samples\": [\n          0.9997717376432379\n        ],\n        \"semantic_type\": \"\",\n        \"description\": \"\"\n      }\n    },\n    {\n      \"column\": \"energy\",\n      \"properties\": {\n        \"dtype\": \"number\",\n        \"std\": 0.023284029757175344,\n        \"min\": 0.06944570771925075,\n        \"max\": 0.21252407526816752,\n        \"num_unique_values\": 364,\n        \"samples\": [\n          0.1158470970909847\n        ],\n        \"semantic_type\": \"\",\n        \"description\": \"\"\n      }\n    },\n    {\n      \"column\": \"contrast\",\n      \"properties\": {\n        \"dtype\": \"number\",\n        \"std\": 0.41911950050344615,\n        \"min\": 0.4572677642817041,\n        \"max\": 2.7544300541494895,\n        \"num_unique_values\": 364,\n        \"samples\": [\n          0.6006746168345786\n        ],\n        \"semantic_type\": \"\",\n        \"description\": \"\"\n      }\n    },\n    {\n      \"column\": \"homogeneity\",\n      \"properties\": {\n        \"dtype\": \"number\",\n        \"std\": 0.034102134612650783,\n        \"min\": 0.5747124178791292,\n        \"max\": 0.809252080361593,\n        \"num_unique_values\": 364,\n        \"samples\": [\n          0.78879303861177\n        ],\n        \"semantic_type\": \"\",\n        \"description\": \"\"\n      }\n    },\n    {\n      \"column\": \"quality\",\n      \"properties\": {\n        \"dtype\": \"number\",\n        \"std\": 0,\n        \"min\": 0,\n        \"max\": 1,\n        \"num_unique_values\": 2,\n        \"samples\": [\n          1\n        ],\n        \"semantic_type\": \"\",\n        \"description\": \"\"\n      }\n    }\n  ]\n}",
              "type": "dataframe",
              "variable_name": "features_df"
            },
            "text/html": [
              "\n",
              "  <div id=\"df-f0bba71c-8f60-4a92-a20f-0e9756e2048f\" class=\"colab-df-container\">\n",
              "    <div>\n",
              "<style scoped>\n",
              "    .dataframe tbody tr th:only-of-type {\n",
              "        vertical-align: middle;\n",
              "    }\n",
              "\n",
              "    .dataframe tbody tr th {\n",
              "        vertical-align: top;\n",
              "    }\n",
              "\n",
              "    .dataframe thead th {\n",
              "        text-align: right;\n",
              "    }\n",
              "</style>\n",
              "<table border=\"1\" class=\"dataframe\">\n",
              "  <thead>\n",
              "    <tr style=\"text-align: right;\">\n",
              "      <th></th>\n",
              "      <th>image_id</th>\n",
              "      <th>average_hue</th>\n",
              "      <th>average_saturation</th>\n",
              "      <th>average_value</th>\n",
              "      <th>area</th>\n",
              "      <th>x</th>\n",
              "      <th>y</th>\n",
              "      <th>w</th>\n",
              "      <th>h</th>\n",
              "      <th>aspect_ratio</th>\n",
              "      <th>correlation</th>\n",
              "      <th>energy</th>\n",
              "      <th>contrast</th>\n",
              "      <th>homogeneity</th>\n",
              "      <th>quality</th>\n",
              "    </tr>\n",
              "  </thead>\n",
              "  <tbody>\n",
              "    <tr>\n",
              "      <th>0</th>\n",
              "      <td>/content/drive/MyDrive/Project/Bad/IMG_2024021...</td>\n",
              "      <td>171.740116</td>\n",
              "      <td>0.0</td>\n",
              "      <td>0.0</td>\n",
              "      <td>10423027.5</td>\n",
              "      <td>672</td>\n",
              "      <td>1979</td>\n",
              "      <td>3593</td>\n",
              "      <td>4089</td>\n",
              "      <td>0.878699</td>\n",
              "      <td>0.999776</td>\n",
              "      <td>0.102137</td>\n",
              "      <td>1.368497</td>\n",
              "      <td>0.761298</td>\n",
              "      <td>0</td>\n",
              "    </tr>\n",
              "    <tr>\n",
              "      <th>1</th>\n",
              "      <td>/content/drive/MyDrive/Project/Good/IMG_202402...</td>\n",
              "      <td>181.174462</td>\n",
              "      <td>0.0</td>\n",
              "      <td>0.0</td>\n",
              "      <td>10067058.5</td>\n",
              "      <td>1631</td>\n",
              "      <td>2906</td>\n",
              "      <td>3162</td>\n",
              "      <td>4217</td>\n",
              "      <td>0.749822</td>\n",
              "      <td>0.999882</td>\n",
              "      <td>0.111418</td>\n",
              "      <td>0.615052</td>\n",
              "      <td>0.777823</td>\n",
              "      <td>1</td>\n",
              "    </tr>\n",
              "    <tr>\n",
              "      <th>2</th>\n",
              "      <td>/content/drive/MyDrive/Project/Good/IMG_202402...</td>\n",
              "      <td>172.587475</td>\n",
              "      <td>0.0</td>\n",
              "      <td>0.0</td>\n",
              "      <td>14213498.0</td>\n",
              "      <td>1684</td>\n",
              "      <td>1716</td>\n",
              "      <td>3660</td>\n",
              "      <td>5086</td>\n",
              "      <td>0.719622</td>\n",
              "      <td>0.999803</td>\n",
              "      <td>0.106929</td>\n",
              "      <td>1.268606</td>\n",
              "      <td>0.764490</td>\n",
              "      <td>1</td>\n",
              "    </tr>\n",
              "    <tr>\n",
              "      <th>3</th>\n",
              "      <td>/content/drive/MyDrive/Project/Good/IMG_202402...</td>\n",
              "      <td>179.551992</td>\n",
              "      <td>0.0</td>\n",
              "      <td>0.0</td>\n",
              "      <td>11838790.0</td>\n",
              "      <td>994</td>\n",
              "      <td>2563</td>\n",
              "      <td>4087</td>\n",
              "      <td>4166</td>\n",
              "      <td>0.981037</td>\n",
              "      <td>0.999852</td>\n",
              "      <td>0.122994</td>\n",
              "      <td>0.700893</td>\n",
              "      <td>0.787451</td>\n",
              "      <td>1</td>\n",
              "    </tr>\n",
              "    <tr>\n",
              "      <th>4</th>\n",
              "      <td>/content/drive/MyDrive/Project/Bad/IMG_2024021...</td>\n",
              "      <td>193.934136</td>\n",
              "      <td>0.0</td>\n",
              "      <td>0.0</td>\n",
              "      <td>7494464.0</td>\n",
              "      <td>812</td>\n",
              "      <td>3247</td>\n",
              "      <td>3815</td>\n",
              "      <td>2973</td>\n",
              "      <td>1.283216</td>\n",
              "      <td>0.999512</td>\n",
              "      <td>0.183497</td>\n",
              "      <td>1.646527</td>\n",
              "      <td>0.747916</td>\n",
              "      <td>0</td>\n",
              "    </tr>\n",
              "  </tbody>\n",
              "</table>\n",
              "</div>\n",
              "    <div class=\"colab-df-buttons\">\n",
              "\n",
              "  <div class=\"colab-df-container\">\n",
              "    <button class=\"colab-df-convert\" onclick=\"convertToInteractive('df-f0bba71c-8f60-4a92-a20f-0e9756e2048f')\"\n",
              "            title=\"Convert this dataframe to an interactive table.\"\n",
              "            style=\"display:none;\">\n",
              "\n",
              "  <svg xmlns=\"http://www.w3.org/2000/svg\" height=\"24px\" viewBox=\"0 -960 960 960\">\n",
              "    <path d=\"M120-120v-720h720v720H120Zm60-500h600v-160H180v160Zm220 220h160v-160H400v160Zm0 220h160v-160H400v160ZM180-400h160v-160H180v160Zm440 0h160v-160H620v160ZM180-180h160v-160H180v160Zm440 0h160v-160H620v160Z\"/>\n",
              "  </svg>\n",
              "    </button>\n",
              "\n",
              "  <style>\n",
              "    .colab-df-container {\n",
              "      display:flex;\n",
              "      gap: 12px;\n",
              "    }\n",
              "\n",
              "    .colab-df-convert {\n",
              "      background-color: #E8F0FE;\n",
              "      border: none;\n",
              "      border-radius: 50%;\n",
              "      cursor: pointer;\n",
              "      display: none;\n",
              "      fill: #1967D2;\n",
              "      height: 32px;\n",
              "      padding: 0 0 0 0;\n",
              "      width: 32px;\n",
              "    }\n",
              "\n",
              "    .colab-df-convert:hover {\n",
              "      background-color: #E2EBFA;\n",
              "      box-shadow: 0px 1px 2px rgba(60, 64, 67, 0.3), 0px 1px 3px 1px rgba(60, 64, 67, 0.15);\n",
              "      fill: #174EA6;\n",
              "    }\n",
              "\n",
              "    .colab-df-buttons div {\n",
              "      margin-bottom: 4px;\n",
              "    }\n",
              "\n",
              "    [theme=dark] .colab-df-convert {\n",
              "      background-color: #3B4455;\n",
              "      fill: #D2E3FC;\n",
              "    }\n",
              "\n",
              "    [theme=dark] .colab-df-convert:hover {\n",
              "      background-color: #434B5C;\n",
              "      box-shadow: 0px 1px 3px 1px rgba(0, 0, 0, 0.15);\n",
              "      filter: drop-shadow(0px 1px 2px rgba(0, 0, 0, 0.3));\n",
              "      fill: #FFFFFF;\n",
              "    }\n",
              "  </style>\n",
              "\n",
              "    <script>\n",
              "      const buttonEl =\n",
              "        document.querySelector('#df-f0bba71c-8f60-4a92-a20f-0e9756e2048f button.colab-df-convert');\n",
              "      buttonEl.style.display =\n",
              "        google.colab.kernel.accessAllowed ? 'block' : 'none';\n",
              "\n",
              "      async function convertToInteractive(key) {\n",
              "        const element = document.querySelector('#df-f0bba71c-8f60-4a92-a20f-0e9756e2048f');\n",
              "        const dataTable =\n",
              "          await google.colab.kernel.invokeFunction('convertToInteractive',\n",
              "                                                    [key], {});\n",
              "        if (!dataTable) return;\n",
              "\n",
              "        const docLinkHtml = 'Like what you see? Visit the ' +\n",
              "          '<a target=\"_blank\" href=https://colab.research.google.com/notebooks/data_table.ipynb>data table notebook</a>'\n",
              "          + ' to learn more about interactive tables.';\n",
              "        element.innerHTML = '';\n",
              "        dataTable['output_type'] = 'display_data';\n",
              "        await google.colab.output.renderOutput(dataTable, element);\n",
              "        const docLink = document.createElement('div');\n",
              "        docLink.innerHTML = docLinkHtml;\n",
              "        element.appendChild(docLink);\n",
              "      }\n",
              "    </script>\n",
              "  </div>\n",
              "\n",
              "\n",
              "<div id=\"df-a447efee-b4c9-4ffb-a08b-a173746e7d61\">\n",
              "  <button class=\"colab-df-quickchart\" onclick=\"quickchart('df-a447efee-b4c9-4ffb-a08b-a173746e7d61')\"\n",
              "            title=\"Suggest charts\"\n",
              "            style=\"display:none;\">\n",
              "\n",
              "<svg xmlns=\"http://www.w3.org/2000/svg\" height=\"24px\"viewBox=\"0 0 24 24\"\n",
              "     width=\"24px\">\n",
              "    <g>\n",
              "        <path d=\"M19 3H5c-1.1 0-2 .9-2 2v14c0 1.1.9 2 2 2h14c1.1 0 2-.9 2-2V5c0-1.1-.9-2-2-2zM9 17H7v-7h2v7zm4 0h-2V7h2v10zm4 0h-2v-4h2v4z\"/>\n",
              "    </g>\n",
              "</svg>\n",
              "  </button>\n",
              "\n",
              "<style>\n",
              "  .colab-df-quickchart {\n",
              "      --bg-color: #E8F0FE;\n",
              "      --fill-color: #1967D2;\n",
              "      --hover-bg-color: #E2EBFA;\n",
              "      --hover-fill-color: #174EA6;\n",
              "      --disabled-fill-color: #AAA;\n",
              "      --disabled-bg-color: #DDD;\n",
              "  }\n",
              "\n",
              "  [theme=dark] .colab-df-quickchart {\n",
              "      --bg-color: #3B4455;\n",
              "      --fill-color: #D2E3FC;\n",
              "      --hover-bg-color: #434B5C;\n",
              "      --hover-fill-color: #FFFFFF;\n",
              "      --disabled-bg-color: #3B4455;\n",
              "      --disabled-fill-color: #666;\n",
              "  }\n",
              "\n",
              "  .colab-df-quickchart {\n",
              "    background-color: var(--bg-color);\n",
              "    border: none;\n",
              "    border-radius: 50%;\n",
              "    cursor: pointer;\n",
              "    display: none;\n",
              "    fill: var(--fill-color);\n",
              "    height: 32px;\n",
              "    padding: 0;\n",
              "    width: 32px;\n",
              "  }\n",
              "\n",
              "  .colab-df-quickchart:hover {\n",
              "    background-color: var(--hover-bg-color);\n",
              "    box-shadow: 0 1px 2px rgba(60, 64, 67, 0.3), 0 1px 3px 1px rgba(60, 64, 67, 0.15);\n",
              "    fill: var(--button-hover-fill-color);\n",
              "  }\n",
              "\n",
              "  .colab-df-quickchart-complete:disabled,\n",
              "  .colab-df-quickchart-complete:disabled:hover {\n",
              "    background-color: var(--disabled-bg-color);\n",
              "    fill: var(--disabled-fill-color);\n",
              "    box-shadow: none;\n",
              "  }\n",
              "\n",
              "  .colab-df-spinner {\n",
              "    border: 2px solid var(--fill-color);\n",
              "    border-color: transparent;\n",
              "    border-bottom-color: var(--fill-color);\n",
              "    animation:\n",
              "      spin 1s steps(1) infinite;\n",
              "  }\n",
              "\n",
              "  @keyframes spin {\n",
              "    0% {\n",
              "      border-color: transparent;\n",
              "      border-bottom-color: var(--fill-color);\n",
              "      border-left-color: var(--fill-color);\n",
              "    }\n",
              "    20% {\n",
              "      border-color: transparent;\n",
              "      border-left-color: var(--fill-color);\n",
              "      border-top-color: var(--fill-color);\n",
              "    }\n",
              "    30% {\n",
              "      border-color: transparent;\n",
              "      border-left-color: var(--fill-color);\n",
              "      border-top-color: var(--fill-color);\n",
              "      border-right-color: var(--fill-color);\n",
              "    }\n",
              "    40% {\n",
              "      border-color: transparent;\n",
              "      border-right-color: var(--fill-color);\n",
              "      border-top-color: var(--fill-color);\n",
              "    }\n",
              "    60% {\n",
              "      border-color: transparent;\n",
              "      border-right-color: var(--fill-color);\n",
              "    }\n",
              "    80% {\n",
              "      border-color: transparent;\n",
              "      border-right-color: var(--fill-color);\n",
              "      border-bottom-color: var(--fill-color);\n",
              "    }\n",
              "    90% {\n",
              "      border-color: transparent;\n",
              "      border-bottom-color: var(--fill-color);\n",
              "    }\n",
              "  }\n",
              "</style>\n",
              "\n",
              "  <script>\n",
              "    async function quickchart(key) {\n",
              "      const quickchartButtonEl =\n",
              "        document.querySelector('#' + key + ' button');\n",
              "      quickchartButtonEl.disabled = true;  // To prevent multiple clicks.\n",
              "      quickchartButtonEl.classList.add('colab-df-spinner');\n",
              "      try {\n",
              "        const charts = await google.colab.kernel.invokeFunction(\n",
              "            'suggestCharts', [key], {});\n",
              "      } catch (error) {\n",
              "        console.error('Error during call to suggestCharts:', error);\n",
              "      }\n",
              "      quickchartButtonEl.classList.remove('colab-df-spinner');\n",
              "      quickchartButtonEl.classList.add('colab-df-quickchart-complete');\n",
              "    }\n",
              "    (() => {\n",
              "      let quickchartButtonEl =\n",
              "        document.querySelector('#df-a447efee-b4c9-4ffb-a08b-a173746e7d61 button');\n",
              "      quickchartButtonEl.style.display =\n",
              "        google.colab.kernel.accessAllowed ? 'block' : 'none';\n",
              "    })();\n",
              "  </script>\n",
              "</div>\n",
              "\n",
              "    </div>\n",
              "  </div>\n"
            ],
            "text/plain": [
              "                                            image_id  average_hue  \\\n",
              "0  /content/drive/MyDrive/Project/Bad/IMG_2024021...   171.740116   \n",
              "1  /content/drive/MyDrive/Project/Good/IMG_202402...   181.174462   \n",
              "2  /content/drive/MyDrive/Project/Good/IMG_202402...   172.587475   \n",
              "3  /content/drive/MyDrive/Project/Good/IMG_202402...   179.551992   \n",
              "4  /content/drive/MyDrive/Project/Bad/IMG_2024021...   193.934136   \n",
              "\n",
              "   average_saturation  average_value        area     x     y     w     h  \\\n",
              "0                 0.0            0.0  10423027.5   672  1979  3593  4089   \n",
              "1                 0.0            0.0  10067058.5  1631  2906  3162  4217   \n",
              "2                 0.0            0.0  14213498.0  1684  1716  3660  5086   \n",
              "3                 0.0            0.0  11838790.0   994  2563  4087  4166   \n",
              "4                 0.0            0.0   7494464.0   812  3247  3815  2973   \n",
              "\n",
              "   aspect_ratio  correlation    energy  contrast  homogeneity  quality  \n",
              "0      0.878699     0.999776  0.102137  1.368497     0.761298        0  \n",
              "1      0.749822     0.999882  0.111418  0.615052     0.777823        1  \n",
              "2      0.719622     0.999803  0.106929  1.268606     0.764490        1  \n",
              "3      0.981037     0.999852  0.122994  0.700893     0.787451        1  \n",
              "4      1.283216     0.999512  0.183497  1.646527     0.747916        0  "
            ]
          },
          "execution_count": 26,
          "metadata": {},
          "output_type": "execute_result"
        }
      ],
      "source": [
        "features_df[\"quality\"] = y_train.values\n",
        "features_df.head()"
      ]
    },
    {
      "cell_type": "code",
      "execution_count": null,
      "metadata": {
        "id": "nTfzbO3cjZgk"
      },
      "outputs": [],
      "source": [
        "## Saving Training Dataset\n",
        "features_df.to_csv(f\"{params.csv_files}/Train.csv\", index = False)"
      ]
    },
    {
      "cell_type": "code",
      "execution_count": null,
      "metadata": {
        "colab": {
          "base_uri": "https://localhost:8080/"
        },
        "id": "fF5rlbAqby2h",
        "outputId": "ee93c1ac-d706-42de-ada1-28d4c1539759"
      },
      "outputs": [
        {
          "name": "stderr",
          "output_type": "stream",
          "text": [
            "Processing: 100%|██████████| 91/91 [07:18<00:00,  4.81s/images]\n"
          ]
        }
      ],
      "source": [
        "# ## Extracting Testing Dataset\n",
        "features_test = ExtractFeatures(image_ids = X_test.values)"
      ]
    },
    {
      "cell_type": "code",
      "execution_count": null,
      "metadata": {
        "colab": {
          "base_uri": "https://localhost:8080/",
          "height": 164
        },
        "id": "OW2sJYxxb_xl",
        "outputId": "3ad41fe4-a520-4d1e-9e8f-a9a85f03f28c"
      },
      "outputs": [
        {
          "ename": "NameError",
          "evalue": "name 'features_test' is not defined",
          "output_type": "error",
          "traceback": [
            "\u001b[0;31m---------------------------------------------------------------------------\u001b[0m",
            "\u001b[0;31mNameError\u001b[0m                                 Traceback (most recent call last)",
            "\u001b[0;32m<ipython-input-28-65ca6525e7e0>\u001b[0m in \u001b[0;36m<cell line: 1>\u001b[0;34m()\u001b[0m\n\u001b[0;32m----> 1\u001b[0;31m \u001b[0mfeatures_test\u001b[0m\u001b[0;34m[\u001b[0m\u001b[0;34m\"quality\"\u001b[0m\u001b[0;34m]\u001b[0m \u001b[0;34m=\u001b[0m \u001b[0my_test\u001b[0m\u001b[0;34m.\u001b[0m\u001b[0mvalues\u001b[0m\u001b[0;34m\u001b[0m\u001b[0;34m\u001b[0m\u001b[0m\n\u001b[0m\u001b[1;32m      2\u001b[0m \u001b[0mfeatures_test\u001b[0m\u001b[0;34m.\u001b[0m\u001b[0mhead\u001b[0m\u001b[0;34m(\u001b[0m\u001b[0;34m)\u001b[0m\u001b[0;34m\u001b[0m\u001b[0;34m\u001b[0m\u001b[0m\n",
            "\u001b[0;31mNameError\u001b[0m: name 'features_test' is not defined"
          ]
        }
      ],
      "source": [
        "features_test[\"quality\"] = y_test.values\n",
        "features_test.head()"
      ]
    },
    {
      "cell_type": "code",
      "execution_count": null,
      "metadata": {
        "id": "EaUsjS5Ib_0d"
      },
      "outputs": [],
      "source": [
        "# ## Saving Testing Dataset\n",
        "features_test.to_csv(f\"{params.csv_files}/Test.csv\", index = False)"
      ]
    },
    {
      "cell_type": "markdown",
      "metadata": {
        "id": "cjSFg4_xvK6X"
      },
      "source": [
        "## **Reading CSV Files**"
      ]
    },
    {
      "cell_type": "code",
      "execution_count": null,
      "metadata": {
        "id": "hGIp1k6NvKMi"
      },
      "outputs": [],
      "source": [
        "train_df = pd.read_csv(f\"{params.csv_files}/Train.csv\")\n",
        "test_df = pd.read_csv(f\"{params.csv_files}/Test.csv\")"
      ]
    },
    {
      "cell_type": "code",
      "execution_count": null,
      "metadata": {
        "colab": {
          "base_uri": "https://localhost:8080/"
        },
        "id": "5v1qeJXMvKP0",
        "outputId": "800453ff-1466-47b9-ccc5-0d9cbf1db95d"
      },
      "outputs": [
        {
          "data": {
            "text/plain": [
              "((364, 15), (91, 15))"
            ]
          },
          "execution_count": 29,
          "metadata": {},
          "output_type": "execute_result"
        }
      ],
      "source": [
        "train_df.shape, test_df.shape"
      ]
    },
    {
      "cell_type": "code",
      "execution_count": null,
      "metadata": {
        "colab": {
          "base_uri": "https://localhost:8080/",
          "height": 226
        },
        "id": "QMCpNAwTyK3X",
        "outputId": "aafbe2cb-0e37-4c6c-9579-2924d0cfdfec"
      },
      "outputs": [
        {
          "data": {
            "application/vnd.google.colaboratory.intrinsic+json": {
              "summary": "{\n  \"name\": \"train_df\",\n  \"rows\": 364,\n  \"fields\": [\n    {\n      \"column\": \"image_id\",\n      \"properties\": {\n        \"dtype\": \"string\",\n        \"num_unique_values\": 364,\n        \"samples\": [\n          \"/content/drive/MyDrive/Project/Good/IMG_20240211_005523.jpg\",\n          \"/content/drive/MyDrive/Project/Good/IMG_20240211_005331.jpg\",\n          \"/content/drive/MyDrive/Project/Good/IMG_20240211_005035.jpg\"\n        ],\n        \"semantic_type\": \"\",\n        \"description\": \"\"\n      }\n    },\n    {\n      \"column\": \"average_hue\",\n      \"properties\": {\n        \"dtype\": \"number\",\n        \"std\": 8.917800832193441,\n        \"min\": 153.3291836009306,\n        \"max\": 203.65981680676828,\n        \"num_unique_values\": 364,\n        \"samples\": [\n          183.09291720920135,\n          175.2231936984592,\n          184.08500816993464\n        ],\n        \"semantic_type\": \"\",\n        \"description\": \"\"\n      }\n    },\n    {\n      \"column\": \"average_saturation\",\n      \"properties\": {\n        \"dtype\": \"number\",\n        \"std\": 0.0,\n        \"min\": 0.0,\n        \"max\": 0.0,\n        \"num_unique_values\": 1,\n        \"samples\": [\n          0.0\n        ],\n        \"semantic_type\": \"\",\n        \"description\": \"\"\n      }\n    },\n    {\n      \"column\": \"average_value\",\n      \"properties\": {\n        \"dtype\": \"number\",\n        \"std\": 0.0,\n        \"min\": 0.0,\n        \"max\": 0.0,\n        \"num_unique_values\": 1,\n        \"samples\": [\n          0.0\n        ],\n        \"semantic_type\": \"\",\n        \"description\": \"\"\n      }\n    },\n    {\n      \"column\": \"area\",\n      \"properties\": {\n        \"dtype\": \"number\",\n        \"std\": 3830467.7079624604,\n        \"min\": 348592.0,\n        \"max\": 21800064.5,\n        \"num_unique_values\": 364,\n        \"samples\": [\n          4562180.0\n        ],\n        \"semantic_type\": \"\",\n        \"description\": \"\"\n      }\n    },\n    {\n      \"column\": \"x\",\n      \"properties\": {\n        \"dtype\": \"number\",\n        \"std\": 501,\n        \"min\": 0,\n        \"max\": 3715,\n        \"num_unique_values\": 328,\n        \"samples\": [\n          1574\n        ],\n        \"semantic_type\": \"\",\n        \"description\": \"\"\n      }\n    },\n    {\n      \"column\": \"y\",\n      \"properties\": {\n        \"dtype\": \"number\",\n        \"std\": 852,\n        \"min\": 0,\n        \"max\": 5921,\n        \"num_unique_values\": 343,\n        \"samples\": [\n          2710\n        ],\n        \"semantic_type\": \"\",\n        \"description\": \"\"\n      }\n    },\n    {\n      \"column\": \"w\",\n      \"properties\": {\n        \"dtype\": \"number\",\n        \"std\": 767,\n        \"min\": 1365,\n        \"max\": 5925,\n        \"num_unique_values\": 342,\n        \"samples\": [\n          2996\n        ],\n        \"semantic_type\": \"\",\n        \"description\": \"\"\n      }\n    },\n    {\n      \"column\": \"h\",\n      \"properties\": {\n        \"dtype\": \"number\",\n        \"std\": 921,\n        \"min\": 523,\n        \"max\": 7034,\n        \"num_unique_values\": 342,\n        \"samples\": [\n          2641\n        ],\n        \"semantic_type\": \"\",\n        \"description\": \"\"\n      }\n    },\n    {\n      \"column\": \"aspect_ratio\",\n      \"properties\": {\n        \"dtype\": \"number\",\n        \"std\": 0.273242018302495,\n        \"min\": 0.5063974978675007,\n        \"max\": 3.001814882032668,\n        \"num_unique_values\": 364,\n        \"samples\": [\n          1.1675451807228916\n        ],\n        \"semantic_type\": \"\",\n        \"description\": \"\"\n      }\n    },\n    {\n      \"column\": \"correlation\",\n      \"properties\": {\n        \"dtype\": \"number\",\n        \"std\": 0.00013677966495631656,\n        \"min\": 0.9986909707725524,\n        \"max\": 0.9999242126080624,\n        \"num_unique_values\": 364,\n        \"samples\": [\n          0.999771737643238\n        ],\n        \"semantic_type\": \"\",\n        \"description\": \"\"\n      }\n    },\n    {\n      \"column\": \"energy\",\n      \"properties\": {\n        \"dtype\": \"number\",\n        \"std\": 0.023284029757175344,\n        \"min\": 0.0694457077192507,\n        \"max\": 0.2125240752681675,\n        \"num_unique_values\": 364,\n        \"samples\": [\n          0.1158470970909847\n        ],\n        \"semantic_type\": \"\",\n        \"description\": \"\"\n      }\n    },\n    {\n      \"column\": \"contrast\",\n      \"properties\": {\n        \"dtype\": \"number\",\n        \"std\": 0.41911950050344615,\n        \"min\": 0.4572677642817041,\n        \"max\": 2.754430054149489,\n        \"num_unique_values\": 364,\n        \"samples\": [\n          0.6006746168345786\n        ],\n        \"semantic_type\": \"\",\n        \"description\": \"\"\n      }\n    },\n    {\n      \"column\": \"homogeneity\",\n      \"properties\": {\n        \"dtype\": \"number\",\n        \"std\": 0.034102134612650783,\n        \"min\": 0.5747124178791292,\n        \"max\": 0.809252080361593,\n        \"num_unique_values\": 364,\n        \"samples\": [\n          0.78879303861177\n        ],\n        \"semantic_type\": \"\",\n        \"description\": \"\"\n      }\n    },\n    {\n      \"column\": \"quality\",\n      \"properties\": {\n        \"dtype\": \"number\",\n        \"std\": 0,\n        \"min\": 0,\n        \"max\": 1,\n        \"num_unique_values\": 2,\n        \"samples\": [\n          1\n        ],\n        \"semantic_type\": \"\",\n        \"description\": \"\"\n      }\n    }\n  ]\n}",
              "type": "dataframe",
              "variable_name": "train_df"
            },
            "text/html": [
              "\n",
              "  <div id=\"df-9211617c-9ceb-4207-8cd3-003b6935be27\" class=\"colab-df-container\">\n",
              "    <div>\n",
              "<style scoped>\n",
              "    .dataframe tbody tr th:only-of-type {\n",
              "        vertical-align: middle;\n",
              "    }\n",
              "\n",
              "    .dataframe tbody tr th {\n",
              "        vertical-align: top;\n",
              "    }\n",
              "\n",
              "    .dataframe thead th {\n",
              "        text-align: right;\n",
              "    }\n",
              "</style>\n",
              "<table border=\"1\" class=\"dataframe\">\n",
              "  <thead>\n",
              "    <tr style=\"text-align: right;\">\n",
              "      <th></th>\n",
              "      <th>image_id</th>\n",
              "      <th>average_hue</th>\n",
              "      <th>average_saturation</th>\n",
              "      <th>average_value</th>\n",
              "      <th>area</th>\n",
              "      <th>x</th>\n",
              "      <th>y</th>\n",
              "      <th>w</th>\n",
              "      <th>h</th>\n",
              "      <th>aspect_ratio</th>\n",
              "      <th>correlation</th>\n",
              "      <th>energy</th>\n",
              "      <th>contrast</th>\n",
              "      <th>homogeneity</th>\n",
              "      <th>quality</th>\n",
              "    </tr>\n",
              "  </thead>\n",
              "  <tbody>\n",
              "    <tr>\n",
              "      <th>0</th>\n",
              "      <td>/content/drive/MyDrive/Project/Bad/IMG_2024021...</td>\n",
              "      <td>171.740116</td>\n",
              "      <td>0.0</td>\n",
              "      <td>0.0</td>\n",
              "      <td>10423027.5</td>\n",
              "      <td>672</td>\n",
              "      <td>1979</td>\n",
              "      <td>3593</td>\n",
              "      <td>4089</td>\n",
              "      <td>0.878699</td>\n",
              "      <td>0.999776</td>\n",
              "      <td>0.102137</td>\n",
              "      <td>1.368497</td>\n",
              "      <td>0.761298</td>\n",
              "      <td>0</td>\n",
              "    </tr>\n",
              "    <tr>\n",
              "      <th>1</th>\n",
              "      <td>/content/drive/MyDrive/Project/Good/IMG_202402...</td>\n",
              "      <td>181.174462</td>\n",
              "      <td>0.0</td>\n",
              "      <td>0.0</td>\n",
              "      <td>10067058.5</td>\n",
              "      <td>1631</td>\n",
              "      <td>2906</td>\n",
              "      <td>3162</td>\n",
              "      <td>4217</td>\n",
              "      <td>0.749822</td>\n",
              "      <td>0.999882</td>\n",
              "      <td>0.111418</td>\n",
              "      <td>0.615052</td>\n",
              "      <td>0.777823</td>\n",
              "      <td>1</td>\n",
              "    </tr>\n",
              "    <tr>\n",
              "      <th>2</th>\n",
              "      <td>/content/drive/MyDrive/Project/Good/IMG_202402...</td>\n",
              "      <td>172.587475</td>\n",
              "      <td>0.0</td>\n",
              "      <td>0.0</td>\n",
              "      <td>14213498.0</td>\n",
              "      <td>1684</td>\n",
              "      <td>1716</td>\n",
              "      <td>3660</td>\n",
              "      <td>5086</td>\n",
              "      <td>0.719622</td>\n",
              "      <td>0.999803</td>\n",
              "      <td>0.106929</td>\n",
              "      <td>1.268606</td>\n",
              "      <td>0.764490</td>\n",
              "      <td>1</td>\n",
              "    </tr>\n",
              "    <tr>\n",
              "      <th>3</th>\n",
              "      <td>/content/drive/MyDrive/Project/Good/IMG_202402...</td>\n",
              "      <td>179.551992</td>\n",
              "      <td>0.0</td>\n",
              "      <td>0.0</td>\n",
              "      <td>11838790.0</td>\n",
              "      <td>994</td>\n",
              "      <td>2563</td>\n",
              "      <td>4087</td>\n",
              "      <td>4166</td>\n",
              "      <td>0.981037</td>\n",
              "      <td>0.999852</td>\n",
              "      <td>0.122994</td>\n",
              "      <td>0.700893</td>\n",
              "      <td>0.787451</td>\n",
              "      <td>1</td>\n",
              "    </tr>\n",
              "    <tr>\n",
              "      <th>4</th>\n",
              "      <td>/content/drive/MyDrive/Project/Bad/IMG_2024021...</td>\n",
              "      <td>193.934136</td>\n",
              "      <td>0.0</td>\n",
              "      <td>0.0</td>\n",
              "      <td>7494464.0</td>\n",
              "      <td>812</td>\n",
              "      <td>3247</td>\n",
              "      <td>3815</td>\n",
              "      <td>2973</td>\n",
              "      <td>1.283216</td>\n",
              "      <td>0.999512</td>\n",
              "      <td>0.183497</td>\n",
              "      <td>1.646527</td>\n",
              "      <td>0.747916</td>\n",
              "      <td>0</td>\n",
              "    </tr>\n",
              "  </tbody>\n",
              "</table>\n",
              "</div>\n",
              "    <div class=\"colab-df-buttons\">\n",
              "\n",
              "  <div class=\"colab-df-container\">\n",
              "    <button class=\"colab-df-convert\" onclick=\"convertToInteractive('df-9211617c-9ceb-4207-8cd3-003b6935be27')\"\n",
              "            title=\"Convert this dataframe to an interactive table.\"\n",
              "            style=\"display:none;\">\n",
              "\n",
              "  <svg xmlns=\"http://www.w3.org/2000/svg\" height=\"24px\" viewBox=\"0 -960 960 960\">\n",
              "    <path d=\"M120-120v-720h720v720H120Zm60-500h600v-160H180v160Zm220 220h160v-160H400v160Zm0 220h160v-160H400v160ZM180-400h160v-160H180v160Zm440 0h160v-160H620v160ZM180-180h160v-160H180v160Zm440 0h160v-160H620v160Z\"/>\n",
              "  </svg>\n",
              "    </button>\n",
              "\n",
              "  <style>\n",
              "    .colab-df-container {\n",
              "      display:flex;\n",
              "      gap: 12px;\n",
              "    }\n",
              "\n",
              "    .colab-df-convert {\n",
              "      background-color: #E8F0FE;\n",
              "      border: none;\n",
              "      border-radius: 50%;\n",
              "      cursor: pointer;\n",
              "      display: none;\n",
              "      fill: #1967D2;\n",
              "      height: 32px;\n",
              "      padding: 0 0 0 0;\n",
              "      width: 32px;\n",
              "    }\n",
              "\n",
              "    .colab-df-convert:hover {\n",
              "      background-color: #E2EBFA;\n",
              "      box-shadow: 0px 1px 2px rgba(60, 64, 67, 0.3), 0px 1px 3px 1px rgba(60, 64, 67, 0.15);\n",
              "      fill: #174EA6;\n",
              "    }\n",
              "\n",
              "    .colab-df-buttons div {\n",
              "      margin-bottom: 4px;\n",
              "    }\n",
              "\n",
              "    [theme=dark] .colab-df-convert {\n",
              "      background-color: #3B4455;\n",
              "      fill: #D2E3FC;\n",
              "    }\n",
              "\n",
              "    [theme=dark] .colab-df-convert:hover {\n",
              "      background-color: #434B5C;\n",
              "      box-shadow: 0px 1px 3px 1px rgba(0, 0, 0, 0.15);\n",
              "      filter: drop-shadow(0px 1px 2px rgba(0, 0, 0, 0.3));\n",
              "      fill: #FFFFFF;\n",
              "    }\n",
              "  </style>\n",
              "\n",
              "    <script>\n",
              "      const buttonEl =\n",
              "        document.querySelector('#df-9211617c-9ceb-4207-8cd3-003b6935be27 button.colab-df-convert');\n",
              "      buttonEl.style.display =\n",
              "        google.colab.kernel.accessAllowed ? 'block' : 'none';\n",
              "\n",
              "      async function convertToInteractive(key) {\n",
              "        const element = document.querySelector('#df-9211617c-9ceb-4207-8cd3-003b6935be27');\n",
              "        const dataTable =\n",
              "          await google.colab.kernel.invokeFunction('convertToInteractive',\n",
              "                                                    [key], {});\n",
              "        if (!dataTable) return;\n",
              "\n",
              "        const docLinkHtml = 'Like what you see? Visit the ' +\n",
              "          '<a target=\"_blank\" href=https://colab.research.google.com/notebooks/data_table.ipynb>data table notebook</a>'\n",
              "          + ' to learn more about interactive tables.';\n",
              "        element.innerHTML = '';\n",
              "        dataTable['output_type'] = 'display_data';\n",
              "        await google.colab.output.renderOutput(dataTable, element);\n",
              "        const docLink = document.createElement('div');\n",
              "        docLink.innerHTML = docLinkHtml;\n",
              "        element.appendChild(docLink);\n",
              "      }\n",
              "    </script>\n",
              "  </div>\n",
              "\n",
              "\n",
              "<div id=\"df-51f8a73c-5c54-46c2-a14a-6d16652e700f\">\n",
              "  <button class=\"colab-df-quickchart\" onclick=\"quickchart('df-51f8a73c-5c54-46c2-a14a-6d16652e700f')\"\n",
              "            title=\"Suggest charts\"\n",
              "            style=\"display:none;\">\n",
              "\n",
              "<svg xmlns=\"http://www.w3.org/2000/svg\" height=\"24px\"viewBox=\"0 0 24 24\"\n",
              "     width=\"24px\">\n",
              "    <g>\n",
              "        <path d=\"M19 3H5c-1.1 0-2 .9-2 2v14c0 1.1.9 2 2 2h14c1.1 0 2-.9 2-2V5c0-1.1-.9-2-2-2zM9 17H7v-7h2v7zm4 0h-2V7h2v10zm4 0h-2v-4h2v4z\"/>\n",
              "    </g>\n",
              "</svg>\n",
              "  </button>\n",
              "\n",
              "<style>\n",
              "  .colab-df-quickchart {\n",
              "      --bg-color: #E8F0FE;\n",
              "      --fill-color: #1967D2;\n",
              "      --hover-bg-color: #E2EBFA;\n",
              "      --hover-fill-color: #174EA6;\n",
              "      --disabled-fill-color: #AAA;\n",
              "      --disabled-bg-color: #DDD;\n",
              "  }\n",
              "\n",
              "  [theme=dark] .colab-df-quickchart {\n",
              "      --bg-color: #3B4455;\n",
              "      --fill-color: #D2E3FC;\n",
              "      --hover-bg-color: #434B5C;\n",
              "      --hover-fill-color: #FFFFFF;\n",
              "      --disabled-bg-color: #3B4455;\n",
              "      --disabled-fill-color: #666;\n",
              "  }\n",
              "\n",
              "  .colab-df-quickchart {\n",
              "    background-color: var(--bg-color);\n",
              "    border: none;\n",
              "    border-radius: 50%;\n",
              "    cursor: pointer;\n",
              "    display: none;\n",
              "    fill: var(--fill-color);\n",
              "    height: 32px;\n",
              "    padding: 0;\n",
              "    width: 32px;\n",
              "  }\n",
              "\n",
              "  .colab-df-quickchart:hover {\n",
              "    background-color: var(--hover-bg-color);\n",
              "    box-shadow: 0 1px 2px rgba(60, 64, 67, 0.3), 0 1px 3px 1px rgba(60, 64, 67, 0.15);\n",
              "    fill: var(--button-hover-fill-color);\n",
              "  }\n",
              "\n",
              "  .colab-df-quickchart-complete:disabled,\n",
              "  .colab-df-quickchart-complete:disabled:hover {\n",
              "    background-color: var(--disabled-bg-color);\n",
              "    fill: var(--disabled-fill-color);\n",
              "    box-shadow: none;\n",
              "  }\n",
              "\n",
              "  .colab-df-spinner {\n",
              "    border: 2px solid var(--fill-color);\n",
              "    border-color: transparent;\n",
              "    border-bottom-color: var(--fill-color);\n",
              "    animation:\n",
              "      spin 1s steps(1) infinite;\n",
              "  }\n",
              "\n",
              "  @keyframes spin {\n",
              "    0% {\n",
              "      border-color: transparent;\n",
              "      border-bottom-color: var(--fill-color);\n",
              "      border-left-color: var(--fill-color);\n",
              "    }\n",
              "    20% {\n",
              "      border-color: transparent;\n",
              "      border-left-color: var(--fill-color);\n",
              "      border-top-color: var(--fill-color);\n",
              "    }\n",
              "    30% {\n",
              "      border-color: transparent;\n",
              "      border-left-color: var(--fill-color);\n",
              "      border-top-color: var(--fill-color);\n",
              "      border-right-color: var(--fill-color);\n",
              "    }\n",
              "    40% {\n",
              "      border-color: transparent;\n",
              "      border-right-color: var(--fill-color);\n",
              "      border-top-color: var(--fill-color);\n",
              "    }\n",
              "    60% {\n",
              "      border-color: transparent;\n",
              "      border-right-color: var(--fill-color);\n",
              "    }\n",
              "    80% {\n",
              "      border-color: transparent;\n",
              "      border-right-color: var(--fill-color);\n",
              "      border-bottom-color: var(--fill-color);\n",
              "    }\n",
              "    90% {\n",
              "      border-color: transparent;\n",
              "      border-bottom-color: var(--fill-color);\n",
              "    }\n",
              "  }\n",
              "</style>\n",
              "\n",
              "  <script>\n",
              "    async function quickchart(key) {\n",
              "      const quickchartButtonEl =\n",
              "        document.querySelector('#' + key + ' button');\n",
              "      quickchartButtonEl.disabled = true;  // To prevent multiple clicks.\n",
              "      quickchartButtonEl.classList.add('colab-df-spinner');\n",
              "      try {\n",
              "        const charts = await google.colab.kernel.invokeFunction(\n",
              "            'suggestCharts', [key], {});\n",
              "      } catch (error) {\n",
              "        console.error('Error during call to suggestCharts:', error);\n",
              "      }\n",
              "      quickchartButtonEl.classList.remove('colab-df-spinner');\n",
              "      quickchartButtonEl.classList.add('colab-df-quickchart-complete');\n",
              "    }\n",
              "    (() => {\n",
              "      let quickchartButtonEl =\n",
              "        document.querySelector('#df-51f8a73c-5c54-46c2-a14a-6d16652e700f button');\n",
              "      quickchartButtonEl.style.display =\n",
              "        google.colab.kernel.accessAllowed ? 'block' : 'none';\n",
              "    })();\n",
              "  </script>\n",
              "</div>\n",
              "\n",
              "    </div>\n",
              "  </div>\n"
            ],
            "text/plain": [
              "                                            image_id  average_hue  \\\n",
              "0  /content/drive/MyDrive/Project/Bad/IMG_2024021...   171.740116   \n",
              "1  /content/drive/MyDrive/Project/Good/IMG_202402...   181.174462   \n",
              "2  /content/drive/MyDrive/Project/Good/IMG_202402...   172.587475   \n",
              "3  /content/drive/MyDrive/Project/Good/IMG_202402...   179.551992   \n",
              "4  /content/drive/MyDrive/Project/Bad/IMG_2024021...   193.934136   \n",
              "\n",
              "   average_saturation  average_value        area     x     y     w     h  \\\n",
              "0                 0.0            0.0  10423027.5   672  1979  3593  4089   \n",
              "1                 0.0            0.0  10067058.5  1631  2906  3162  4217   \n",
              "2                 0.0            0.0  14213498.0  1684  1716  3660  5086   \n",
              "3                 0.0            0.0  11838790.0   994  2563  4087  4166   \n",
              "4                 0.0            0.0   7494464.0   812  3247  3815  2973   \n",
              "\n",
              "   aspect_ratio  correlation    energy  contrast  homogeneity  quality  \n",
              "0      0.878699     0.999776  0.102137  1.368497     0.761298        0  \n",
              "1      0.749822     0.999882  0.111418  0.615052     0.777823        1  \n",
              "2      0.719622     0.999803  0.106929  1.268606     0.764490        1  \n",
              "3      0.981037     0.999852  0.122994  0.700893     0.787451        1  \n",
              "4      1.283216     0.999512  0.183497  1.646527     0.747916        0  "
            ]
          },
          "execution_count": 30,
          "metadata": {},
          "output_type": "execute_result"
        }
      ],
      "source": [
        "train_df.head()"
      ]
    },
    {
      "cell_type": "markdown",
      "metadata": {
        "id": "fccrKbsekpW-"
      },
      "source": [
        "## **Exploratory Data Analysis**"
      ]
    },
    {
      "cell_type": "code",
      "execution_count": null,
      "metadata": {
        "colab": {
          "base_uri": "https://localhost:8080/"
        },
        "id": "I_ofC7mVXcxA",
        "outputId": "96d3f14f-ccf7-4bf5-f9e1-32aa02dfbdb4"
      },
      "outputs": [
        {
          "data": {
            "text/plain": [
              "quality\n",
              "1    70\n",
              "0    21\n",
              "Name: count, dtype: int64"
            ]
          },
          "execution_count": 31,
          "metadata": {},
          "output_type": "execute_result"
        }
      ],
      "source": [
        "test_df['quality'].value_counts()"
      ]
    },
    {
      "cell_type": "code",
      "execution_count": null,
      "metadata": {
        "colab": {
          "base_uri": "https://localhost:8080/",
          "height": 411
        },
        "id": "CQvOhf_7FA_I",
        "outputId": "ddfd1fd3-e9f4-4c4b-9da1-977139be7b3e"
      },
      "outputs": [
        {
          "data": {
            "image/png": "[encoded data removed]",
            "text/plain": [
              "<Figure size 1000x500 with 2 Axes>"
            ]
          },
          "metadata": {},
          "output_type": "display_data"
        }
      ],
      "source": [
        "import matplotlib.pyplot as plt\n",
        "\n",
        "# Sample data\n",
        "labels = ['Good Images', 'Bad Images']\n",
        "counts_train = [282, 82]  # Replace with your actual counts\n",
        "counts_test = [70, 21]  # Replace with your actual counts\n",
        "\n",
        "# Calculate percentages\n",
        "total_count_train = sum(counts_train)\n",
        "percentages_train = [(count / total_count_train) * 100 for count in counts_train]\n",
        "\n",
        "total_count_test = sum(counts_test)\n",
        "percentages_test = [(count / total_count_test) * 100 for count in counts_test]\n",
        "\n",
        "# Define pleasing colors\n",
        "colors = ['#66b2ff', '#ff9999']\n",
        "\n",
        "# Plotting the 2D pie chart with shadow\n",
        "fig, ax = plt.subplots(1, 2, figsize=(10, 5))\n",
        "# Define the amount of explosion (0.1 means 10% of the radius)\n",
        "explode = (0.1, 0)\n",
        "\n",
        "ax[0].pie(counts_train, labels=labels, autopct=lambda p: '{:.0f} ({:.1f}%)'.format(p * total_count_train / 100, p),\n",
        "          startangle=90, colors=colors, wedgeprops={'edgecolor': 'black'}, shadow=True, explode=explode)\n",
        "# Add a title\n",
        "ax[0].set_title('Distribution of Training Images')\n",
        "\n",
        "ax[1].pie(counts_test, labels=labels, autopct=lambda p: '{:.0f} ({:.1f}%)'.format(p * total_count_test / 100, p),\n",
        "          startangle=90, colors=colors, wedgeprops={'edgecolor': 'black'}, shadow=True, explode=explode)\n",
        "# Add a title\n",
        "ax[1].set_title('Distribution of Test Images')\n",
        "\n",
        "# Display the 2D pie chart with shadow\n",
        "plt.show()\n"
      ]
    },
    {
      "cell_type": "code",
      "execution_count": null,
      "metadata": {
        "colab": {
          "base_uri": "https://localhost:8080/",
          "height": 320
        },
        "id": "I_7zBqvgz45S",
        "outputId": "811b9285-8505-48f3-b555-488225f59d25"
      },
      "outputs": [
        {
          "data": {
            "application/vnd.google.colaboratory.intrinsic+json": {
              "summary": "{\n  \"name\": \"train_df\",\n  \"rows\": 8,\n  \"fields\": [\n    {\n      \"column\": \"average_hue\",\n      \"properties\": {\n        \"dtype\": \"number\",\n        \"std\": 95.95937752743414,\n        \"min\": 8.917800832193441,\n        \"max\": 364.0,\n        \"num_unique_values\": 8,\n        \"samples\": [\n          182.57396935620014,\n          183.05874471228105,\n          364.0\n        ],\n        \"semantic_type\": \"\",\n        \"description\": \"\"\n      }\n    },\n    {\n      \"column\": \"average_saturation\",\n      \"properties\": {\n        \"dtype\": \"number\",\n        \"std\": 128.69343417595164,\n        \"min\": 0.0,\n        \"max\": 364.0,\n        \"num_unique_values\": 2,\n        \"samples\": [\n          0.0,\n          364.0\n        ],\n        \"semantic_type\": \"\",\n        \"description\": \"\"\n      }\n    },\n    {\n      \"column\": \"average_value\",\n      \"properties\": {\n        \"dtype\": \"number\",\n        \"std\": 128.69343417595164,\n        \"min\": 0.0,\n        \"max\": 364.0,\n        \"num_unique_values\": 2,\n        \"samples\": [\n          0.0,\n          364.0\n        ],\n        \"semantic_type\": \"\",\n        \"description\": \"\"\n      }\n    },\n    {\n      \"column\": \"area\",\n      \"properties\": {\n        \"dtype\": \"number\",\n        \"std\": 7103258.040834311,\n        \"min\": 364.0,\n        \"max\": 21800064.5,\n        \"num_unique_values\": 8,\n        \"samples\": [\n          9632146.813186813,\n          9530956.25\n        ],\n        \"semantic_type\": \"\",\n        \"description\": \"\"\n      }\n    },\n    {\n      \"column\": \"x\",\n      \"properties\": {\n        \"dtype\": \"number\",\n        \"std\": 1140.7885181272702,\n        \"min\": 0.0,\n        \"max\": 3715.0,\n        \"num_unique_values\": 8,\n        \"samples\": [\n          1075.5796703296703,\n          1044.5\n        ],\n        \"semantic_type\": \"\",\n        \"description\": \"\"\n      }\n    },\n    {\n      \"column\": \"y\",\n      \"properties\": {\n        \"dtype\": \"number\",\n        \"std\": 1860.4867118390262,\n        \"min\": 0.0,\n        \"max\": 5921.0,\n        \"num_unique_values\": 8,\n        \"samples\": [\n          2406.293956043956,\n          2360.0\n        ],\n        \"semantic_type\": \"\",\n        \"description\": \"\"\n      }\n    },\n    {\n      \"column\": \"w\",\n      \"properties\": {\n        \"dtype\": \"number\",\n        \"std\": 1884.2408399333112,\n        \"min\": 364.0,\n        \"max\": 5925.0,\n        \"num_unique_values\": 8,\n        \"samples\": [\n          3599.8214285714284,\n          3583.0\n        ],\n        \"semantic_type\": \"\",\n        \"description\": \"\"\n      }\n    },\n    {\n      \"column\": \"h\",\n      \"properties\": {\n        \"dtype\": \"number\",\n        \"std\": 2291.830087348047,\n        \"min\": 364.0,\n        \"max\": 7034.0,\n        \"num_unique_values\": 8,\n        \"samples\": [\n          3789.296703296703,\n          3860.5\n        ],\n        \"semantic_type\": \"\",\n        \"description\": \"\"\n      }\n    },\n    {\n      \"column\": \"aspect_ratio\",\n      \"properties\": {\n        \"dtype\": \"number\",\n        \"std\": 128.3119313778254,\n        \"min\": 0.273242018302495,\n        \"max\": 364.0,\n        \"num_unique_values\": 8,\n        \"samples\": [\n          0.9928188899126043,\n          0.9310855011707531\n        ],\n        \"semantic_type\": \"\",\n        \"description\": \"\"\n      }\n    },\n    {\n      \"column\": \"correlation\",\n      \"properties\": {\n        \"dtype\": \"number\",\n        \"std\": 128.39096863791363,\n        \"min\": 0.00013677966495631656,\n        \"max\": 364.0,\n        \"num_unique_values\": 8,\n        \"samples\": [\n          0.9997764172308353,\n          0.9998172097718161\n        ],\n        \"semantic_type\": \"\",\n        \"description\": \"\"\n      }\n    },\n    {\n      \"column\": \"energy\",\n      \"properties\": {\n        \"dtype\": \"number\",\n        \"std\": 128.65405669852163,\n        \"min\": 0.023284029757175344,\n        \"max\": 364.0,\n        \"num_unique_values\": 8,\n        \"samples\": [\n          0.1199203012938578,\n          0.1171044884293333\n        ],\n        \"semantic_type\": \"\",\n        \"description\": \"\"\n      }\n    },\n    {\n      \"column\": \"contrast\",\n      \"properties\": {\n        \"dtype\": \"number\",\n        \"std\": 128.33904567332073,\n        \"min\": 0.41911950050344615,\n        \"max\": 364.0,\n        \"num_unique_values\": 8,\n        \"samples\": [\n          0.9332007629053566,\n          0.7804158168872566\n        ],\n        \"semantic_type\": \"\",\n        \"description\": \"\"\n      }\n    },\n    {\n      \"column\": \"homogeneity\",\n      \"properties\": {\n        \"dtype\": \"number\",\n        \"std\": 128.465045625944,\n        \"min\": 0.034102134612650783,\n        \"max\": 364.0,\n        \"num_unique_values\": 8,\n        \"samples\": [\n          0.7732604635321843,\n          0.7795320931974037\n        ],\n        \"semantic_type\": \"\",\n        \"description\": \"\"\n      }\n    },\n    {\n      \"column\": \"quality\",\n      \"properties\": {\n        \"dtype\": \"number\",\n        \"std\": 128.43165800508515,\n        \"min\": 0.0,\n        \"max\": 364.0,\n        \"num_unique_values\": 5,\n        \"samples\": [\n          0.7747252747252747,\n          1.0\n        ],\n        \"semantic_type\": \"\",\n        \"description\": \"\"\n      }\n    }\n  ]\n}",
              "type": "dataframe"
            },
            "text/html": [
              "\n",
              "  <div id=\"df-724e1b5e-2fa4-4655-b643-ce2b417a4778\" class=\"colab-df-container\">\n",
              "    <div>\n",
              "<style scoped>\n",
              "    .dataframe tbody tr th:only-of-type {\n",
              "        vertical-align: middle;\n",
              "    }\n",
              "\n",
              "    .dataframe tbody tr th {\n",
              "        vertical-align: top;\n",
              "    }\n",
              "\n",
              "    .dataframe thead th {\n",
              "        text-align: right;\n",
              "    }\n",
              "</style>\n",
              "<table border=\"1\" class=\"dataframe\">\n",
              "  <thead>\n",
              "    <tr style=\"text-align: right;\">\n",
              "      <th></th>\n",
              "      <th>average_hue</th>\n",
              "      <th>average_saturation</th>\n",
              "      <th>average_value</th>\n",
              "      <th>area</th>\n",
              "      <th>x</th>\n",
              "      <th>y</th>\n",
              "      <th>w</th>\n",
              "      <th>h</th>\n",
              "      <th>aspect_ratio</th>\n",
              "      <th>correlation</th>\n",
              "      <th>energy</th>\n",
              "      <th>contrast</th>\n",
              "      <th>homogeneity</th>\n",
              "      <th>quality</th>\n",
              "    </tr>\n",
              "  </thead>\n",
              "  <tbody>\n",
              "    <tr>\n",
              "      <th>count</th>\n",
              "      <td>364.000000</td>\n",
              "      <td>364.0</td>\n",
              "      <td>364.0</td>\n",
              "      <td>3.640000e+02</td>\n",
              "      <td>364.000000</td>\n",
              "      <td>364.000000</td>\n",
              "      <td>364.000000</td>\n",
              "      <td>364.000000</td>\n",
              "      <td>364.000000</td>\n",
              "      <td>364.000000</td>\n",
              "      <td>364.000000</td>\n",
              "      <td>364.000000</td>\n",
              "      <td>364.000000</td>\n",
              "      <td>364.000000</td>\n",
              "    </tr>\n",
              "    <tr>\n",
              "      <th>mean</th>\n",
              "      <td>182.573969</td>\n",
              "      <td>0.0</td>\n",
              "      <td>0.0</td>\n",
              "      <td>9.632147e+06</td>\n",
              "      <td>1075.579670</td>\n",
              "      <td>2406.293956</td>\n",
              "      <td>3599.821429</td>\n",
              "      <td>3789.296703</td>\n",
              "      <td>0.992819</td>\n",
              "      <td>0.999776</td>\n",
              "      <td>0.119920</td>\n",
              "      <td>0.933201</td>\n",
              "      <td>0.773260</td>\n",
              "      <td>0.774725</td>\n",
              "    </tr>\n",
              "    <tr>\n",
              "      <th>std</th>\n",
              "      <td>8.917801</td>\n",
              "      <td>0.0</td>\n",
              "      <td>0.0</td>\n",
              "      <td>3.830468e+06</td>\n",
              "      <td>501.503274</td>\n",
              "      <td>852.480667</td>\n",
              "      <td>767.194448</td>\n",
              "      <td>921.326693</td>\n",
              "      <td>0.273242</td>\n",
              "      <td>0.000137</td>\n",
              "      <td>0.023284</td>\n",
              "      <td>0.419120</td>\n",
              "      <td>0.034102</td>\n",
              "      <td>0.418338</td>\n",
              "    </tr>\n",
              "    <tr>\n",
              "      <th>min</th>\n",
              "      <td>153.329184</td>\n",
              "      <td>0.0</td>\n",
              "      <td>0.0</td>\n",
              "      <td>3.485920e+05</td>\n",
              "      <td>0.000000</td>\n",
              "      <td>0.000000</td>\n",
              "      <td>1365.000000</td>\n",
              "      <td>523.000000</td>\n",
              "      <td>0.506397</td>\n",
              "      <td>0.998691</td>\n",
              "      <td>0.069446</td>\n",
              "      <td>0.457268</td>\n",
              "      <td>0.574712</td>\n",
              "      <td>0.000000</td>\n",
              "    </tr>\n",
              "    <tr>\n",
              "      <th>25%</th>\n",
              "      <td>176.869125</td>\n",
              "      <td>0.0</td>\n",
              "      <td>0.0</td>\n",
              "      <td>7.216668e+06</td>\n",
              "      <td>781.750000</td>\n",
              "      <td>1909.500000</td>\n",
              "      <td>3128.500000</td>\n",
              "      <td>3254.000000</td>\n",
              "      <td>0.845021</td>\n",
              "      <td>0.999740</td>\n",
              "      <td>0.104189</td>\n",
              "      <td>0.641230</td>\n",
              "      <td>0.768292</td>\n",
              "      <td>1.000000</td>\n",
              "    </tr>\n",
              "    <tr>\n",
              "      <th>50%</th>\n",
              "      <td>183.058745</td>\n",
              "      <td>0.0</td>\n",
              "      <td>0.0</td>\n",
              "      <td>9.530956e+06</td>\n",
              "      <td>1044.500000</td>\n",
              "      <td>2360.000000</td>\n",
              "      <td>3583.000000</td>\n",
              "      <td>3860.500000</td>\n",
              "      <td>0.931086</td>\n",
              "      <td>0.999817</td>\n",
              "      <td>0.117104</td>\n",
              "      <td>0.780416</td>\n",
              "      <td>0.779532</td>\n",
              "      <td>1.000000</td>\n",
              "    </tr>\n",
              "    <tr>\n",
              "      <th>75%</th>\n",
              "      <td>189.871299</td>\n",
              "      <td>0.0</td>\n",
              "      <td>0.0</td>\n",
              "      <td>1.215214e+07</td>\n",
              "      <td>1338.250000</td>\n",
              "      <td>2776.500000</td>\n",
              "      <td>4073.250000</td>\n",
              "      <td>4289.000000</td>\n",
              "      <td>1.055437</td>\n",
              "      <td>0.999859</td>\n",
              "      <td>0.133391</td>\n",
              "      <td>1.073806</td>\n",
              "      <td>0.787944</td>\n",
              "      <td>1.000000</td>\n",
              "    </tr>\n",
              "    <tr>\n",
              "      <th>max</th>\n",
              "      <td>203.659817</td>\n",
              "      <td>0.0</td>\n",
              "      <td>0.0</td>\n",
              "      <td>2.180006e+07</td>\n",
              "      <td>3715.000000</td>\n",
              "      <td>5921.000000</td>\n",
              "      <td>5925.000000</td>\n",
              "      <td>7034.000000</td>\n",
              "      <td>3.001815</td>\n",
              "      <td>0.999924</td>\n",
              "      <td>0.212524</td>\n",
              "      <td>2.754430</td>\n",
              "      <td>0.809252</td>\n",
              "      <td>1.000000</td>\n",
              "    </tr>\n",
              "  </tbody>\n",
              "</table>\n",
              "</div>\n",
              "    <div class=\"colab-df-buttons\">\n",
              "\n",
              "  <div class=\"colab-df-container\">\n",
              "    <button class=\"colab-df-convert\" onclick=\"convertToInteractive('df-724e1b5e-2fa4-4655-b643-ce2b417a4778')\"\n",
              "            title=\"Convert this dataframe to an interactive table.\"\n",
              "            style=\"display:none;\">\n",
              "\n",
              "  <svg xmlns=\"http://www.w3.org/2000/svg\" height=\"24px\" viewBox=\"0 -960 960 960\">\n",
              "    <path d=\"M120-120v-720h720v720H120Zm60-500h600v-160H180v160Zm220 220h160v-160H400v160Zm0 220h160v-160H400v160ZM180-400h160v-160H180v160Zm440 0h160v-160H620v160ZM180-180h160v-160H180v160Zm440 0h160v-160H620v160Z\"/>\n",
              "  </svg>\n",
              "    </button>\n",
              "\n",
              "  <style>\n",
              "    .colab-df-container {\n",
              "      display:flex;\n",
              "      gap: 12px;\n",
              "    }\n",
              "\n",
              "    .colab-df-convert {\n",
              "      background-color: #E8F0FE;\n",
              "      border: none;\n",
              "      border-radius: 50%;\n",
              "      cursor: pointer;\n",
              "      display: none;\n",
              "      fill: #1967D2;\n",
              "      height: 32px;\n",
              "      padding: 0 0 0 0;\n",
              "      width: 32px;\n",
              "    }\n",
              "\n",
              "    .colab-df-convert:hover {\n",
              "      background-color: #E2EBFA;\n",
              "      box-shadow: 0px 1px 2px rgba(60, 64, 67, 0.3), 0px 1px 3px 1px rgba(60, 64, 67, 0.15);\n",
              "      fill: #174EA6;\n",
              "    }\n",
              "\n",
              "    .colab-df-buttons div {\n",
              "      margin-bottom: 4px;\n",
              "    }\n",
              "\n",
              "    [theme=dark] .colab-df-convert {\n",
              "      background-color: #3B4455;\n",
              "      fill: #D2E3FC;\n",
              "    }\n",
              "\n",
              "    [theme=dark] .colab-df-convert:hover {\n",
              "      background-color: #434B5C;\n",
              "      box-shadow: 0px 1px 3px 1px rgba(0, 0, 0, 0.15);\n",
              "      filter: drop-shadow(0px 1px 2px rgba(0, 0, 0, 0.3));\n",
              "      fill: #FFFFFF;\n",
              "    }\n",
              "  </style>\n",
              "\n",
              "    <script>\n",
              "      const buttonEl =\n",
              "        document.querySelector('#df-724e1b5e-2fa4-4655-b643-ce2b417a4778 button.colab-df-convert');\n",
              "      buttonEl.style.display =\n",
              "        google.colab.kernel.accessAllowed ? 'block' : 'none';\n",
              "\n",
              "      async function convertToInteractive(key) {\n",
              "        const element = document.querySelector('#df-724e1b5e-2fa4-4655-b643-ce2b417a4778');\n",
              "        const dataTable =\n",
              "          await google.colab.kernel.invokeFunction('convertToInteractive',\n",
              "                                                    [key], {});\n",
              "        if (!dataTable) return;\n",
              "\n",
              "        const docLinkHtml = 'Like what you see? Visit the ' +\n",
              "          '<a target=\"_blank\" href=https://colab.research.google.com/notebooks/data_table.ipynb>data table notebook</a>'\n",
              "          + ' to learn more about interactive tables.';\n",
              "        element.innerHTML = '';\n",
              "        dataTable['output_type'] = 'display_data';\n",
              "        await google.colab.output.renderOutput(dataTable, element);\n",
              "        const docLink = document.createElement('div');\n",
              "        docLink.innerHTML = docLinkHtml;\n",
              "        element.appendChild(docLink);\n",
              "      }\n",
              "    </script>\n",
              "  </div>\n",
              "\n",
              "\n",
              "<div id=\"df-1c868fca-0f01-4e39-8f78-1025786b98d2\">\n",
              "  <button class=\"colab-df-quickchart\" onclick=\"quickchart('df-1c868fca-0f01-4e39-8f78-1025786b98d2')\"\n",
              "            title=\"Suggest charts\"\n",
              "            style=\"display:none;\">\n",
              "\n",
              "<svg xmlns=\"http://www.w3.org/2000/svg\" height=\"24px\"viewBox=\"0 0 24 24\"\n",
              "     width=\"24px\">\n",
              "    <g>\n",
              "        <path d=\"M19 3H5c-1.1 0-2 .9-2 2v14c0 1.1.9 2 2 2h14c1.1 0 2-.9 2-2V5c0-1.1-.9-2-2-2zM9 17H7v-7h2v7zm4 0h-2V7h2v10zm4 0h-2v-4h2v4z\"/>\n",
              "    </g>\n",
              "</svg>\n",
              "  </button>\n",
              "\n",
              "<style>\n",
              "  .colab-df-quickchart {\n",
              "      --bg-color: #E8F0FE;\n",
              "      --fill-color: #1967D2;\n",
              "      --hover-bg-color: #E2EBFA;\n",
              "      --hover-fill-color: #174EA6;\n",
              "      --disabled-fill-color: #AAA;\n",
              "      --disabled-bg-color: #DDD;\n",
              "  }\n",
              "\n",
              "  [theme=dark] .colab-df-quickchart {\n",
              "      --bg-color: #3B4455;\n",
              "      --fill-color: #D2E3FC;\n",
              "      --hover-bg-color: #434B5C;\n",
              "      --hover-fill-color: #FFFFFF;\n",
              "      --disabled-bg-color: #3B4455;\n",
              "      --disabled-fill-color: #666;\n",
              "  }\n",
              "\n",
              "  .colab-df-quickchart {\n",
              "    background-color: var(--bg-color);\n",
              "    border: none;\n",
              "    border-radius: 50%;\n",
              "    cursor: pointer;\n",
              "    display: none;\n",
              "    fill: var(--fill-color);\n",
              "    height: 32px;\n",
              "    padding: 0;\n",
              "    width: 32px;\n",
              "  }\n",
              "\n",
              "  .colab-df-quickchart:hover {\n",
              "    background-color: var(--hover-bg-color);\n",
              "    box-shadow: 0 1px 2px rgba(60, 64, 67, 0.3), 0 1px 3px 1px rgba(60, 64, 67, 0.15);\n",
              "    fill: var(--button-hover-fill-color);\n",
              "  }\n",
              "\n",
              "  .colab-df-quickchart-complete:disabled,\n",
              "  .colab-df-quickchart-complete:disabled:hover {\n",
              "    background-color: var(--disabled-bg-color);\n",
              "    fill: var(--disabled-fill-color);\n",
              "    box-shadow: none;\n",
              "  }\n",
              "\n",
              "  .colab-df-spinner {\n",
              "    border: 2px solid var(--fill-color);\n",
              "    border-color: transparent;\n",
              "    border-bottom-color: var(--fill-color);\n",
              "    animation:\n",
              "      spin 1s steps(1) infinite;\n",
              "  }\n",
              "\n",
              "  @keyframes spin {\n",
              "    0% {\n",
              "      border-color: transparent;\n",
              "      border-bottom-color: var(--fill-color);\n",
              "      border-left-color: var(--fill-color);\n",
              "    }\n",
              "    20% {\n",
              "      border-color: transparent;\n",
              "      border-left-color: var(--fill-color);\n",
              "      border-top-color: var(--fill-color);\n",
              "    }\n",
              "    30% {\n",
              "      border-color: transparent;\n",
              "      border-left-color: var(--fill-color);\n",
              "      border-top-color: var(--fill-color);\n",
              "      border-right-color: var(--fill-color);\n",
              "    }\n",
              "    40% {\n",
              "      border-color: transparent;\n",
              "      border-right-color: var(--fill-color);\n",
              "      border-top-color: var(--fill-color);\n",
              "    }\n",
              "    60% {\n",
              "      border-color: transparent;\n",
              "      border-right-color: var(--fill-color);\n",
              "    }\n",
              "    80% {\n",
              "      border-color: transparent;\n",
              "      border-right-color: var(--fill-color);\n",
              "      border-bottom-color: var(--fill-color);\n",
              "    }\n",
              "    90% {\n",
              "      border-color: transparent;\n",
              "      border-bottom-color: var(--fill-color);\n",
              "    }\n",
              "  }\n",
              "</style>\n",
              "\n",
              "  <script>\n",
              "    async function quickchart(key) {\n",
              "      const quickchartButtonEl =\n",
              "        document.querySelector('#' + key + ' button');\n",
              "      quickchartButtonEl.disabled = true;  // To prevent multiple clicks.\n",
              "      quickchartButtonEl.classList.add('colab-df-spinner');\n",
              "      try {\n",
              "        const charts = await google.colab.kernel.invokeFunction(\n",
              "            'suggestCharts', [key], {});\n",
              "      } catch (error) {\n",
              "        console.error('Error during call to suggestCharts:', error);\n",
              "      }\n",
              "      quickchartButtonEl.classList.remove('colab-df-spinner');\n",
              "      quickchartButtonEl.classList.add('colab-df-quickchart-complete');\n",
              "    }\n",
              "    (() => {\n",
              "      let quickchartButtonEl =\n",
              "        document.querySelector('#df-1c868fca-0f01-4e39-8f78-1025786b98d2 button');\n",
              "      quickchartButtonEl.style.display =\n",
              "        google.colab.kernel.accessAllowed ? 'block' : 'none';\n",
              "    })();\n",
              "  </script>\n",
              "</div>\n",
              "\n",
              "    </div>\n",
              "  </div>\n"
            ],
            "text/plain": [
              "       average_hue  average_saturation  average_value          area  \\\n",
              "count   364.000000               364.0          364.0  3.640000e+02   \n",
              "mean    182.573969                 0.0            0.0  9.632147e+06   \n",
              "std       8.917801                 0.0            0.0  3.830468e+06   \n",
              "min     153.329184                 0.0            0.0  3.485920e+05   \n",
              "25%     176.869125                 0.0            0.0  7.216668e+06   \n",
              "50%     183.058745                 0.0            0.0  9.530956e+06   \n",
              "75%     189.871299                 0.0            0.0  1.215214e+07   \n",
              "max     203.659817                 0.0            0.0  2.180006e+07   \n",
              "\n",
              "                 x            y            w            h  aspect_ratio  \\\n",
              "count   364.000000   364.000000   364.000000   364.000000    364.000000   \n",
              "mean   1075.579670  2406.293956  3599.821429  3789.296703      0.992819   \n",
              "std     501.503274   852.480667   767.194448   921.326693      0.273242   \n",
              "min       0.000000     0.000000  1365.000000   523.000000      0.506397   \n",
              "25%     781.750000  1909.500000  3128.500000  3254.000000      0.845021   \n",
              "50%    1044.500000  2360.000000  3583.000000  3860.500000      0.931086   \n",
              "75%    1338.250000  2776.500000  4073.250000  4289.000000      1.055437   \n",
              "max    3715.000000  5921.000000  5925.000000  7034.000000      3.001815   \n",
              "\n",
              "       correlation      energy    contrast  homogeneity     quality  \n",
              "count   364.000000  364.000000  364.000000   364.000000  364.000000  \n",
              "mean      0.999776    0.119920    0.933201     0.773260    0.774725  \n",
              "std       0.000137    0.023284    0.419120     0.034102    0.418338  \n",
              "min       0.998691    0.069446    0.457268     0.574712    0.000000  \n",
              "25%       0.999740    0.104189    0.641230     0.768292    1.000000  \n",
              "50%       0.999817    0.117104    0.780416     0.779532    1.000000  \n",
              "75%       0.999859    0.133391    1.073806     0.787944    1.000000  \n",
              "max       0.999924    0.212524    2.754430     0.809252    1.000000  "
            ]
          },
          "execution_count": 33,
          "metadata": {},
          "output_type": "execute_result"
        }
      ],
      "source": [
        "train_df.describe()"
      ]
    },
    {
      "cell_type": "code",
      "execution_count": null,
      "metadata": {
        "id": "PqJwpFOwb_8_"
      },
      "outputs": [],
      "source": [
        "import seaborn as sns"
      ]
    },
    {
      "cell_type": "code",
      "execution_count": null,
      "metadata": {
        "colab": {
          "base_uri": "https://localhost:8080/",
          "height": 333
        },
        "id": "g_WrQ23pzw6B",
        "outputId": "afec0e05-dc7d-4281-a954-ae0ef3c3262d"
      },
      "outputs": [
        {
          "data": {
            "image/png": "[encoded data removed]",
            "text/plain": [
              "<Figure size 1000x300 with 1 Axes>"
            ]
          },
          "metadata": {},
          "output_type": "display_data"
        }
      ],
      "source": [
        "plt.figure(figsize=(10,3))\n",
        "sns.distplot(train_df[\"average_hue\"], color = \"green\")\n",
        "plt.title(\"Average Hue Distribution\")\n",
        "plt.show()"
      ]
    },
    {
      "cell_type": "code",
      "execution_count": null,
      "metadata": {
        "colab": {
          "base_uri": "https://localhost:8080/",
          "height": 333
        },
        "id": "6lMl3nHZzw9k",
        "outputId": "9160c7ce-afff-4e5f-f85f-9a0eb069930e"
      },
      "outputs": [
        {
          "data": {
            "image/png": "[encoded data removed]",
            "text/plain": [
              "<Figure size 1000x300 with 1 Axes>"
            ]
          },
          "metadata": {},
          "output_type": "display_data"
        }
      ],
      "source": [
        "plt.figure(figsize=(10,3))\n",
        "sns.distplot(train_df[\"area\"], color = \"green\")\n",
        "plt.title(\"Area Distribution\")\n",
        "plt.show()"
      ]
    },
    {
      "cell_type": "code",
      "execution_count": null,
      "metadata": {
        "colab": {
          "base_uri": "https://localhost:8080/",
          "height": 333
        },
        "id": "46kHXiGszxAO",
        "outputId": "78283ca7-c138-46ef-b239-0fa0b9adbf0a"
      },
      "outputs": [
        {
          "data": {
            "image/png": "[encoded data removed]",
            "text/plain": [
              "<Figure size 1000x300 with 1 Axes>"
            ]
          },
          "metadata": {},
          "output_type": "display_data"
        }
      ],
      "source": [
        "plt.figure(figsize=(10,3))\n",
        "sns.distplot(train_df[\"aspect_ratio\"], color = \"green\")\n",
        "plt.title(\"Aspect Ratio Distribution\")\n",
        "plt.show()"
      ]
    },
    {
      "cell_type": "code",
      "execution_count": null,
      "metadata": {
        "colab": {
          "base_uri": "https://localhost:8080/",
          "height": 472
        },
        "id": "SEvRE0QY0qOW",
        "outputId": "284d0a37-c701-42b9-fe93-ac4e039df934"
      },
      "outputs": [
        {
          "data": {
            "image/png": "[encoded data removed]",
            "text/plain": [
              "<Figure size 640x480 with 1 Axes>"
            ]
          },
          "metadata": {},
          "output_type": "display_data"
        }
      ],
      "source": [
        "sns.distplot(train_df[\"correlation\"], color = \"green\")\n",
        "plt.title(\"Correlation Distribution\")\n",
        "plt.show()"
      ]
    },
    {
      "cell_type": "code",
      "execution_count": null,
      "metadata": {
        "colab": {
          "base_uri": "https://localhost:8080/",
          "height": 472
        },
        "id": "g9blh_oy0qkA",
        "outputId": "c780f81a-ad1a-4605-d5f5-8cfd81b7693f"
      },
      "outputs": [
        {
          "data": {
            "image/png": "[encoded data removed]",
            "text/plain": [
              "<Figure size 640x480 with 1 Axes>"
            ]
          },
          "metadata": {},
          "output_type": "display_data"
        }
      ],
      "source": [
        "sns.distplot(train_df[\"energy\"], color = \"green\")\n",
        "plt.title(\"Energy Distribution\")\n",
        "plt.show()"
      ]
    },
    {
      "cell_type": "code",
      "execution_count": 1,
      "metadata": {
        "colab": {
          "base_uri": "https://localhost:8080/",
          "height": 182
        },
        "id": "nM5sHX1r0qmk",
        "outputId": "288a35bc-b3de-405f-bd0d-ead1632259c2"
      },
      "outputs": [
        {
          "ename": "NameError",
          "evalue": "name 'sns' is not defined",
          "output_type": "error",
          "traceback": [
            "\u001b[0;31m---------------------------------------------------------------------------\u001b[0m",
            "\u001b[0;31mNameError\u001b[0m                                 Traceback (most recent call last)",
            "\u001b[0;32m<ipython-input-1-f4f17c147f6c>\u001b[0m in \u001b[0;36m<cell line: 1>\u001b[0;34m()\u001b[0m\n\u001b[0;32m----> 1\u001b[0;31m \u001b[0msns\u001b[0m\u001b[0;34m.\u001b[0m\u001b[0mdistplot\u001b[0m\u001b[0;34m(\u001b[0m\u001b[0mtrain_df\u001b[0m\u001b[0;34m[\u001b[0m\u001b[0;34m\"contrast\"\u001b[0m\u001b[0;34m]\u001b[0m\u001b[0;34m,\u001b[0m \u001b[0mcolor\u001b[0m \u001b[0;34m=\u001b[0m \u001b[0;34m\"green\"\u001b[0m\u001b[0;34m)\u001b[0m\u001b[0;34m\u001b[0m\u001b[0;34m\u001b[0m\u001b[0m\n\u001b[0m\u001b[1;32m      2\u001b[0m \u001b[0mplt\u001b[0m\u001b[0;34m.\u001b[0m\u001b[0mtitle\u001b[0m\u001b[0;34m(\u001b[0m\u001b[0;34m\"Contrast Distribution\"\u001b[0m\u001b[0;34m)\u001b[0m\u001b[0;34m\u001b[0m\u001b[0;34m\u001b[0m\u001b[0m\n\u001b[1;32m      3\u001b[0m \u001b[0mplt\u001b[0m\u001b[0;34m.\u001b[0m\u001b[0mshow\u001b[0m\u001b[0;34m(\u001b[0m\u001b[0;34m)\u001b[0m\u001b[0;34m\u001b[0m\u001b[0;34m\u001b[0m\u001b[0m\n",
            "\u001b[0;31mNameError\u001b[0m: name 'sns' is not defined"
          ]
        }
      ],
      "source": [
        "sns.distplot(train_df[\"contrast\"], color = \"green\")\n",
        "plt.title(\"Contrast Distribution\")\n",
        "plt.show()"
      ]
    },
    {
      "cell_type": "code",
      "execution_count": null,
      "metadata": {
        "id": "E9-rIZyo0qp0"
      },
      "outputs": [],
      "source": [
        "sns.distplot(train_df[\"homogeneity\"], color = \"green\")\n",
        "plt.title(\"Homogeneity Distribution\")\n",
        "plt.show()"
      ]
    },
    {
      "cell_type": "markdown",
      "metadata": {
        "id": "HzsxL-kD09aI"
      },
      "source": [
        "## **Feature Engineering and Selection**"
      ]
    },
    {
      "cell_type": "code",
      "execution_count": null,
      "metadata": {
        "colab": {
          "base_uri": "https://localhost:8080/"
        },
        "id": "kMRHZQxX1CAX",
        "outputId": "df9ceae5-db4c-4db2-b4fa-54d760279e4d"
      },
      "outputs": [
        {
          "data": {
            "text/plain": [
              "Index(['image_id', 'average_hue', 'average_saturation', 'average_value',\n",
              "       'area', 'x', 'y', 'w', 'h', 'aspect_ratio', 'correlation', 'energy',\n",
              "       'contrast', 'homogeneity', 'quality'],\n",
              "      dtype='object')"
            ]
          },
          "execution_count": 42,
          "metadata": {},
          "output_type": "execute_result"
        }
      ],
      "source": [
        "train_df.columns"
      ]
    },
    {
      "cell_type": "code",
      "execution_count": null,
      "metadata": {
        "id": "73JbJlPr1CDA"
      },
      "outputs": [],
      "source": [
        "features = ['average_hue', 'area', 'aspect_ratio', 'correlation', 'energy', 'contrast', 'homogeneity', 'x', 'y', 'w', 'h']\n",
        "target = [\"quality\"]"
      ]
    },
    {
      "cell_type": "code",
      "execution_count": null,
      "metadata": {
        "id": "m9OFEL641CFx"
      },
      "outputs": [],
      "source": [
        "X_train = train_df[features]\n",
        "y_train = train_df[target]\n",
        "\n",
        "X_test = test_df[features]\n",
        "y_test = test_df[target]"
      ]
    },
    {
      "cell_type": "code",
      "execution_count": null,
      "metadata": {
        "colab": {
          "base_uri": "https://localhost:8080/",
          "height": 143
        },
        "id": "GTsgbqxM1CIp",
        "outputId": "6413d315-d9c2-4292-d505-0ca29d84ffe3"
      },
      "outputs": [
        {
          "data": {
            "application/vnd.google.colaboratory.intrinsic+json": {
              "summary": "{\n  \"name\": \"X_train\",\n  \"rows\": 364,\n  \"fields\": [\n    {\n      \"column\": \"average_hue\",\n      \"properties\": {\n        \"dtype\": \"number\",\n        \"std\": 8.917800832193441,\n        \"min\": 153.3291836009306,\n        \"max\": 203.65981680676828,\n        \"num_unique_values\": 364,\n        \"samples\": [\n          183.09291720920135,\n          175.2231936984592,\n          184.08500816993464\n        ],\n        \"semantic_type\": \"\",\n        \"description\": \"\"\n      }\n    },\n    {\n      \"column\": \"area\",\n      \"properties\": {\n        \"dtype\": \"number\",\n        \"std\": 3830467.7079624604,\n        \"min\": 348592.0,\n        \"max\": 21800064.5,\n        \"num_unique_values\": 364,\n        \"samples\": [\n          4562180.0,\n          12544674.0,\n          7171536.5\n        ],\n        \"semantic_type\": \"\",\n        \"description\": \"\"\n      }\n    },\n    {\n      \"column\": \"aspect_ratio\",\n      \"properties\": {\n        \"dtype\": \"number\",\n        \"std\": 0.273242018302495,\n        \"min\": 0.5063974978675007,\n        \"max\": 3.001814882032668,\n        \"num_unique_values\": 364,\n        \"samples\": [\n          1.1675451807228916,\n          0.7619136609979443,\n          1.405109489051095\n        ],\n        \"semantic_type\": \"\",\n        \"description\": \"\"\n      }\n    },\n    {\n      \"column\": \"correlation\",\n      \"properties\": {\n        \"dtype\": \"number\",\n        \"std\": 0.00013677966495631656,\n        \"min\": 0.9986909707725524,\n        \"max\": 0.9999242126080624,\n        \"num_unique_values\": 364,\n        \"samples\": [\n          0.999771737643238,\n          0.999846948198558,\n          0.9994809136167764\n        ],\n        \"semantic_type\": \"\",\n        \"description\": \"\"\n      }\n    },\n    {\n      \"column\": \"energy\",\n      \"properties\": {\n        \"dtype\": \"number\",\n        \"std\": 0.023284029757175344,\n        \"min\": 0.0694457077192507,\n        \"max\": 0.2125240752681675,\n        \"num_unique_values\": 364,\n        \"samples\": [\n          0.1158470970909847,\n          0.0885736192026601,\n          0.0697640117607474\n        ],\n        \"semantic_type\": \"\",\n        \"description\": \"\"\n      }\n    },\n    {\n      \"column\": \"contrast\",\n      \"properties\": {\n        \"dtype\": \"number\",\n        \"std\": 0.41911950050344615,\n        \"min\": 0.4572677642817041,\n        \"max\": 2.754430054149489,\n        \"num_unique_values\": 364,\n        \"samples\": [\n          0.6006746168345786,\n          0.6746012330695208,\n          1.822476270289064\n        ],\n        \"semantic_type\": \"\",\n        \"description\": \"\"\n      }\n    },\n    {\n      \"column\": \"homogeneity\",\n      \"properties\": {\n        \"dtype\": \"number\",\n        \"std\": 0.034102134612650783,\n        \"min\": 0.5747124178791292,\n        \"max\": 0.809252080361593,\n        \"num_unique_values\": 364,\n        \"samples\": [\n          0.78879303861177,\n          0.7882718776787,\n          0.5747124178791292\n        ],\n        \"semantic_type\": \"\",\n        \"description\": \"\"\n      }\n    },\n    {\n      \"column\": \"x\",\n      \"properties\": {\n        \"dtype\": \"number\",\n        \"std\": 501,\n        \"min\": 0,\n        \"max\": 3715,\n        \"num_unique_values\": 328,\n        \"samples\": [\n          1574,\n          860,\n          775\n        ],\n        \"semantic_type\": \"\",\n        \"description\": \"\"\n      }\n    },\n    {\n      \"column\": \"y\",\n      \"properties\": {\n        \"dtype\": \"number\",\n        \"std\": 852,\n        \"min\": 0,\n        \"max\": 5921,\n        \"num_unique_values\": 343,\n        \"samples\": [\n          2710,\n          2578,\n          4716\n        ],\n        \"semantic_type\": \"\",\n        \"description\": \"\"\n      }\n    },\n    {\n      \"column\": \"w\",\n      \"properties\": {\n        \"dtype\": \"number\",\n        \"std\": 767,\n        \"min\": 1365,\n        \"max\": 5925,\n        \"num_unique_values\": 342,\n        \"samples\": [\n          2996,\n          3291,\n          3709\n        ],\n        \"semantic_type\": \"\",\n        \"description\": \"\"\n      }\n    },\n    {\n      \"column\": \"h\",\n      \"properties\": {\n        \"dtype\": \"number\",\n        \"std\": 921,\n        \"min\": 523,\n        \"max\": 7034,\n        \"num_unique_values\": 342,\n        \"samples\": [\n          2641,\n          3940,\n          4765\n        ],\n        \"semantic_type\": \"\",\n        \"description\": \"\"\n      }\n    }\n  ]\n}",
              "type": "dataframe",
              "variable_name": "X_train"
            },
            "text/html": [
              "\n",
              "  <div id=\"df-22e1c4f0-24ce-4353-89d5-88d30208e032\" class=\"colab-df-container\">\n",
              "    <div>\n",
              "<style scoped>\n",
              "    .dataframe tbody tr th:only-of-type {\n",
              "        vertical-align: middle;\n",
              "    }\n",
              "\n",
              "    .dataframe tbody tr th {\n",
              "        vertical-align: top;\n",
              "    }\n",
              "\n",
              "    .dataframe thead th {\n",
              "        text-align: right;\n",
              "    }\n",
              "</style>\n",
              "<table border=\"1\" class=\"dataframe\">\n",
              "  <thead>\n",
              "    <tr style=\"text-align: right;\">\n",
              "      <th></th>\n",
              "      <th>average_hue</th>\n",
              "      <th>area</th>\n",
              "      <th>aspect_ratio</th>\n",
              "      <th>correlation</th>\n",
              "      <th>energy</th>\n",
              "      <th>contrast</th>\n",
              "      <th>homogeneity</th>\n",
              "      <th>x</th>\n",
              "      <th>y</th>\n",
              "      <th>w</th>\n",
              "      <th>h</th>\n",
              "    </tr>\n",
              "  </thead>\n",
              "  <tbody>\n",
              "    <tr>\n",
              "      <th>0</th>\n",
              "      <td>171.740116</td>\n",
              "      <td>10423027.5</td>\n",
              "      <td>0.878699</td>\n",
              "      <td>0.999776</td>\n",
              "      <td>0.102137</td>\n",
              "      <td>1.368497</td>\n",
              "      <td>0.761298</td>\n",
              "      <td>672</td>\n",
              "      <td>1979</td>\n",
              "      <td>3593</td>\n",
              "      <td>4089</td>\n",
              "    </tr>\n",
              "    <tr>\n",
              "      <th>1</th>\n",
              "      <td>181.174462</td>\n",
              "      <td>10067058.5</td>\n",
              "      <td>0.749822</td>\n",
              "      <td>0.999882</td>\n",
              "      <td>0.111418</td>\n",
              "      <td>0.615052</td>\n",
              "      <td>0.777823</td>\n",
              "      <td>1631</td>\n",
              "      <td>2906</td>\n",
              "      <td>3162</td>\n",
              "      <td>4217</td>\n",
              "    </tr>\n",
              "    <tr>\n",
              "      <th>2</th>\n",
              "      <td>172.587475</td>\n",
              "      <td>14213498.0</td>\n",
              "      <td>0.719622</td>\n",
              "      <td>0.999803</td>\n",
              "      <td>0.106929</td>\n",
              "      <td>1.268606</td>\n",
              "      <td>0.764490</td>\n",
              "      <td>1684</td>\n",
              "      <td>1716</td>\n",
              "      <td>3660</td>\n",
              "      <td>5086</td>\n",
              "    </tr>\n",
              "  </tbody>\n",
              "</table>\n",
              "</div>\n",
              "    <div class=\"colab-df-buttons\">\n",
              "\n",
              "  <div class=\"colab-df-container\">\n",
              "    <button class=\"colab-df-convert\" onclick=\"convertToInteractive('df-22e1c4f0-24ce-4353-89d5-88d30208e032')\"\n",
              "            title=\"Convert this dataframe to an interactive table.\"\n",
              "            style=\"display:none;\">\n",
              "\n",
              "  <svg xmlns=\"http://www.w3.org/2000/svg\" height=\"24px\" viewBox=\"0 -960 960 960\">\n",
              "    <path d=\"M120-120v-720h720v720H120Zm60-500h600v-160H180v160Zm220 220h160v-160H400v160Zm0 220h160v-160H400v160ZM180-400h160v-160H180v160Zm440 0h160v-160H620v160ZM180-180h160v-160H180v160Zm440 0h160v-160H620v160Z\"/>\n",
              "  </svg>\n",
              "    </button>\n",
              "\n",
              "  <style>\n",
              "    .colab-df-container {\n",
              "      display:flex;\n",
              "      gap: 12px;\n",
              "    }\n",
              "\n",
              "    .colab-df-convert {\n",
              "      background-color: #E8F0FE;\n",
              "      border: none;\n",
              "      border-radius: 50%;\n",
              "      cursor: pointer;\n",
              "      display: none;\n",
              "      fill: #1967D2;\n",
              "      height: 32px;\n",
              "      padding: 0 0 0 0;\n",
              "      width: 32px;\n",
              "    }\n",
              "\n",
              "    .colab-df-convert:hover {\n",
              "      background-color: #E2EBFA;\n",
              "      box-shadow: 0px 1px 2px rgba(60, 64, 67, 0.3), 0px 1px 3px 1px rgba(60, 64, 67, 0.15);\n",
              "      fill: #174EA6;\n",
              "    }\n",
              "\n",
              "    .colab-df-buttons div {\n",
              "      margin-bottom: 4px;\n",
              "    }\n",
              "\n",
              "    [theme=dark] .colab-df-convert {\n",
              "      background-color: #3B4455;\n",
              "      fill: #D2E3FC;\n",
              "    }\n",
              "\n",
              "    [theme=dark] .colab-df-convert:hover {\n",
              "      background-color: #434B5C;\n",
              "      box-shadow: 0px 1px 3px 1px rgba(0, 0, 0, 0.15);\n",
              "      filter: drop-shadow(0px 1px 2px rgba(0, 0, 0, 0.3));\n",
              "      fill: #FFFFFF;\n",
              "    }\n",
              "  </style>\n",
              "\n",
              "    <script>\n",
              "      const buttonEl =\n",
              "        document.querySelector('#df-22e1c4f0-24ce-4353-89d5-88d30208e032 button.colab-df-convert');\n",
              "      buttonEl.style.display =\n",
              "        google.colab.kernel.accessAllowed ? 'block' : 'none';\n",
              "\n",
              "      async function convertToInteractive(key) {\n",
              "        const element = document.querySelector('#df-22e1c4f0-24ce-4353-89d5-88d30208e032');\n",
              "        const dataTable =\n",
              "          await google.colab.kernel.invokeFunction('convertToInteractive',\n",
              "                                                    [key], {});\n",
              "        if (!dataTable) return;\n",
              "\n",
              "        const docLinkHtml = 'Like what you see? Visit the ' +\n",
              "          '<a target=\"_blank\" href=https://colab.research.google.com/notebooks/data_table.ipynb>data table notebook</a>'\n",
              "          + ' to learn more about interactive tables.';\n",
              "        element.innerHTML = '';\n",
              "        dataTable['output_type'] = 'display_data';\n",
              "        await google.colab.output.renderOutput(dataTable, element);\n",
              "        const docLink = document.createElement('div');\n",
              "        docLink.innerHTML = docLinkHtml;\n",
              "        element.appendChild(docLink);\n",
              "      }\n",
              "    </script>\n",
              "  </div>\n",
              "\n",
              "\n",
              "<div id=\"df-e5a4d26f-19d6-4eb6-a5ee-582205bf7e3e\">\n",
              "  <button class=\"colab-df-quickchart\" onclick=\"quickchart('df-e5a4d26f-19d6-4eb6-a5ee-582205bf7e3e')\"\n",
              "            title=\"Suggest charts\"\n",
              "            style=\"display:none;\">\n",
              "\n",
              "<svg xmlns=\"http://www.w3.org/2000/svg\" height=\"24px\"viewBox=\"0 0 24 24\"\n",
              "     width=\"24px\">\n",
              "    <g>\n",
              "        <path d=\"M19 3H5c-1.1 0-2 .9-2 2v14c0 1.1.9 2 2 2h14c1.1 0 2-.9 2-2V5c0-1.1-.9-2-2-2zM9 17H7v-7h2v7zm4 0h-2V7h2v10zm4 0h-2v-4h2v4z\"/>\n",
              "    </g>\n",
              "</svg>\n",
              "  </button>\n",
              "\n",
              "<style>\n",
              "  .colab-df-quickchart {\n",
              "      --bg-color: #E8F0FE;\n",
              "      --fill-color: #1967D2;\n",
              "      --hover-bg-color: #E2EBFA;\n",
              "      --hover-fill-color: #174EA6;\n",
              "      --disabled-fill-color: #AAA;\n",
              "      --disabled-bg-color: #DDD;\n",
              "  }\n",
              "\n",
              "  [theme=dark] .colab-df-quickchart {\n",
              "      --bg-color: #3B4455;\n",
              "      --fill-color: #D2E3FC;\n",
              "      --hover-bg-color: #434B5C;\n",
              "      --hover-fill-color: #FFFFFF;\n",
              "      --disabled-bg-color: #3B4455;\n",
              "      --disabled-fill-color: #666;\n",
              "  }\n",
              "\n",
              "  .colab-df-quickchart {\n",
              "    background-color: var(--bg-color);\n",
              "    border: none;\n",
              "    border-radius: 50%;\n",
              "    cursor: pointer;\n",
              "    display: none;\n",
              "    fill: var(--fill-color);\n",
              "    height: 32px;\n",
              "    padding: 0;\n",
              "    width: 32px;\n",
              "  }\n",
              "\n",
              "  .colab-df-quickchart:hover {\n",
              "    background-color: var(--hover-bg-color);\n",
              "    box-shadow: 0 1px 2px rgba(60, 64, 67, 0.3), 0 1px 3px 1px rgba(60, 64, 67, 0.15);\n",
              "    fill: var(--button-hover-fill-color);\n",
              "  }\n",
              "\n",
              "  .colab-df-quickchart-complete:disabled,\n",
              "  .colab-df-quickchart-complete:disabled:hover {\n",
              "    background-color: var(--disabled-bg-color);\n",
              "    fill: var(--disabled-fill-color);\n",
              "    box-shadow: none;\n",
              "  }\n",
              "\n",
              "  .colab-df-spinner {\n",
              "    border: 2px solid var(--fill-color);\n",
              "    border-color: transparent;\n",
              "    border-bottom-color: var(--fill-color);\n",
              "    animation:\n",
              "      spin 1s steps(1) infinite;\n",
              "  }\n",
              "\n",
              "  @keyframes spin {\n",
              "    0% {\n",
              "      border-color: transparent;\n",
              "      border-bottom-color: var(--fill-color);\n",
              "      border-left-color: var(--fill-color);\n",
              "    }\n",
              "    20% {\n",
              "      border-color: transparent;\n",
              "      border-left-color: var(--fill-color);\n",
              "      border-top-color: var(--fill-color);\n",
              "    }\n",
              "    30% {\n",
              "      border-color: transparent;\n",
              "      border-left-color: var(--fill-color);\n",
              "      border-top-color: var(--fill-color);\n",
              "      border-right-color: var(--fill-color);\n",
              "    }\n",
              "    40% {\n",
              "      border-color: transparent;\n",
              "      border-right-color: var(--fill-color);\n",
              "      border-top-color: var(--fill-color);\n",
              "    }\n",
              "    60% {\n",
              "      border-color: transparent;\n",
              "      border-right-color: var(--fill-color);\n",
              "    }\n",
              "    80% {\n",
              "      border-color: transparent;\n",
              "      border-right-color: var(--fill-color);\n",
              "      border-bottom-color: var(--fill-color);\n",
              "    }\n",
              "    90% {\n",
              "      border-color: transparent;\n",
              "      border-bottom-color: var(--fill-color);\n",
              "    }\n",
              "  }\n",
              "</style>\n",
              "\n",
              "  <script>\n",
              "    async function quickchart(key) {\n",
              "      const quickchartButtonEl =\n",
              "        document.querySelector('#' + key + ' button');\n",
              "      quickchartButtonEl.disabled = true;  // To prevent multiple clicks.\n",
              "      quickchartButtonEl.classList.add('colab-df-spinner');\n",
              "      try {\n",
              "        const charts = await google.colab.kernel.invokeFunction(\n",
              "            'suggestCharts', [key], {});\n",
              "      } catch (error) {\n",
              "        console.error('Error during call to suggestCharts:', error);\n",
              "      }\n",
              "      quickchartButtonEl.classList.remove('colab-df-spinner');\n",
              "      quickchartButtonEl.classList.add('colab-df-quickchart-complete');\n",
              "    }\n",
              "    (() => {\n",
              "      let quickchartButtonEl =\n",
              "        document.querySelector('#df-e5a4d26f-19d6-4eb6-a5ee-582205bf7e3e button');\n",
              "      quickchartButtonEl.style.display =\n",
              "        google.colab.kernel.accessAllowed ? 'block' : 'none';\n",
              "    })();\n",
              "  </script>\n",
              "</div>\n",
              "\n",
              "    </div>\n",
              "  </div>\n"
            ],
            "text/plain": [
              "   average_hue        area  aspect_ratio  correlation    energy  contrast  \\\n",
              "0   171.740116  10423027.5      0.878699     0.999776  0.102137  1.368497   \n",
              "1   181.174462  10067058.5      0.749822     0.999882  0.111418  0.615052   \n",
              "2   172.587475  14213498.0      0.719622     0.999803  0.106929  1.268606   \n",
              "\n",
              "   homogeneity     x     y     w     h  \n",
              "0     0.761298   672  1979  3593  4089  \n",
              "1     0.777823  1631  2906  3162  4217  \n",
              "2     0.764490  1684  1716  3660  5086  "
            ]
          },
          "execution_count": 45,
          "metadata": {},
          "output_type": "execute_result"
        }
      ],
      "source": [
        "X_train.head(3)"
      ]
    },
    {
      "cell_type": "code",
      "execution_count": null,
      "metadata": {
        "colab": {
          "base_uri": "https://localhost:8080/",
          "height": 505
        },
        "id": "enmmL72kHvMu",
        "outputId": "29f1af06-bf98-4ccd-f4b8-f4ef912e0cac"
      },
      "outputs": [
        {
          "data": {
            "text/plain": [
              "<matplotlib.legend.Legend at 0x7d2e8b05d690>"
            ]
          },
          "execution_count": 46,
          "metadata": {},
          "output_type": "execute_result"
        },
        {
          "data": {
            "image/png": "[encoded data removed]",
            "text/plain": [
              "<Figure size 1000x500 with 1 Axes>"
            ]
          },
          "metadata": {},
          "output_type": "display_data"
        }
      ],
      "source": [
        "plt.figure(figsize = (10,5))\n",
        "\n",
        "plt.scatter(train_df[train_df['quality'].eq(1)]['average_hue'], train_df[train_df['quality'].eq(1)]['homogeneity'],  color = 'g', label = 'Good quality')\n",
        "plt.scatter(train_df[train_df['quality'].eq(0)]['average_hue'], train_df[train_df['quality'].eq(0)]['homogeneity'],  color = 'r', label = 'Bad quality')\n",
        "\n",
        "plt.xlabel('Hue')\n",
        "plt.ylabel('Homogeneity')\n",
        "plt.title('Hue vs Homogeneity')\n",
        "plt.legend()"
      ]
    },
    {
      "cell_type": "code",
      "execution_count": null,
      "metadata": {
        "colab": {
          "base_uri": "https://localhost:8080/",
          "height": 505
        },
        "id": "Tk51cIcAHyaG",
        "outputId": "6c6f8533-5715-41cd-9706-03dac7524127"
      },
      "outputs": [
        {
          "data": {
            "text/plain": [
              "<matplotlib.legend.Legend at 0x7d2e8b089e70>"
            ]
          },
          "execution_count": 47,
          "metadata": {},
          "output_type": "execute_result"
        },
        {
          "data": {
            "image/png": "[encoded data removed]",
            "text/plain": [
              "<Figure size 1000x500 with 1 Axes>"
            ]
          },
          "metadata": {},
          "output_type": "display_data"
        }
      ],
      "source": [
        "plt.figure(figsize = (10,5))\n",
        "\n",
        "plt.scatter(train_df[train_df['quality'].eq(1)]['energy'], train_df[train_df['quality'].eq(1)]['contrast'],  color = 'g', label = 'Good quality')\n",
        "plt.scatter(train_df[train_df['quality'].eq(0)]['energy'], train_df[train_df['quality'].eq(0)]['contrast'],  color = 'r', label = 'Bad quality')\n",
        "\n",
        "plt.xlabel('Energy')\n",
        "plt.ylabel('Contrast')\n",
        "plt.title('Energy vs Contrast')\n",
        "plt.legend()"
      ]
    },
    {
      "cell_type": "code",
      "execution_count": null,
      "metadata": {
        "id": "ZUKJvm5WHylK"
      },
      "outputs": [],
      "source": []
    },
    {
      "cell_type": "markdown",
      "metadata": {
        "id": "FSkctS8n1jQ1"
      },
      "source": [
        "**Feature Scaling (Standardization)**"
      ]
    },
    {
      "cell_type": "code",
      "execution_count": null,
      "metadata": {
        "id": "k6tXfZOL1njW"
      },
      "outputs": [],
      "source": [
        "from sklearn.preprocessing import StandardScaler\n",
        "\n",
        "# Create a StandardScaler instance\n",
        "scaler = StandardScaler()\n",
        "scaler.fit(X_train)\n",
        "# Fit the scaler to the data and transform the data\n",
        "X_train = scaler.transform(X_train)\n",
        "X_test = scaler.transform(X_test)"
      ]
    },
    {
      "cell_type": "code",
      "execution_count": null,
      "metadata": {
        "colab": {
          "base_uri": "https://localhost:8080/"
        },
        "id": "6kTLbpufp4z5",
        "outputId": "b73b98b3-6ca6-4898-cc34-a137b013114d"
      },
      "outputs": [
        {
          "data": {
            "text/plain": [
              "['scaler.joblib']"
            ]
          },
          "execution_count": 53,
          "metadata": {},
          "output_type": "execute_result"
        }
      ],
      "source": [
        "import joblib\n",
        "model_name = \"scaler.joblib\"\n",
        "\n",
        "# Saving it with Joblib's gentle hand,\n",
        "joblib.dump(scaler, model_name)"
      ]
    },
    {
      "cell_type": "code",
      "execution_count": null,
      "metadata": {
        "colab": {
          "base_uri": "https://localhost:8080/"
        },
        "id": "ul3KEMqD1nl5",
        "outputId": "d965da1f-3479-4b95-e0fc-93ef272c5f47"
      },
      "outputs": [
        {
          "data": {
            "text/plain": [
              "array([[-1.21652923,  0.20675525, -0.41822639, ..., -0.50192588,\n",
              "        -0.00890363,  0.32574312],\n",
              "       [-0.15715016,  0.11369638, -0.89053367, ...,  0.58698559,\n",
              "        -0.57146409,  0.46486444],\n",
              "       [-1.12137962,  1.19767548, -1.00120927, ..., -0.81086193,\n",
              "         0.07854776,  1.40936778],\n",
              "       ...,\n",
              "       [ 1.49253801, -2.39021749,  0.79106622, ...,  2.56159206,\n",
              "        -2.77080135, -2.79035711],\n",
              "       [ 1.48789435, -1.23136811, -0.41106763, ...,  0.009052  ,\n",
              "        -1.5973864 , -1.18611437],\n",
              "       [-2.98208895,  2.40025849,  0.13973898, ..., -0.42087422,\n",
              "         1.86673296,  1.18438252]])"
            ]
          },
          "execution_count": 54,
          "metadata": {},
          "output_type": "execute_result"
        }
      ],
      "source": [
        "X_train"
      ]
    },
    {
      "cell_type": "markdown",
      "metadata": {
        "id": "kOOtnNSOkrTD"
      },
      "source": [
        "## **Modeling**"
      ]
    },
    {
      "cell_type": "markdown",
      "metadata": {
        "id": "HXy_Rj4p2W_1"
      },
      "source": [
        "**Logistics Regression**"
      ]
    },
    {
      "cell_type": "code",
      "execution_count": null,
      "metadata": {
        "id": "6-hdCtN72uaF"
      },
      "outputs": [],
      "source": [
        "from sklearn.linear_model import LogisticRegression"
      ]
    },
    {
      "cell_type": "code",
      "execution_count": null,
      "metadata": {
        "id": "IS_YrbOPb__7"
      },
      "outputs": [],
      "source": [
        "model_log_reg = LogisticRegression()\n",
        "\n",
        "# Train the model on the training data\n",
        "model_log_reg.fit(X_train, y_train)\n",
        "\n",
        "# Make predictions on the test data\n",
        "pred_log_reg = model_log_reg.predict(X_test)"
      ]
    },
    {
      "cell_type": "markdown",
      "metadata": {
        "id": "hW9L24Xt22xK"
      },
      "source": [
        "**SVC**"
      ]
    },
    {
      "cell_type": "code",
      "execution_count": null,
      "metadata": {
        "id": "tHKnSfZrcAC0"
      },
      "outputs": [],
      "source": [
        "from sklearn.svm import SVC"
      ]
    },
    {
      "cell_type": "code",
      "execution_count": null,
      "metadata": {
        "id": "lwABnaU3cAF1"
      },
      "outputs": [],
      "source": [
        "model_svc = SVC()\n",
        "\n",
        "# Train the model on the training data\n",
        "model_svc.fit(X_train, y_train)\n",
        "\n",
        "# Make predictions on the test data\n",
        "pred_svc = model_svc.predict(X_test)"
      ]
    },
    {
      "cell_type": "markdown",
      "metadata": {
        "id": "bQ4LrN5CkwUy"
      },
      "source": [
        "## **Model Evaluation**"
      ]
    },
    {
      "cell_type": "code",
      "execution_count": null,
      "metadata": {
        "id": "vgzC9jggkysf"
      },
      "outputs": [],
      "source": [
        "from sklearn.metrics import accuracy_score, classification_report, confusion_matrix"
      ]
    },
    {
      "cell_type": "code",
      "execution_count": null,
      "metadata": {
        "id": "8HWL0zYPZq70"
      },
      "outputs": [],
      "source": [
        "import numpy as np\n",
        "\n",
        "\n",
        "def plot_confusion_matrix(cm,\n",
        "                          target_names,\n",
        "                          title='Confusion matrix',\n",
        "                          cmap=None,\n",
        "                          normalize=True):\n",
        "    \"\"\"\n",
        "    given a sklearn confusion matrix (cm), make a nice plot\n",
        "\n",
        "    Arguments\n",
        "    ---------\n",
        "    cm:           confusion matrix from sklearn.metrics.confusion_matrix\n",
        "\n",
        "    target_names: given classification classes such as [0, 1, 2]\n",
        "                  the class names, for example: ['high', 'medium', 'low']\n",
        "\n",
        "    title:        the text to display at the top of the matrix\n",
        "\n",
        "    cmap:         the gradient of the values displayed from matplotlib.pyplot.cm\n",
        "                  see http://matplotlib.org/examples/color/colormaps_reference.html\n",
        "                  plt.get_cmap('jet') or plt.cm.Blues\n",
        "\n",
        "    normalize:    If False, plot the raw numbers\n",
        "                  If True, plot the proportions\n",
        "\n",
        "    Usage\n",
        "    -----\n",
        "    plot_confusion_matrix(cm           = cm,                  # confusion matrix created by\n",
        "                                                              # sklearn.metrics.confusion_matrix\n",
        "                          normalize    = True,                # show proportions\n",
        "                          target_names = y_labels_vals,       # list of names of the classes\n",
        "                          title        = best_estimator_name) # title of graph\n",
        "\n",
        "    Citiation\n",
        "    ---------\n",
        "    http://scikit-learn.org/stable/auto_examples/model_selection/plot_confusion_matrix.html\n",
        "\n",
        "    \"\"\"\n",
        "    import matplotlib.pyplot as plt\n",
        "    import numpy as np\n",
        "    import itertools\n",
        "\n",
        "    accuracy = np.trace(cm) / float(np.sum(cm))\n",
        "    misclass = 1 - accuracy\n",
        "\n",
        "    if cmap is None:\n",
        "        cmap = plt.get_cmap('Blues')\n",
        "\n",
        "    plt.figure(figsize=(8, 6))\n",
        "    plt.imshow(cm, interpolation='nearest', cmap=cmap)\n",
        "    plt.title(title)\n",
        "    plt.colorbar()\n",
        "\n",
        "    if target_names is not None:\n",
        "        tick_marks = np.arange(len(target_names))\n",
        "        plt.xticks(tick_marks, target_names, rotation=45)\n",
        "        plt.yticks(tick_marks, target_names)\n",
        "\n",
        "    if normalize:\n",
        "        cm = cm.astype('float') / cm.sum(axis=1)[:, np.newaxis]\n",
        "\n",
        "\n",
        "    thresh = cm.max() / 1.5 if normalize else cm.max() / 2\n",
        "    for i, j in itertools.product(range(cm.shape[0]), range(cm.shape[1])):\n",
        "        if normalize:\n",
        "            plt.text(j, i, \"{:0.4f}\".format(cm[i, j]),\n",
        "                     horizontalalignment=\"center\",\n",
        "                     color=\"white\" if cm[i, j] > thresh else \"black\")\n",
        "        else:\n",
        "            plt.text(j, i, \"{:,}\".format(cm[i, j]),\n",
        "                     horizontalalignment=\"center\",\n",
        "                     color=\"white\" if cm[i, j] > thresh else \"black\")\n",
        "\n",
        "\n",
        "    plt.tight_layout()\n",
        "    plt.ylabel('True label')\n",
        "    plt.xlabel('Predicted label\\naccuracy={:0.4f}; misclass={:0.4f}'.format(accuracy, misclass))\n",
        "    plt.show()"
      ]
    },
    {
      "cell_type": "markdown",
      "metadata": {
        "id": "y1X76icd3bcu"
      },
      "source": [
        "**Models Accuracy**"
      ]
    },
    {
      "cell_type": "code",
      "execution_count": null,
      "metadata": {
        "colab": {
          "base_uri": "https://localhost:8080/"
        },
        "id": "cMq_AOQXkzrW",
        "outputId": "53cab4a6-ef4e-4d6a-ec6a-e5c53d6192f4"
      },
      "outputs": [
        {
          "name": "stdout",
          "output_type": "stream",
          "text": [
            "Logistic Regression Accuracy: 0.8021978021978022\n",
            "Support Vector Classifier Accuracy: 0.8351648351648352\n"
          ]
        }
      ],
      "source": [
        "print(f\"Logistic Regression Accuracy: {accuracy_score(y_test, pred_log_reg)}\")\n",
        "print(f\"Support Vector Classifier Accuracy: {accuracy_score(y_test, pred_svc)}\")"
      ]
    },
    {
      "cell_type": "markdown",
      "metadata": {
        "id": "U_9b_sM44L1D"
      },
      "source": [
        "**Logistic Regression**"
      ]
    },
    {
      "cell_type": "code",
      "execution_count": null,
      "metadata": {
        "colab": {
          "base_uri": "https://localhost:8080/"
        },
        "id": "HWxO3iYhkzuD",
        "outputId": "16202eb0-287e-4dda-ab11-e795b87b9f5d"
      },
      "outputs": [
        {
          "name": "stdout",
          "output_type": "stream",
          "text": [
            "              precision    recall  f1-score   support\n",
            "\n",
            "           0       0.64      0.33      0.44        21\n",
            "           1       0.82      0.94      0.88        70\n",
            "\n",
            "    accuracy                           0.80        91\n",
            "   macro avg       0.73      0.64      0.66        91\n",
            "weighted avg       0.78      0.80      0.78        91\n",
            "\n"
          ]
        }
      ],
      "source": [
        "## Logistic Regression\n",
        "print(classification_report(y_test, pred_log_reg))"
      ]
    },
    {
      "cell_type": "code",
      "execution_count": null,
      "metadata": {
        "colab": {
          "base_uri": "https://localhost:8080/"
        },
        "id": "0GeblmyLkzw2",
        "outputId": "eb86a184-ebe5-47aa-bc3c-ecd86d6f9cd2"
      },
      "outputs": [
        {
          "data": {
            "text/plain": [
              "array([[ 7, 14],\n",
              "       [ 4, 66]])"
            ]
          },
          "execution_count": 63,
          "metadata": {},
          "output_type": "execute_result"
        }
      ],
      "source": [
        "## Logistic Regression\n",
        "confusion_matrix(y_test, pred_log_reg)"
      ]
    },
    {
      "cell_type": "code",
      "execution_count": null,
      "metadata": {
        "colab": {
          "base_uri": "https://localhost:8080/",
          "height": 642
        },
        "id": "P-6U_2ZBkzzg",
        "outputId": "a6c142fa-7343-45e7-de58-8d103617a369"
      },
      "outputs": [
        {
          "data": {
            "image/png": "[encoded data removed]",
            "text/plain": [
              "<Figure size 800x600 with 2 Axes>"
            ]
          },
          "metadata": {},
          "output_type": "display_data"
        }
      ],
      "source": [
        "plot_confusion_matrix(cm           = confusion_matrix(y_test, pred_log_reg),\n",
        "                      normalize    = False,\n",
        "                      target_names = ['Bad', 'Good'],\n",
        "                      title        = \"Confusion Matrix\")"
      ]
    },
    {
      "cell_type": "markdown",
      "metadata": {
        "id": "59fsrIc_bd41"
      },
      "source": [
        "**Support Vector Classifier**"
      ]
    },
    {
      "cell_type": "code",
      "execution_count": null,
      "metadata": {
        "colab": {
          "base_uri": "https://localhost:8080/"
        },
        "id": "qUEwPlpPaaPA",
        "outputId": "b64514d1-7066-4bf0-c25c-7f54e6728072"
      },
      "outputs": [
        {
          "name": "stdout",
          "output_type": "stream",
          "text": [
            "              precision    recall  f1-score   support\n",
            "\n",
            "           0       1.00      0.29      0.44        21\n",
            "           1       0.82      1.00      0.90        70\n",
            "\n",
            "    accuracy                           0.84        91\n",
            "   macro avg       0.91      0.64      0.67        91\n",
            "weighted avg       0.86      0.84      0.80        91\n",
            "\n"
          ]
        }
      ],
      "source": [
        "## Logistic Regression\n",
        "print(classification_report(y_test, pred_svc))"
      ]
    },
    {
      "cell_type": "code",
      "execution_count": null,
      "metadata": {
        "colab": {
          "base_uri": "https://localhost:8080/",
          "height": 642
        },
        "id": "mc55oatIa2Bv",
        "outputId": "b38792f4-5699-4dce-ddf8-12d5ece4a998"
      },
      "outputs": [
        {
          "data": {
            "image/png": "[encoded data removed]",
            "text/plain": [
              "<Figure size 800x600 with 2 Axes>"
            ]
          },
          "metadata": {},
          "output_type": "display_data"
        }
      ],
      "source": [
        "plot_confusion_matrix(cm = confusion_matrix(y_test, pred_svc),\n",
        "                      normalize    = False,\n",
        "                      target_names = ['Bad', 'Good'],\n",
        "                      title        = \"Confusion Matrix\")"
      ]
    },
    {
      "cell_type": "code",
      "execution_count": null,
      "metadata": {
        "colab": {
          "base_uri": "https://localhost:8080/"
        },
        "id": "M3xKHvSZnWwo",
        "outputId": "ec6db386-534c-4721-b5d0-c2ac3d134c1d"
      },
      "outputs": [
        {
          "data": {
            "text/plain": [
              "['model.joblib']"
            ]
          },
          "execution_count": 70,
          "metadata": {},
          "output_type": "execute_result"
        }
      ],
      "source": [
        "import joblib\n",
        "\n",
        "# Your model's name and path, oh so dear,\n",
        "model_name = \"model.joblib\"\n",
        "\n",
        "# Saving it with Joblib's gentle hand,\n",
        "joblib.dump(model_log_reg, model_name)"
      ]
    },
    {
      "cell_type": "code",
      "execution_count": null,
      "metadata": {
        "colab": {
          "base_uri": "https://localhost:8080/"
        },
        "id": "JtznmOldyLQe",
        "outputId": "83715322-75dd-4719-9943-1be43fc9a7bc"
      },
      "outputs": [
        {
          "name": "stdout",
          "output_type": "stream",
          "text": [
            "1.4.2\n"
          ]
        }
      ],
      "source": [
        "import sklearn\n",
        "\n",
        "print(sklearn.__version__)"
      ]
    },
    {
      "cell_type": "code",
      "execution_count": null,
      "metadata": {
        "id": "SyUugdYyyPqO"
      },
      "outputs": [],
      "source": [
        "!pip install scikit-learn==1.4.2"
      ]
    },
    {
      "cell_type": "code",
      "execution_count": null,
      "metadata": {
        "id": "MiiwwK7I2hPI"
      },
      "outputs": [],
      "source": []
    }
  ],
  "metadata": {
    "colab": {
      "provenance": []
    },
    "kernelspec": {
      "display_name": "Python 3",
      "name": "python3"
    },
    "language_info": {
      "name": "python"
    }
  },
  "nbformat": 4,
  "nbformat_minor": 0
}
