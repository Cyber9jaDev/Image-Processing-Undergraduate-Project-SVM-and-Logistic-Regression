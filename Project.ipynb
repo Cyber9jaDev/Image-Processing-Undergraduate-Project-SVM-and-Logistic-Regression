{
  "nbformat": 4,
  "nbformat_minor": 0,
  "metadata": {
    "colab": {
      "provenance": []
    },
    "kernelspec": {
      "name": "python3",
      "display_name": "Python 3"
    },
    "language_info": {
      "name": "python"
    }
  },
  "cells": [
    {
      "cell_type": "markdown",
      "source": [
        "## **Libraries**"
      ],
      "metadata": {
        "id": "S3BclZof6xZ0"
      }
    },
    {
      "cell_type": "code",
      "source": [
        "from google.colab import drive\n",
        "drive.mount('/content/drive')"
      ],
      "metadata": {
        "colab": {
          "base_uri": "https://localhost:8080/",
          "height": 0
        },
        "id": "quRc4KSv7A9h",
        "outputId": "c84f7aa9-a447-4d0c-e22e-6c38b4bee2f8"
      },
      "execution_count": 1,
      "outputs": [
        {
          "output_type": "stream",
          "name": "stdout",
          "text": [
            "Mounted at /content/drive\n"
          ]
        }
      ]
    },
    {
      "cell_type": "code",
      "source": [
        "class params:\n",
        "\n",
        "    data_path = '/content/drive/MyDrive/Project'\n",
        "    bad_images = '/content/drive/MyDrive/Project/Bad'\n",
        "    good_images = '/content/drive/MyDrive/Project/Good'\n",
        "    csv_files = '/content/drive/MyDrive/Project/csv_files'"
      ],
      "metadata": {
        "id": "YZsxyxZG70Or"
      },
      "execution_count": 2,
      "outputs": []
    },
    {
      "cell_type": "code",
      "source": [
        "import os\n",
        "import cv2\n",
        "\n",
        "import matplotlib.pyplot as plt\n",
        "%matplotlib inline"
      ],
      "metadata": {
        "id": "vyvK0a0M7f8j"
      },
      "execution_count": 3,
      "outputs": []
    },
    {
      "cell_type": "code",
      "source": [
        "import pandas as pd\n",
        "from sklearn.model_selection import train_test_split"
      ],
      "metadata": {
        "id": "sR1pGsmb-iJE"
      },
      "execution_count": 4,
      "outputs": []
    },
    {
      "cell_type": "markdown",
      "source": [
        "## **Dataset**\n",
        "\n"
      ],
      "metadata": {
        "id": "2YNSNw8D71E8"
      }
    },
    {
      "cell_type": "code",
      "source": [
        "all_images = os.listdir(params.bad_images) + os.listdir(params.good_images)"
      ],
      "metadata": {
        "id": "I_7dQOTs7f_l"
      },
      "execution_count": 5,
      "outputs": []
    },
    {
      "cell_type": "code",
      "source": [
        "dataset = pd.DataFrame(\n",
        "    {\n",
        "        'images': [f\"{params.bad_images}/{x}\" for x in os.listdir(params.bad_images)] + [f\"{params.good_images}/{x}\" for x in os.listdir(params.good_images)],\n",
        "        'label': [0]*len(os.listdir(params.bad_images)) + [1]*len(os.listdir(params.good_images))\n",
        "    }\n",
        ")"
      ],
      "metadata": {
        "id": "4EB4MYX1-a9E"
      },
      "execution_count": 13,
      "outputs": []
    },
    {
      "cell_type": "code",
      "source": [
        "dataset.head()"
      ],
      "metadata": {
        "colab": {
          "base_uri": "https://localhost:8080/",
          "height": 206
        },
        "id": "bqhFS149-bAZ",
        "outputId": "e33254ea-4cdc-4f63-d6b0-3ede078113e0"
      },
      "execution_count": 14,
      "outputs": [
        {
          "output_type": "execute_result",
          "data": {
            "text/plain": [
              "                                              images  label\n",
              "0  /content/drive/MyDrive/Project/Bad/IMG_2024021...      0\n",
              "1  /content/drive/MyDrive/Project/Bad/IMG_2024021...      0\n",
              "2  /content/drive/MyDrive/Project/Bad/IMG_2024021...      0\n",
              "3  /content/drive/MyDrive/Project/Bad/IMG_2024021...      0\n",
              "4  /content/drive/MyDrive/Project/Bad/IMG_2024021...      0"
            ],
            "text/html": [
              "\n",
              "  <div id=\"df-5b5a6242-e450-452b-b5f2-6e8733753e8b\" class=\"colab-df-container\">\n",
              "    <div>\n",
              "<style scoped>\n",
              "    .dataframe tbody tr th:only-of-type {\n",
              "        vertical-align: middle;\n",
              "    }\n",
              "\n",
              "    .dataframe tbody tr th {\n",
              "        vertical-align: top;\n",
              "    }\n",
              "\n",
              "    .dataframe thead th {\n",
              "        text-align: right;\n",
              "    }\n",
              "</style>\n",
              "<table border=\"1\" class=\"dataframe\">\n",
              "  <thead>\n",
              "    <tr style=\"text-align: right;\">\n",
              "      <th></th>\n",
              "      <th>images</th>\n",
              "      <th>label</th>\n",
              "    </tr>\n",
              "  </thead>\n",
              "  <tbody>\n",
              "    <tr>\n",
              "      <th>0</th>\n",
              "      <td>/content/drive/MyDrive/Project/Bad/IMG_2024021...</td>\n",
              "      <td>0</td>\n",
              "    </tr>\n",
              "    <tr>\n",
              "      <th>1</th>\n",
              "      <td>/content/drive/MyDrive/Project/Bad/IMG_2024021...</td>\n",
              "      <td>0</td>\n",
              "    </tr>\n",
              "    <tr>\n",
              "      <th>2</th>\n",
              "      <td>/content/drive/MyDrive/Project/Bad/IMG_2024021...</td>\n",
              "      <td>0</td>\n",
              "    </tr>\n",
              "    <tr>\n",
              "      <th>3</th>\n",
              "      <td>/content/drive/MyDrive/Project/Bad/IMG_2024021...</td>\n",
              "      <td>0</td>\n",
              "    </tr>\n",
              "    <tr>\n",
              "      <th>4</th>\n",
              "      <td>/content/drive/MyDrive/Project/Bad/IMG_2024021...</td>\n",
              "      <td>0</td>\n",
              "    </tr>\n",
              "  </tbody>\n",
              "</table>\n",
              "</div>\n",
              "    <div class=\"colab-df-buttons\">\n",
              "\n",
              "  <div class=\"colab-df-container\">\n",
              "    <button class=\"colab-df-convert\" onclick=\"convertToInteractive('df-5b5a6242-e450-452b-b5f2-6e8733753e8b')\"\n",
              "            title=\"Convert this dataframe to an interactive table.\"\n",
              "            style=\"display:none;\">\n",
              "\n",
              "  <svg xmlns=\"http://www.w3.org/2000/svg\" height=\"24px\" viewBox=\"0 -960 960 960\">\n",
              "    <path d=\"M120-120v-720h720v720H120Zm60-500h600v-160H180v160Zm220 220h160v-160H400v160Zm0 220h160v-160H400v160ZM180-400h160v-160H180v160Zm440 0h160v-160H620v160ZM180-180h160v-160H180v160Zm440 0h160v-160H620v160Z\"/>\n",
              "  </svg>\n",
              "    </button>\n",
              "\n",
              "  <style>\n",
              "    .colab-df-container {\n",
              "      display:flex;\n",
              "      gap: 12px;\n",
              "    }\n",
              "\n",
              "    .colab-df-convert {\n",
              "      background-color: #E8F0FE;\n",
              "      border: none;\n",
              "      border-radius: 50%;\n",
              "      cursor: pointer;\n",
              "      display: none;\n",
              "      fill: #1967D2;\n",
              "      height: 32px;\n",
              "      padding: 0 0 0 0;\n",
              "      width: 32px;\n",
              "    }\n",
              "\n",
              "    .colab-df-convert:hover {\n",
              "      background-color: #E2EBFA;\n",
              "      box-shadow: 0px 1px 2px rgba(60, 64, 67, 0.3), 0px 1px 3px 1px rgba(60, 64, 67, 0.15);\n",
              "      fill: #174EA6;\n",
              "    }\n",
              "\n",
              "    .colab-df-buttons div {\n",
              "      margin-bottom: 4px;\n",
              "    }\n",
              "\n",
              "    [theme=dark] .colab-df-convert {\n",
              "      background-color: #3B4455;\n",
              "      fill: #D2E3FC;\n",
              "    }\n",
              "\n",
              "    [theme=dark] .colab-df-convert:hover {\n",
              "      background-color: #434B5C;\n",
              "      box-shadow: 0px 1px 3px 1px rgba(0, 0, 0, 0.15);\n",
              "      filter: drop-shadow(0px 1px 2px rgba(0, 0, 0, 0.3));\n",
              "      fill: #FFFFFF;\n",
              "    }\n",
              "  </style>\n",
              "\n",
              "    <script>\n",
              "      const buttonEl =\n",
              "        document.querySelector('#df-5b5a6242-e450-452b-b5f2-6e8733753e8b button.colab-df-convert');\n",
              "      buttonEl.style.display =\n",
              "        google.colab.kernel.accessAllowed ? 'block' : 'none';\n",
              "\n",
              "      async function convertToInteractive(key) {\n",
              "        const element = document.querySelector('#df-5b5a6242-e450-452b-b5f2-6e8733753e8b');\n",
              "        const dataTable =\n",
              "          await google.colab.kernel.invokeFunction('convertToInteractive',\n",
              "                                                    [key], {});\n",
              "        if (!dataTable) return;\n",
              "\n",
              "        const docLinkHtml = 'Like what you see? Visit the ' +\n",
              "          '<a target=\"_blank\" href=https://colab.research.google.com/notebooks/data_table.ipynb>data table notebook</a>'\n",
              "          + ' to learn more about interactive tables.';\n",
              "        element.innerHTML = '';\n",
              "        dataTable['output_type'] = 'display_data';\n",
              "        await google.colab.output.renderOutput(dataTable, element);\n",
              "        const docLink = document.createElement('div');\n",
              "        docLink.innerHTML = docLinkHtml;\n",
              "        element.appendChild(docLink);\n",
              "      }\n",
              "    </script>\n",
              "  </div>\n",
              "\n",
              "\n",
              "<div id=\"df-70502c3c-9d0d-4d97-9bff-767eded3c281\">\n",
              "  <button class=\"colab-df-quickchart\" onclick=\"quickchart('df-70502c3c-9d0d-4d97-9bff-767eded3c281')\"\n",
              "            title=\"Suggest charts\"\n",
              "            style=\"display:none;\">\n",
              "\n",
              "<svg xmlns=\"http://www.w3.org/2000/svg\" height=\"24px\"viewBox=\"0 0 24 24\"\n",
              "     width=\"24px\">\n",
              "    <g>\n",
              "        <path d=\"M19 3H5c-1.1 0-2 .9-2 2v14c0 1.1.9 2 2 2h14c1.1 0 2-.9 2-2V5c0-1.1-.9-2-2-2zM9 17H7v-7h2v7zm4 0h-2V7h2v10zm4 0h-2v-4h2v4z\"/>\n",
              "    </g>\n",
              "</svg>\n",
              "  </button>\n",
              "\n",
              "<style>\n",
              "  .colab-df-quickchart {\n",
              "      --bg-color: #E8F0FE;\n",
              "      --fill-color: #1967D2;\n",
              "      --hover-bg-color: #E2EBFA;\n",
              "      --hover-fill-color: #174EA6;\n",
              "      --disabled-fill-color: #AAA;\n",
              "      --disabled-bg-color: #DDD;\n",
              "  }\n",
              "\n",
              "  [theme=dark] .colab-df-quickchart {\n",
              "      --bg-color: #3B4455;\n",
              "      --fill-color: #D2E3FC;\n",
              "      --hover-bg-color: #434B5C;\n",
              "      --hover-fill-color: #FFFFFF;\n",
              "      --disabled-bg-color: #3B4455;\n",
              "      --disabled-fill-color: #666;\n",
              "  }\n",
              "\n",
              "  .colab-df-quickchart {\n",
              "    background-color: var(--bg-color);\n",
              "    border: none;\n",
              "    border-radius: 50%;\n",
              "    cursor: pointer;\n",
              "    display: none;\n",
              "    fill: var(--fill-color);\n",
              "    height: 32px;\n",
              "    padding: 0;\n",
              "    width: 32px;\n",
              "  }\n",
              "\n",
              "  .colab-df-quickchart:hover {\n",
              "    background-color: var(--hover-bg-color);\n",
              "    box-shadow: 0 1px 2px rgba(60, 64, 67, 0.3), 0 1px 3px 1px rgba(60, 64, 67, 0.15);\n",
              "    fill: var(--button-hover-fill-color);\n",
              "  }\n",
              "\n",
              "  .colab-df-quickchart-complete:disabled,\n",
              "  .colab-df-quickchart-complete:disabled:hover {\n",
              "    background-color: var(--disabled-bg-color);\n",
              "    fill: var(--disabled-fill-color);\n",
              "    box-shadow: none;\n",
              "  }\n",
              "\n",
              "  .colab-df-spinner {\n",
              "    border: 2px solid var(--fill-color);\n",
              "    border-color: transparent;\n",
              "    border-bottom-color: var(--fill-color);\n",
              "    animation:\n",
              "      spin 1s steps(1) infinite;\n",
              "  }\n",
              "\n",
              "  @keyframes spin {\n",
              "    0% {\n",
              "      border-color: transparent;\n",
              "      border-bottom-color: var(--fill-color);\n",
              "      border-left-color: var(--fill-color);\n",
              "    }\n",
              "    20% {\n",
              "      border-color: transparent;\n",
              "      border-left-color: var(--fill-color);\n",
              "      border-top-color: var(--fill-color);\n",
              "    }\n",
              "    30% {\n",
              "      border-color: transparent;\n",
              "      border-left-color: var(--fill-color);\n",
              "      border-top-color: var(--fill-color);\n",
              "      border-right-color: var(--fill-color);\n",
              "    }\n",
              "    40% {\n",
              "      border-color: transparent;\n",
              "      border-right-color: var(--fill-color);\n",
              "      border-top-color: var(--fill-color);\n",
              "    }\n",
              "    60% {\n",
              "      border-color: transparent;\n",
              "      border-right-color: var(--fill-color);\n",
              "    }\n",
              "    80% {\n",
              "      border-color: transparent;\n",
              "      border-right-color: var(--fill-color);\n",
              "      border-bottom-color: var(--fill-color);\n",
              "    }\n",
              "    90% {\n",
              "      border-color: transparent;\n",
              "      border-bottom-color: var(--fill-color);\n",
              "    }\n",
              "  }\n",
              "</style>\n",
              "\n",
              "  <script>\n",
              "    async function quickchart(key) {\n",
              "      const quickchartButtonEl =\n",
              "        document.querySelector('#' + key + ' button');\n",
              "      quickchartButtonEl.disabled = true;  // To prevent multiple clicks.\n",
              "      quickchartButtonEl.classList.add('colab-df-spinner');\n",
              "      try {\n",
              "        const charts = await google.colab.kernel.invokeFunction(\n",
              "            'suggestCharts', [key], {});\n",
              "      } catch (error) {\n",
              "        console.error('Error during call to suggestCharts:', error);\n",
              "      }\n",
              "      quickchartButtonEl.classList.remove('colab-df-spinner');\n",
              "      quickchartButtonEl.classList.add('colab-df-quickchart-complete');\n",
              "    }\n",
              "    (() => {\n",
              "      let quickchartButtonEl =\n",
              "        document.querySelector('#df-70502c3c-9d0d-4d97-9bff-767eded3c281 button');\n",
              "      quickchartButtonEl.style.display =\n",
              "        google.colab.kernel.accessAllowed ? 'block' : 'none';\n",
              "    })();\n",
              "  </script>\n",
              "</div>\n",
              "\n",
              "    </div>\n",
              "  </div>\n"
            ],
            "application/vnd.google.colaboratory.intrinsic+json": {
              "type": "dataframe",
              "variable_name": "dataset",
              "summary": "{\n  \"name\": \"dataset\",\n  \"rows\": 455,\n  \"fields\": [\n    {\n      \"column\": \"images\",\n      \"properties\": {\n        \"dtype\": \"string\",\n        \"num_unique_values\": 455,\n        \"samples\": [\n          \"/content/drive/MyDrive/Project/Good/IMG_20240211_003057.jpg\",\n          \"/content/drive/MyDrive/Project/Bad/IMG_20240217_130930.jpg\",\n          \"/content/drive/MyDrive/Project/Good/IMG_20240211_005047.jpg\"\n        ],\n        \"semantic_type\": \"\",\n        \"description\": \"\"\n      }\n    },\n    {\n      \"column\": \"label\",\n      \"properties\": {\n        \"dtype\": \"number\",\n        \"std\": 0,\n        \"min\": 0,\n        \"max\": 1,\n        \"num_unique_values\": 2,\n        \"samples\": [\n          1,\n          0\n        ],\n        \"semantic_type\": \"\",\n        \"description\": \"\"\n      }\n    }\n  ]\n}"
            }
          },
          "metadata": {},
          "execution_count": 14
        }
      ]
    },
    {
      "cell_type": "code",
      "source": [
        "dataset['label'].value_counts(normalize = True)"
      ],
      "metadata": {
        "colab": {
          "base_uri": "https://localhost:8080/",
          "height": 0
        },
        "id": "ImjmXd6c-bDJ",
        "outputId": "60f92576-2486-4a52-fd4d-1b4f52b0bcf5"
      },
      "execution_count": 22,
      "outputs": [
        {
          "output_type": "execute_result",
          "data": {
            "text/plain": [
              "1    0.773626\n",
              "0    0.226374\n",
              "Name: label, dtype: float64"
            ]
          },
          "metadata": {},
          "execution_count": 22
        }
      ]
    },
    {
      "cell_type": "code",
      "source": [
        "X = dataset['images']\n",
        "y = dataset['label']\n",
        "\n",
        "\n",
        "X_train, X_test, y_train, y_test = train_test_split(X, y, test_size = 0.2, stratify = y)"
      ],
      "metadata": {
        "id": "XYbkgc2M-bGM"
      },
      "execution_count": 16,
      "outputs": []
    },
    {
      "cell_type": "code",
      "source": [
        "X_train.shape, X_test.shape, y_train.shape, y_test.shape"
      ],
      "metadata": {
        "colab": {
          "base_uri": "https://localhost:8080/",
          "height": 0
        },
        "id": "iejQPdSe7gCn",
        "outputId": "e25380c5-932d-41b6-beee-73ecc45e6125"
      },
      "execution_count": 17,
      "outputs": [
        {
          "output_type": "execute_result",
          "data": {
            "text/plain": [
              "((364,), (91,), (364,), (91,))"
            ]
          },
          "metadata": {},
          "execution_count": 17
        }
      ]
    },
    {
      "cell_type": "code",
      "source": [
        "y_train.value_counts(normalize = True)"
      ],
      "metadata": {
        "colab": {
          "base_uri": "https://localhost:8080/",
          "height": 0
        },
        "id": "X24p1yhKELzF",
        "outputId": "ad5bf5eb-de38-4692-811a-aca2e40f06e2"
      },
      "execution_count": 23,
      "outputs": [
        {
          "output_type": "execute_result",
          "data": {
            "text/plain": [
              "1    0.774725\n",
              "0    0.225275\n",
              "Name: label, dtype: float64"
            ]
          },
          "metadata": {},
          "execution_count": 23
        }
      ]
    },
    {
      "cell_type": "code",
      "source": [
        "y_test.value_counts(normalize = True)"
      ],
      "metadata": {
        "colab": {
          "base_uri": "https://localhost:8080/",
          "height": 0
        },
        "id": "ElKWl-IuEL2z",
        "outputId": "13b6b24d-42f0-47f1-b5f6-f2462e7098b6"
      },
      "execution_count": 24,
      "outputs": [
        {
          "output_type": "execute_result",
          "data": {
            "text/plain": [
              "1    0.769231\n",
              "0    0.230769\n",
              "Name: label, dtype: float64"
            ]
          },
          "metadata": {},
          "execution_count": 24
        }
      ]
    },
    {
      "cell_type": "code",
      "source": [],
      "metadata": {
        "id": "ZJxHMRyLEL5w"
      },
      "execution_count": null,
      "outputs": []
    },
    {
      "cell_type": "markdown",
      "source": [
        "## **Feature Extration**"
      ],
      "metadata": {
        "id": "Cg5Oq7pmAoB7"
      }
    },
    {
      "cell_type": "code",
      "source": [
        "import cv2\n",
        "import numpy as np\n",
        "from skimage.feature import greycomatrix, graycoprops, graycomatrix\n",
        "from skimage import io, color, img_as_ubyte\n",
        "from skimage.feature import local_binary_pattern\n",
        "from scipy.stats import skew, kurtosis\n",
        "from skimage.measure import shannon_entropy"
      ],
      "metadata": {
        "id": "sqBVwK3eAv4f"
      },
      "execution_count": 25,
      "outputs": []
    },
    {
      "cell_type": "code",
      "source": [
        "def ExtractFeatures(image_ids):\n",
        "  \"\"\"\n",
        "  image_paths: Paths to the images\n",
        "  \"\"\"\n",
        "  import time\n",
        "  from tqdm import tqdm\n",
        "  import warnings\n",
        "  warnings.filterwarnings(\"ignore\")\n",
        "\n",
        "  features = {\"image_id\": [],\n",
        "                \"average_hue\":[],\n",
        "                \"average_saturation\": [],\n",
        "                \"average_value\" : [],\n",
        "                \"area\": [],\n",
        "                \"x\":[], \"y\":[],\n",
        "                \"w\":[], \"h\":[],\n",
        "                \"aspect_ratio\": [],\n",
        "                \"correlation\": [],\n",
        "                \"energy\":[],\n",
        "                \"contrast\":[],\n",
        "                \"homogeneity\":[]}\n",
        "\n",
        "  for image_id in tqdm(image_ids, desc=\"Processing\", unit=\"images\"):\n",
        "\n",
        "    features[\"image_id\"].append(image_id)\n",
        "    image = cv2.imread(image_id)\n",
        "    gray_image = cv2.cvtColor(image, cv2.COLOR_BGR2GRAY)\n",
        "    hsv = cv2.cvtColor(image, cv2.COLOR_BGR2GRAY)\n",
        "\n",
        "    # Color Features\n",
        "    average_color = np.mean(image, axis=(0, 1))\n",
        "    color_histogram = cv2.calcHist([image], [0, 1, 2], None, [256, 256, 256], [0, 256, 0, 256, 0, 256])\n",
        "    dominant_color = np.argmax(color_histogram)\n",
        "    color_variance = np.var(image)\n",
        "\n",
        "    # 1. Average color in HSV channels (Hue, Saturation, Value)\n",
        "    h, s, v,_ = cv2.mean(hsv)\n",
        "    features[\"average_hue\"].append(h)\n",
        "    features[\"average_saturation\"].append(s)\n",
        "    features[\"average_value\"].append(v)\n",
        "\n",
        "    # 3. Area of the tomato (assuming some segmentation is done beforehand)\n",
        "    # Replace this with your segmentation method (e.g., Otsu's thresholding)\n",
        "    # This is a placeholder for demonstration purposes\n",
        "    gray = cv2.cvtColor(image, cv2.COLOR_BGR2GRAY)\n",
        "    _, binary = cv2.threshold(gray, 127, 255, cv2.THRESH_BINARY_INV)\n",
        "    contours, _ = cv2.findContours(binary, cv2.RETR_EXTERNAL, cv2.CHAIN_APPROX_SIMPLE)\n",
        "\n",
        "    if len(contours) > 0:\n",
        "        largest_area = cv2.contourArea(contours[0])\n",
        "        for cnt in contours:\n",
        "          area = cv2.contourArea(cnt)\n",
        "          if area > largest_area:\n",
        "            largest_area = area\n",
        "    else:\n",
        "        largest_area = 0\n",
        "    features[\"area\"].append(largest_area)\n",
        "    cnt = max(contours, key=cv2.contourArea)\n",
        "\n",
        "    area = cv2.contourArea(cnt)\n",
        "    perimeter = cv2.arcLength(cnt, True)\n",
        "    (x, y, w, h) = cv2.boundingRect(cnt)\n",
        "    aspect_ratio = float(w) / h\n",
        "\n",
        "    features[\"w\"].append(w)\n",
        "    features[\"h\"].append(h)\n",
        "    features[\"x\"].append(x)\n",
        "    features[\"y\"].append(y)\n",
        "    features[\"aspect_ratio\"].append(aspect_ratio)\n",
        "\n",
        "    glcm = graycomatrix(gray_image, [1], [0, np.pi/4, np.pi/2, 3*np.pi/4], levels=256, symmetric=True, normed=True)\n",
        "    contrast = graycoprops(glcm, 'contrast')\n",
        "    homogeneity = graycoprops(glcm, 'homogeneity')\n",
        "    energy = graycoprops(glcm, 'energy')\n",
        "    correlation = graycoprops(glcm, 'correlation')\n",
        "\n",
        "    features[\"correlation\"].append(correlation.mean())\n",
        "    features[\"energy\"].append(energy.mean())\n",
        "    features[\"contrast\"].append(contrast.mean())\n",
        "    features[\"homogeneity\"].append(homogeneity.mean())\n",
        "\n",
        "  return pd.DataFrame(features)"
      ],
      "metadata": {
        "id": "S7Ni-Tb20KfC"
      },
      "execution_count": 26,
      "outputs": []
    },
    {
      "cell_type": "code",
      "source": [
        "## Extracting Training Dataset\n",
        "features_df = ExtractFeatures(image_ids = X_train.values)"
      ],
      "metadata": {
        "colab": {
          "base_uri": "https://localhost:8080/",
          "height": 0
        },
        "id": "7URUcgzt4SBZ",
        "outputId": "f3648923-86df-432a-872e-e5a810dc1fad"
      },
      "execution_count": 27,
      "outputs": [
        {
          "output_type": "stream",
          "name": "stderr",
          "text": [
            "Processing: 100%|██████████| 364/364 [28:29<00:00,  4.70s/images]\n"
          ]
        }
      ]
    },
    {
      "cell_type": "code",
      "source": [
        "features_df[\"quality\"] = y_train.values\n",
        "features_df.head()"
      ],
      "metadata": {
        "colab": {
          "base_uri": "https://localhost:8080/",
          "height": 226
        },
        "id": "vDFqE6EyizU0",
        "outputId": "6b8d18a5-c2b2-454a-9259-37e10242ecb9"
      },
      "execution_count": 28,
      "outputs": [
        {
          "output_type": "execute_result",
          "data": {
            "text/plain": [
              "                                            image_id  average_hue  \\\n",
              "0  /content/drive/MyDrive/Project/Good/IMG_202402...   187.932207   \n",
              "1  /content/drive/MyDrive/Project/Good/IMG_202402...   180.669479   \n",
              "2  /content/drive/MyDrive/Project/Good/IMG_202402...   191.237192   \n",
              "3  /content/drive/MyDrive/Project/Good/IMG_202402...   190.373784   \n",
              "4  /content/drive/MyDrive/Project/Good/IMG_202402...   188.568423   \n",
              "\n",
              "   average_saturation  average_value       area     x     y     w     h  \\\n",
              "0                 0.0            0.0  7306977.0     0  1790  3654  2684   \n",
              "1                 0.0            0.0  9237372.0   928  2264  3014  4208   \n",
              "2                 0.0            0.0  4354118.5  1699  2635  2352  2481   \n",
              "3                 0.0            0.0   691646.0  1213  4233  2624  1181   \n",
              "4                 0.0            0.0  7322388.0  1405  2007  3134  3432   \n",
              "\n",
              "   aspect_ratio  correlation    energy  contrast  homogeneity  quality  \n",
              "0      1.361401     0.999488  0.074876  1.793483     0.575839        1  \n",
              "1      0.716255     0.999887  0.108073  0.558863     0.780224        1  \n",
              "2      0.948005     0.999708  0.138788  0.837597     0.777061        1  \n",
              "3      2.221846     0.999591  0.114365  0.674852     0.775816        1  \n",
              "4      0.913170     0.999814  0.125936  0.721641     0.776437        1  "
            ],
            "text/html": [
              "\n",
              "  <div id=\"df-d2cd0077-11d2-473f-aed5-1b54b9d5e718\" class=\"colab-df-container\">\n",
              "    <div>\n",
              "<style scoped>\n",
              "    .dataframe tbody tr th:only-of-type {\n",
              "        vertical-align: middle;\n",
              "    }\n",
              "\n",
              "    .dataframe tbody tr th {\n",
              "        vertical-align: top;\n",
              "    }\n",
              "\n",
              "    .dataframe thead th {\n",
              "        text-align: right;\n",
              "    }\n",
              "</style>\n",
              "<table border=\"1\" class=\"dataframe\">\n",
              "  <thead>\n",
              "    <tr style=\"text-align: right;\">\n",
              "      <th></th>\n",
              "      <th>image_id</th>\n",
              "      <th>average_hue</th>\n",
              "      <th>average_saturation</th>\n",
              "      <th>average_value</th>\n",
              "      <th>area</th>\n",
              "      <th>x</th>\n",
              "      <th>y</th>\n",
              "      <th>w</th>\n",
              "      <th>h</th>\n",
              "      <th>aspect_ratio</th>\n",
              "      <th>correlation</th>\n",
              "      <th>energy</th>\n",
              "      <th>contrast</th>\n",
              "      <th>homogeneity</th>\n",
              "      <th>quality</th>\n",
              "    </tr>\n",
              "  </thead>\n",
              "  <tbody>\n",
              "    <tr>\n",
              "      <th>0</th>\n",
              "      <td>/content/drive/MyDrive/Project/Good/IMG_202402...</td>\n",
              "      <td>187.932207</td>\n",
              "      <td>0.0</td>\n",
              "      <td>0.0</td>\n",
              "      <td>7306977.0</td>\n",
              "      <td>0</td>\n",
              "      <td>1790</td>\n",
              "      <td>3654</td>\n",
              "      <td>2684</td>\n",
              "      <td>1.361401</td>\n",
              "      <td>0.999488</td>\n",
              "      <td>0.074876</td>\n",
              "      <td>1.793483</td>\n",
              "      <td>0.575839</td>\n",
              "      <td>1</td>\n",
              "    </tr>\n",
              "    <tr>\n",
              "      <th>1</th>\n",
              "      <td>/content/drive/MyDrive/Project/Good/IMG_202402...</td>\n",
              "      <td>180.669479</td>\n",
              "      <td>0.0</td>\n",
              "      <td>0.0</td>\n",
              "      <td>9237372.0</td>\n",
              "      <td>928</td>\n",
              "      <td>2264</td>\n",
              "      <td>3014</td>\n",
              "      <td>4208</td>\n",
              "      <td>0.716255</td>\n",
              "      <td>0.999887</td>\n",
              "      <td>0.108073</td>\n",
              "      <td>0.558863</td>\n",
              "      <td>0.780224</td>\n",
              "      <td>1</td>\n",
              "    </tr>\n",
              "    <tr>\n",
              "      <th>2</th>\n",
              "      <td>/content/drive/MyDrive/Project/Good/IMG_202402...</td>\n",
              "      <td>191.237192</td>\n",
              "      <td>0.0</td>\n",
              "      <td>0.0</td>\n",
              "      <td>4354118.5</td>\n",
              "      <td>1699</td>\n",
              "      <td>2635</td>\n",
              "      <td>2352</td>\n",
              "      <td>2481</td>\n",
              "      <td>0.948005</td>\n",
              "      <td>0.999708</td>\n",
              "      <td>0.138788</td>\n",
              "      <td>0.837597</td>\n",
              "      <td>0.777061</td>\n",
              "      <td>1</td>\n",
              "    </tr>\n",
              "    <tr>\n",
              "      <th>3</th>\n",
              "      <td>/content/drive/MyDrive/Project/Good/IMG_202402...</td>\n",
              "      <td>190.373784</td>\n",
              "      <td>0.0</td>\n",
              "      <td>0.0</td>\n",
              "      <td>691646.0</td>\n",
              "      <td>1213</td>\n",
              "      <td>4233</td>\n",
              "      <td>2624</td>\n",
              "      <td>1181</td>\n",
              "      <td>2.221846</td>\n",
              "      <td>0.999591</td>\n",
              "      <td>0.114365</td>\n",
              "      <td>0.674852</td>\n",
              "      <td>0.775816</td>\n",
              "      <td>1</td>\n",
              "    </tr>\n",
              "    <tr>\n",
              "      <th>4</th>\n",
              "      <td>/content/drive/MyDrive/Project/Good/IMG_202402...</td>\n",
              "      <td>188.568423</td>\n",
              "      <td>0.0</td>\n",
              "      <td>0.0</td>\n",
              "      <td>7322388.0</td>\n",
              "      <td>1405</td>\n",
              "      <td>2007</td>\n",
              "      <td>3134</td>\n",
              "      <td>3432</td>\n",
              "      <td>0.913170</td>\n",
              "      <td>0.999814</td>\n",
              "      <td>0.125936</td>\n",
              "      <td>0.721641</td>\n",
              "      <td>0.776437</td>\n",
              "      <td>1</td>\n",
              "    </tr>\n",
              "  </tbody>\n",
              "</table>\n",
              "</div>\n",
              "    <div class=\"colab-df-buttons\">\n",
              "\n",
              "  <div class=\"colab-df-container\">\n",
              "    <button class=\"colab-df-convert\" onclick=\"convertToInteractive('df-d2cd0077-11d2-473f-aed5-1b54b9d5e718')\"\n",
              "            title=\"Convert this dataframe to an interactive table.\"\n",
              "            style=\"display:none;\">\n",
              "\n",
              "  <svg xmlns=\"http://www.w3.org/2000/svg\" height=\"24px\" viewBox=\"0 -960 960 960\">\n",
              "    <path d=\"M120-120v-720h720v720H120Zm60-500h600v-160H180v160Zm220 220h160v-160H400v160Zm0 220h160v-160H400v160ZM180-400h160v-160H180v160Zm440 0h160v-160H620v160ZM180-180h160v-160H180v160Zm440 0h160v-160H620v160Z\"/>\n",
              "  </svg>\n",
              "    </button>\n",
              "\n",
              "  <style>\n",
              "    .colab-df-container {\n",
              "      display:flex;\n",
              "      gap: 12px;\n",
              "    }\n",
              "\n",
              "    .colab-df-convert {\n",
              "      background-color: #E8F0FE;\n",
              "      border: none;\n",
              "      border-radius: 50%;\n",
              "      cursor: pointer;\n",
              "      display: none;\n",
              "      fill: #1967D2;\n",
              "      height: 32px;\n",
              "      padding: 0 0 0 0;\n",
              "      width: 32px;\n",
              "    }\n",
              "\n",
              "    .colab-df-convert:hover {\n",
              "      background-color: #E2EBFA;\n",
              "      box-shadow: 0px 1px 2px rgba(60, 64, 67, 0.3), 0px 1px 3px 1px rgba(60, 64, 67, 0.15);\n",
              "      fill: #174EA6;\n",
              "    }\n",
              "\n",
              "    .colab-df-buttons div {\n",
              "      margin-bottom: 4px;\n",
              "    }\n",
              "\n",
              "    [theme=dark] .colab-df-convert {\n",
              "      background-color: #3B4455;\n",
              "      fill: #D2E3FC;\n",
              "    }\n",
              "\n",
              "    [theme=dark] .colab-df-convert:hover {\n",
              "      background-color: #434B5C;\n",
              "      box-shadow: 0px 1px 3px 1px rgba(0, 0, 0, 0.15);\n",
              "      filter: drop-shadow(0px 1px 2px rgba(0, 0, 0, 0.3));\n",
              "      fill: #FFFFFF;\n",
              "    }\n",
              "  </style>\n",
              "\n",
              "    <script>\n",
              "      const buttonEl =\n",
              "        document.querySelector('#df-d2cd0077-11d2-473f-aed5-1b54b9d5e718 button.colab-df-convert');\n",
              "      buttonEl.style.display =\n",
              "        google.colab.kernel.accessAllowed ? 'block' : 'none';\n",
              "\n",
              "      async function convertToInteractive(key) {\n",
              "        const element = document.querySelector('#df-d2cd0077-11d2-473f-aed5-1b54b9d5e718');\n",
              "        const dataTable =\n",
              "          await google.colab.kernel.invokeFunction('convertToInteractive',\n",
              "                                                    [key], {});\n",
              "        if (!dataTable) return;\n",
              "\n",
              "        const docLinkHtml = 'Like what you see? Visit the ' +\n",
              "          '<a target=\"_blank\" href=https://colab.research.google.com/notebooks/data_table.ipynb>data table notebook</a>'\n",
              "          + ' to learn more about interactive tables.';\n",
              "        element.innerHTML = '';\n",
              "        dataTable['output_type'] = 'display_data';\n",
              "        await google.colab.output.renderOutput(dataTable, element);\n",
              "        const docLink = document.createElement('div');\n",
              "        docLink.innerHTML = docLinkHtml;\n",
              "        element.appendChild(docLink);\n",
              "      }\n",
              "    </script>\n",
              "  </div>\n",
              "\n",
              "\n",
              "<div id=\"df-37c37dbd-7286-4e12-876a-af33fa5d0093\">\n",
              "  <button class=\"colab-df-quickchart\" onclick=\"quickchart('df-37c37dbd-7286-4e12-876a-af33fa5d0093')\"\n",
              "            title=\"Suggest charts\"\n",
              "            style=\"display:none;\">\n",
              "\n",
              "<svg xmlns=\"http://www.w3.org/2000/svg\" height=\"24px\"viewBox=\"0 0 24 24\"\n",
              "     width=\"24px\">\n",
              "    <g>\n",
              "        <path d=\"M19 3H5c-1.1 0-2 .9-2 2v14c0 1.1.9 2 2 2h14c1.1 0 2-.9 2-2V5c0-1.1-.9-2-2-2zM9 17H7v-7h2v7zm4 0h-2V7h2v10zm4 0h-2v-4h2v4z\"/>\n",
              "    </g>\n",
              "</svg>\n",
              "  </button>\n",
              "\n",
              "<style>\n",
              "  .colab-df-quickchart {\n",
              "      --bg-color: #E8F0FE;\n",
              "      --fill-color: #1967D2;\n",
              "      --hover-bg-color: #E2EBFA;\n",
              "      --hover-fill-color: #174EA6;\n",
              "      --disabled-fill-color: #AAA;\n",
              "      --disabled-bg-color: #DDD;\n",
              "  }\n",
              "\n",
              "  [theme=dark] .colab-df-quickchart {\n",
              "      --bg-color: #3B4455;\n",
              "      --fill-color: #D2E3FC;\n",
              "      --hover-bg-color: #434B5C;\n",
              "      --hover-fill-color: #FFFFFF;\n",
              "      --disabled-bg-color: #3B4455;\n",
              "      --disabled-fill-color: #666;\n",
              "  }\n",
              "\n",
              "  .colab-df-quickchart {\n",
              "    background-color: var(--bg-color);\n",
              "    border: none;\n",
              "    border-radius: 50%;\n",
              "    cursor: pointer;\n",
              "    display: none;\n",
              "    fill: var(--fill-color);\n",
              "    height: 32px;\n",
              "    padding: 0;\n",
              "    width: 32px;\n",
              "  }\n",
              "\n",
              "  .colab-df-quickchart:hover {\n",
              "    background-color: var(--hover-bg-color);\n",
              "    box-shadow: 0 1px 2px rgba(60, 64, 67, 0.3), 0 1px 3px 1px rgba(60, 64, 67, 0.15);\n",
              "    fill: var(--button-hover-fill-color);\n",
              "  }\n",
              "\n",
              "  .colab-df-quickchart-complete:disabled,\n",
              "  .colab-df-quickchart-complete:disabled:hover {\n",
              "    background-color: var(--disabled-bg-color);\n",
              "    fill: var(--disabled-fill-color);\n",
              "    box-shadow: none;\n",
              "  }\n",
              "\n",
              "  .colab-df-spinner {\n",
              "    border: 2px solid var(--fill-color);\n",
              "    border-color: transparent;\n",
              "    border-bottom-color: var(--fill-color);\n",
              "    animation:\n",
              "      spin 1s steps(1) infinite;\n",
              "  }\n",
              "\n",
              "  @keyframes spin {\n",
              "    0% {\n",
              "      border-color: transparent;\n",
              "      border-bottom-color: var(--fill-color);\n",
              "      border-left-color: var(--fill-color);\n",
              "    }\n",
              "    20% {\n",
              "      border-color: transparent;\n",
              "      border-left-color: var(--fill-color);\n",
              "      border-top-color: var(--fill-color);\n",
              "    }\n",
              "    30% {\n",
              "      border-color: transparent;\n",
              "      border-left-color: var(--fill-color);\n",
              "      border-top-color: var(--fill-color);\n",
              "      border-right-color: var(--fill-color);\n",
              "    }\n",
              "    40% {\n",
              "      border-color: transparent;\n",
              "      border-right-color: var(--fill-color);\n",
              "      border-top-color: var(--fill-color);\n",
              "    }\n",
              "    60% {\n",
              "      border-color: transparent;\n",
              "      border-right-color: var(--fill-color);\n",
              "    }\n",
              "    80% {\n",
              "      border-color: transparent;\n",
              "      border-right-color: var(--fill-color);\n",
              "      border-bottom-color: var(--fill-color);\n",
              "    }\n",
              "    90% {\n",
              "      border-color: transparent;\n",
              "      border-bottom-color: var(--fill-color);\n",
              "    }\n",
              "  }\n",
              "</style>\n",
              "\n",
              "  <script>\n",
              "    async function quickchart(key) {\n",
              "      const quickchartButtonEl =\n",
              "        document.querySelector('#' + key + ' button');\n",
              "      quickchartButtonEl.disabled = true;  // To prevent multiple clicks.\n",
              "      quickchartButtonEl.classList.add('colab-df-spinner');\n",
              "      try {\n",
              "        const charts = await google.colab.kernel.invokeFunction(\n",
              "            'suggestCharts', [key], {});\n",
              "      } catch (error) {\n",
              "        console.error('Error during call to suggestCharts:', error);\n",
              "      }\n",
              "      quickchartButtonEl.classList.remove('colab-df-spinner');\n",
              "      quickchartButtonEl.classList.add('colab-df-quickchart-complete');\n",
              "    }\n",
              "    (() => {\n",
              "      let quickchartButtonEl =\n",
              "        document.querySelector('#df-37c37dbd-7286-4e12-876a-af33fa5d0093 button');\n",
              "      quickchartButtonEl.style.display =\n",
              "        google.colab.kernel.accessAllowed ? 'block' : 'none';\n",
              "    })();\n",
              "  </script>\n",
              "</div>\n",
              "\n",
              "    </div>\n",
              "  </div>\n"
            ],
            "application/vnd.google.colaboratory.intrinsic+json": {
              "type": "dataframe",
              "variable_name": "features_df",
              "summary": "{\n  \"name\": \"features_df\",\n  \"rows\": 364,\n  \"fields\": [\n    {\n      \"column\": \"image_id\",\n      \"properties\": {\n        \"dtype\": \"string\",\n        \"num_unique_values\": 364,\n        \"samples\": [\n          \"/content/drive/MyDrive/Project/Good/IMG_20240211_004413.jpg\",\n          \"/content/drive/MyDrive/Project/Good/IMG_20240211_001806.jpg\",\n          \"/content/drive/MyDrive/Project/Good/IMG_20240211_004955.jpg\"\n        ],\n        \"semantic_type\": \"\",\n        \"description\": \"\"\n      }\n    },\n    {\n      \"column\": \"average_hue\",\n      \"properties\": {\n        \"dtype\": \"number\",\n        \"std\": 9.161995346913264,\n        \"min\": 153.3291836009306,\n        \"max\": 203.65981680676828,\n        \"num_unique_values\": 364,\n        \"samples\": [\n          170.68505817488128,\n          179.55199217952153,\n          183.02457221536073\n        ],\n        \"semantic_type\": \"\",\n        \"description\": \"\"\n      }\n    },\n    {\n      \"column\": \"average_saturation\",\n      \"properties\": {\n        \"dtype\": \"number\",\n        \"std\": 0.0,\n        \"min\": 0.0,\n        \"max\": 0.0,\n        \"num_unique_values\": 1,\n        \"samples\": [\n          0.0\n        ],\n        \"semantic_type\": \"\",\n        \"description\": \"\"\n      }\n    },\n    {\n      \"column\": \"average_value\",\n      \"properties\": {\n        \"dtype\": \"number\",\n        \"std\": 0.0,\n        \"min\": 0.0,\n        \"max\": 0.0,\n        \"num_unique_values\": 1,\n        \"samples\": [\n          0.0\n        ],\n        \"semantic_type\": \"\",\n        \"description\": \"\"\n      }\n    },\n    {\n      \"column\": \"area\",\n      \"properties\": {\n        \"dtype\": \"number\",\n        \"std\": 3927295.739568326,\n        \"min\": 348592.0,\n        \"max\": 22255211.5,\n        \"num_unique_values\": 364,\n        \"samples\": [\n          14697197.5\n        ],\n        \"semantic_type\": \"\",\n        \"description\": \"\"\n      }\n    },\n    {\n      \"column\": \"x\",\n      \"properties\": {\n        \"dtype\": \"number\",\n        \"std\": 522,\n        \"min\": 0,\n        \"max\": 3715,\n        \"num_unique_values\": 325,\n        \"samples\": [\n          1233\n        ],\n        \"semantic_type\": \"\",\n        \"description\": \"\"\n      }\n    },\n    {\n      \"column\": \"y\",\n      \"properties\": {\n        \"dtype\": \"number\",\n        \"std\": 851,\n        \"min\": 0,\n        \"max\": 5921,\n        \"num_unique_values\": 339,\n        \"samples\": [\n          3039\n        ],\n        \"semantic_type\": \"\",\n        \"description\": \"\"\n      }\n    },\n    {\n      \"column\": \"w\",\n      \"properties\": {\n        \"dtype\": \"number\",\n        \"std\": 793,\n        \"min\": 1365,\n        \"max\": 5925,\n        \"num_unique_values\": 340,\n        \"samples\": [\n          3546\n        ],\n        \"semantic_type\": \"\",\n        \"description\": \"\"\n      }\n    },\n    {\n      \"column\": \"h\",\n      \"properties\": {\n        \"dtype\": \"number\",\n        \"std\": 916,\n        \"min\": 523,\n        \"max\": 7034,\n        \"num_unique_values\": 340,\n        \"samples\": [\n          4908\n        ],\n        \"semantic_type\": \"\",\n        \"description\": \"\"\n      }\n    },\n    {\n      \"column\": \"aspect_ratio\",\n      \"properties\": {\n        \"dtype\": \"number\",\n        \"std\": 0.2786495739016698,\n        \"min\": 0.5063974978675007,\n        \"max\": 3.0018148820326678,\n        \"num_unique_values\": 364,\n        \"samples\": [\n          1.150504813336464\n        ],\n        \"semantic_type\": \"\",\n        \"description\": \"\"\n      }\n    },\n    {\n      \"column\": \"correlation\",\n      \"properties\": {\n        \"dtype\": \"number\",\n        \"std\": 0.00013457556683508785,\n        \"min\": 0.9986909707725525,\n        \"max\": 0.9999242126080624,\n        \"num_unique_values\": 364,\n        \"samples\": [\n          0.9998719608077322\n        ],\n        \"semantic_type\": \"\",\n        \"description\": \"\"\n      }\n    },\n    {\n      \"column\": \"energy\",\n      \"properties\": {\n        \"dtype\": \"number\",\n        \"std\": 0.02362397902012482,\n        \"min\": 0.06976401176074741,\n        \"max\": 0.21252407526816752,\n        \"num_unique_values\": 364,\n        \"samples\": [\n          0.0937578470677631\n        ],\n        \"semantic_type\": \"\",\n        \"description\": \"\"\n      }\n    },\n    {\n      \"column\": \"contrast\",\n      \"properties\": {\n        \"dtype\": \"number\",\n        \"std\": 0.43266661573731025,\n        \"min\": 0.4572677642817041,\n        \"max\": 2.7544300541494895,\n        \"num_unique_values\": 364,\n        \"samples\": [\n          0.6951552149432406\n        ],\n        \"semantic_type\": \"\",\n        \"description\": \"\"\n      }\n    },\n    {\n      \"column\": \"homogeneity\",\n      \"properties\": {\n        \"dtype\": \"number\",\n        \"std\": 0.03572124907887313,\n        \"min\": 0.5689811853630415,\n        \"max\": 0.8084458736312256,\n        \"num_unique_values\": 364,\n        \"samples\": [\n          0.7728779130793234\n        ],\n        \"semantic_type\": \"\",\n        \"description\": \"\"\n      }\n    },\n    {\n      \"column\": \"quality\",\n      \"properties\": {\n        \"dtype\": \"number\",\n        \"std\": 0,\n        \"min\": 0,\n        \"max\": 1,\n        \"num_unique_values\": 2,\n        \"samples\": [\n          0\n        ],\n        \"semantic_type\": \"\",\n        \"description\": \"\"\n      }\n    }\n  ]\n}"
            }
          },
          "metadata": {},
          "execution_count": 28
        }
      ]
    },
    {
      "cell_type": "code",
      "source": [
        "## Saving Training Dataset\n",
        "features_df.to_csv(f\"{params.csv_files}/Train.csv\", index = False)"
      ],
      "metadata": {
        "id": "nTfzbO3cjZgk"
      },
      "execution_count": 29,
      "outputs": []
    },
    {
      "cell_type": "code",
      "source": [
        "# ## Extracting Testing Dataset\n",
        "features_test = ExtractFeatures(image_ids = X_test.values)"
      ],
      "metadata": {
        "colab": {
          "base_uri": "https://localhost:8080/",
          "height": 0
        },
        "id": "fF5rlbAqby2h",
        "outputId": "ee93c1ac-d706-42de-ada1-28d4c1539759"
      },
      "execution_count": 31,
      "outputs": [
        {
          "output_type": "stream",
          "name": "stderr",
          "text": [
            "Processing: 100%|██████████| 91/91 [07:18<00:00,  4.81s/images]\n"
          ]
        }
      ]
    },
    {
      "cell_type": "code",
      "source": [
        "features_test[\"quality\"] = y_test.values\n",
        "features_test.head()"
      ],
      "metadata": {
        "colab": {
          "base_uri": "https://localhost:8080/",
          "height": 226
        },
        "id": "OW2sJYxxb_xl",
        "outputId": "1c187c31-a1f5-4785-81a9-4be8a6841b0b"
      },
      "execution_count": 33,
      "outputs": [
        {
          "output_type": "execute_result",
          "data": {
            "text/plain": [
              "                                            image_id  average_hue  \\\n",
              "0  /content/drive/MyDrive/Project/Good/IMG_202402...   179.851452   \n",
              "1  /content/drive/MyDrive/Project/Good/IMG_202402...   191.913994   \n",
              "2  /content/drive/MyDrive/Project/Good/IMG_202402...   178.457941   \n",
              "3  /content/drive/MyDrive/Project/Good/IMG_202402...   188.550901   \n",
              "4  /content/drive/MyDrive/Project/Bad/IMG_2024021...   175.528967   \n",
              "\n",
              "   average_saturation  average_value        area     x     y     w     h  \\\n",
              "0                 0.0            0.0   7296021.0   824  3596  3678  3635   \n",
              "1                 0.0            0.0   3088412.5   775  3413  2512  2711   \n",
              "2                 0.0            0.0  10826352.0   698   983  3959  5100   \n",
              "3                 0.0            0.0   7126896.5  1327  2151  2948  3697   \n",
              "4                 0.0            0.0  10869553.0  1237  2529  4266  4035   \n",
              "\n",
              "   aspect_ratio  correlation    energy  contrast  homogeneity  quality  \n",
              "0      1.011829     0.999756  0.081611  0.823700     0.738406        1  \n",
              "1      0.926595     0.999714  0.113779  0.547417     0.786155        1  \n",
              "2      0.776275     0.999843  0.090454  0.709049     0.785638        1  \n",
              "3      0.797403     0.999793  0.130636  0.599574     0.786861        1  \n",
              "4      1.057249     0.999855  0.108519  0.929530     0.781898        0  "
            ],
            "text/html": [
              "\n",
              "  <div id=\"df-e75e8333-0f7b-4b20-8b52-1a2c8a42a494\" class=\"colab-df-container\">\n",
              "    <div>\n",
              "<style scoped>\n",
              "    .dataframe tbody tr th:only-of-type {\n",
              "        vertical-align: middle;\n",
              "    }\n",
              "\n",
              "    .dataframe tbody tr th {\n",
              "        vertical-align: top;\n",
              "    }\n",
              "\n",
              "    .dataframe thead th {\n",
              "        text-align: right;\n",
              "    }\n",
              "</style>\n",
              "<table border=\"1\" class=\"dataframe\">\n",
              "  <thead>\n",
              "    <tr style=\"text-align: right;\">\n",
              "      <th></th>\n",
              "      <th>image_id</th>\n",
              "      <th>average_hue</th>\n",
              "      <th>average_saturation</th>\n",
              "      <th>average_value</th>\n",
              "      <th>area</th>\n",
              "      <th>x</th>\n",
              "      <th>y</th>\n",
              "      <th>w</th>\n",
              "      <th>h</th>\n",
              "      <th>aspect_ratio</th>\n",
              "      <th>correlation</th>\n",
              "      <th>energy</th>\n",
              "      <th>contrast</th>\n",
              "      <th>homogeneity</th>\n",
              "      <th>quality</th>\n",
              "    </tr>\n",
              "  </thead>\n",
              "  <tbody>\n",
              "    <tr>\n",
              "      <th>0</th>\n",
              "      <td>/content/drive/MyDrive/Project/Good/IMG_202402...</td>\n",
              "      <td>179.851452</td>\n",
              "      <td>0.0</td>\n",
              "      <td>0.0</td>\n",
              "      <td>7296021.0</td>\n",
              "      <td>824</td>\n",
              "      <td>3596</td>\n",
              "      <td>3678</td>\n",
              "      <td>3635</td>\n",
              "      <td>1.011829</td>\n",
              "      <td>0.999756</td>\n",
              "      <td>0.081611</td>\n",
              "      <td>0.823700</td>\n",
              "      <td>0.738406</td>\n",
              "      <td>1</td>\n",
              "    </tr>\n",
              "    <tr>\n",
              "      <th>1</th>\n",
              "      <td>/content/drive/MyDrive/Project/Good/IMG_202402...</td>\n",
              "      <td>191.913994</td>\n",
              "      <td>0.0</td>\n",
              "      <td>0.0</td>\n",
              "      <td>3088412.5</td>\n",
              "      <td>775</td>\n",
              "      <td>3413</td>\n",
              "      <td>2512</td>\n",
              "      <td>2711</td>\n",
              "      <td>0.926595</td>\n",
              "      <td>0.999714</td>\n",
              "      <td>0.113779</td>\n",
              "      <td>0.547417</td>\n",
              "      <td>0.786155</td>\n",
              "      <td>1</td>\n",
              "    </tr>\n",
              "    <tr>\n",
              "      <th>2</th>\n",
              "      <td>/content/drive/MyDrive/Project/Good/IMG_202402...</td>\n",
              "      <td>178.457941</td>\n",
              "      <td>0.0</td>\n",
              "      <td>0.0</td>\n",
              "      <td>10826352.0</td>\n",
              "      <td>698</td>\n",
              "      <td>983</td>\n",
              "      <td>3959</td>\n",
              "      <td>5100</td>\n",
              "      <td>0.776275</td>\n",
              "      <td>0.999843</td>\n",
              "      <td>0.090454</td>\n",
              "      <td>0.709049</td>\n",
              "      <td>0.785638</td>\n",
              "      <td>1</td>\n",
              "    </tr>\n",
              "    <tr>\n",
              "      <th>3</th>\n",
              "      <td>/content/drive/MyDrive/Project/Good/IMG_202402...</td>\n",
              "      <td>188.550901</td>\n",
              "      <td>0.0</td>\n",
              "      <td>0.0</td>\n",
              "      <td>7126896.5</td>\n",
              "      <td>1327</td>\n",
              "      <td>2151</td>\n",
              "      <td>2948</td>\n",
              "      <td>3697</td>\n",
              "      <td>0.797403</td>\n",
              "      <td>0.999793</td>\n",
              "      <td>0.130636</td>\n",
              "      <td>0.599574</td>\n",
              "      <td>0.786861</td>\n",
              "      <td>1</td>\n",
              "    </tr>\n",
              "    <tr>\n",
              "      <th>4</th>\n",
              "      <td>/content/drive/MyDrive/Project/Bad/IMG_2024021...</td>\n",
              "      <td>175.528967</td>\n",
              "      <td>0.0</td>\n",
              "      <td>0.0</td>\n",
              "      <td>10869553.0</td>\n",
              "      <td>1237</td>\n",
              "      <td>2529</td>\n",
              "      <td>4266</td>\n",
              "      <td>4035</td>\n",
              "      <td>1.057249</td>\n",
              "      <td>0.999855</td>\n",
              "      <td>0.108519</td>\n",
              "      <td>0.929530</td>\n",
              "      <td>0.781898</td>\n",
              "      <td>0</td>\n",
              "    </tr>\n",
              "  </tbody>\n",
              "</table>\n",
              "</div>\n",
              "    <div class=\"colab-df-buttons\">\n",
              "\n",
              "  <div class=\"colab-df-container\">\n",
              "    <button class=\"colab-df-convert\" onclick=\"convertToInteractive('df-e75e8333-0f7b-4b20-8b52-1a2c8a42a494')\"\n",
              "            title=\"Convert this dataframe to an interactive table.\"\n",
              "            style=\"display:none;\">\n",
              "\n",
              "  <svg xmlns=\"http://www.w3.org/2000/svg\" height=\"24px\" viewBox=\"0 -960 960 960\">\n",
              "    <path d=\"M120-120v-720h720v720H120Zm60-500h600v-160H180v160Zm220 220h160v-160H400v160Zm0 220h160v-160H400v160ZM180-400h160v-160H180v160Zm440 0h160v-160H620v160ZM180-180h160v-160H180v160Zm440 0h160v-160H620v160Z\"/>\n",
              "  </svg>\n",
              "    </button>\n",
              "\n",
              "  <style>\n",
              "    .colab-df-container {\n",
              "      display:flex;\n",
              "      gap: 12px;\n",
              "    }\n",
              "\n",
              "    .colab-df-convert {\n",
              "      background-color: #E8F0FE;\n",
              "      border: none;\n",
              "      border-radius: 50%;\n",
              "      cursor: pointer;\n",
              "      display: none;\n",
              "      fill: #1967D2;\n",
              "      height: 32px;\n",
              "      padding: 0 0 0 0;\n",
              "      width: 32px;\n",
              "    }\n",
              "\n",
              "    .colab-df-convert:hover {\n",
              "      background-color: #E2EBFA;\n",
              "      box-shadow: 0px 1px 2px rgba(60, 64, 67, 0.3), 0px 1px 3px 1px rgba(60, 64, 67, 0.15);\n",
              "      fill: #174EA6;\n",
              "    }\n",
              "\n",
              "    .colab-df-buttons div {\n",
              "      margin-bottom: 4px;\n",
              "    }\n",
              "\n",
              "    [theme=dark] .colab-df-convert {\n",
              "      background-color: #3B4455;\n",
              "      fill: #D2E3FC;\n",
              "    }\n",
              "\n",
              "    [theme=dark] .colab-df-convert:hover {\n",
              "      background-color: #434B5C;\n",
              "      box-shadow: 0px 1px 3px 1px rgba(0, 0, 0, 0.15);\n",
              "      filter: drop-shadow(0px 1px 2px rgba(0, 0, 0, 0.3));\n",
              "      fill: #FFFFFF;\n",
              "    }\n",
              "  </style>\n",
              "\n",
              "    <script>\n",
              "      const buttonEl =\n",
              "        document.querySelector('#df-e75e8333-0f7b-4b20-8b52-1a2c8a42a494 button.colab-df-convert');\n",
              "      buttonEl.style.display =\n",
              "        google.colab.kernel.accessAllowed ? 'block' : 'none';\n",
              "\n",
              "      async function convertToInteractive(key) {\n",
              "        const element = document.querySelector('#df-e75e8333-0f7b-4b20-8b52-1a2c8a42a494');\n",
              "        const dataTable =\n",
              "          await google.colab.kernel.invokeFunction('convertToInteractive',\n",
              "                                                    [key], {});\n",
              "        if (!dataTable) return;\n",
              "\n",
              "        const docLinkHtml = 'Like what you see? Visit the ' +\n",
              "          '<a target=\"_blank\" href=https://colab.research.google.com/notebooks/data_table.ipynb>data table notebook</a>'\n",
              "          + ' to learn more about interactive tables.';\n",
              "        element.innerHTML = '';\n",
              "        dataTable['output_type'] = 'display_data';\n",
              "        await google.colab.output.renderOutput(dataTable, element);\n",
              "        const docLink = document.createElement('div');\n",
              "        docLink.innerHTML = docLinkHtml;\n",
              "        element.appendChild(docLink);\n",
              "      }\n",
              "    </script>\n",
              "  </div>\n",
              "\n",
              "\n",
              "<div id=\"df-85c5f09a-5082-4edb-bc28-313bc5f2a71c\">\n",
              "  <button class=\"colab-df-quickchart\" onclick=\"quickchart('df-85c5f09a-5082-4edb-bc28-313bc5f2a71c')\"\n",
              "            title=\"Suggest charts\"\n",
              "            style=\"display:none;\">\n",
              "\n",
              "<svg xmlns=\"http://www.w3.org/2000/svg\" height=\"24px\"viewBox=\"0 0 24 24\"\n",
              "     width=\"24px\">\n",
              "    <g>\n",
              "        <path d=\"M19 3H5c-1.1 0-2 .9-2 2v14c0 1.1.9 2 2 2h14c1.1 0 2-.9 2-2V5c0-1.1-.9-2-2-2zM9 17H7v-7h2v7zm4 0h-2V7h2v10zm4 0h-2v-4h2v4z\"/>\n",
              "    </g>\n",
              "</svg>\n",
              "  </button>\n",
              "\n",
              "<style>\n",
              "  .colab-df-quickchart {\n",
              "      --bg-color: #E8F0FE;\n",
              "      --fill-color: #1967D2;\n",
              "      --hover-bg-color: #E2EBFA;\n",
              "      --hover-fill-color: #174EA6;\n",
              "      --disabled-fill-color: #AAA;\n",
              "      --disabled-bg-color: #DDD;\n",
              "  }\n",
              "\n",
              "  [theme=dark] .colab-df-quickchart {\n",
              "      --bg-color: #3B4455;\n",
              "      --fill-color: #D2E3FC;\n",
              "      --hover-bg-color: #434B5C;\n",
              "      --hover-fill-color: #FFFFFF;\n",
              "      --disabled-bg-color: #3B4455;\n",
              "      --disabled-fill-color: #666;\n",
              "  }\n",
              "\n",
              "  .colab-df-quickchart {\n",
              "    background-color: var(--bg-color);\n",
              "    border: none;\n",
              "    border-radius: 50%;\n",
              "    cursor: pointer;\n",
              "    display: none;\n",
              "    fill: var(--fill-color);\n",
              "    height: 32px;\n",
              "    padding: 0;\n",
              "    width: 32px;\n",
              "  }\n",
              "\n",
              "  .colab-df-quickchart:hover {\n",
              "    background-color: var(--hover-bg-color);\n",
              "    box-shadow: 0 1px 2px rgba(60, 64, 67, 0.3), 0 1px 3px 1px rgba(60, 64, 67, 0.15);\n",
              "    fill: var(--button-hover-fill-color);\n",
              "  }\n",
              "\n",
              "  .colab-df-quickchart-complete:disabled,\n",
              "  .colab-df-quickchart-complete:disabled:hover {\n",
              "    background-color: var(--disabled-bg-color);\n",
              "    fill: var(--disabled-fill-color);\n",
              "    box-shadow: none;\n",
              "  }\n",
              "\n",
              "  .colab-df-spinner {\n",
              "    border: 2px solid var(--fill-color);\n",
              "    border-color: transparent;\n",
              "    border-bottom-color: var(--fill-color);\n",
              "    animation:\n",
              "      spin 1s steps(1) infinite;\n",
              "  }\n",
              "\n",
              "  @keyframes spin {\n",
              "    0% {\n",
              "      border-color: transparent;\n",
              "      border-bottom-color: var(--fill-color);\n",
              "      border-left-color: var(--fill-color);\n",
              "    }\n",
              "    20% {\n",
              "      border-color: transparent;\n",
              "      border-left-color: var(--fill-color);\n",
              "      border-top-color: var(--fill-color);\n",
              "    }\n",
              "    30% {\n",
              "      border-color: transparent;\n",
              "      border-left-color: var(--fill-color);\n",
              "      border-top-color: var(--fill-color);\n",
              "      border-right-color: var(--fill-color);\n",
              "    }\n",
              "    40% {\n",
              "      border-color: transparent;\n",
              "      border-right-color: var(--fill-color);\n",
              "      border-top-color: var(--fill-color);\n",
              "    }\n",
              "    60% {\n",
              "      border-color: transparent;\n",
              "      border-right-color: var(--fill-color);\n",
              "    }\n",
              "    80% {\n",
              "      border-color: transparent;\n",
              "      border-right-color: var(--fill-color);\n",
              "      border-bottom-color: var(--fill-color);\n",
              "    }\n",
              "    90% {\n",
              "      border-color: transparent;\n",
              "      border-bottom-color: var(--fill-color);\n",
              "    }\n",
              "  }\n",
              "</style>\n",
              "\n",
              "  <script>\n",
              "    async function quickchart(key) {\n",
              "      const quickchartButtonEl =\n",
              "        document.querySelector('#' + key + ' button');\n",
              "      quickchartButtonEl.disabled = true;  // To prevent multiple clicks.\n",
              "      quickchartButtonEl.classList.add('colab-df-spinner');\n",
              "      try {\n",
              "        const charts = await google.colab.kernel.invokeFunction(\n",
              "            'suggestCharts', [key], {});\n",
              "      } catch (error) {\n",
              "        console.error('Error during call to suggestCharts:', error);\n",
              "      }\n",
              "      quickchartButtonEl.classList.remove('colab-df-spinner');\n",
              "      quickchartButtonEl.classList.add('colab-df-quickchart-complete');\n",
              "    }\n",
              "    (() => {\n",
              "      let quickchartButtonEl =\n",
              "        document.querySelector('#df-85c5f09a-5082-4edb-bc28-313bc5f2a71c button');\n",
              "      quickchartButtonEl.style.display =\n",
              "        google.colab.kernel.accessAllowed ? 'block' : 'none';\n",
              "    })();\n",
              "  </script>\n",
              "</div>\n",
              "\n",
              "    </div>\n",
              "  </div>\n"
            ],
            "application/vnd.google.colaboratory.intrinsic+json": {
              "type": "dataframe",
              "variable_name": "features_test",
              "summary": "{\n  \"name\": \"features_test\",\n  \"rows\": 91,\n  \"fields\": [\n    {\n      \"column\": \"image_id\",\n      \"properties\": {\n        \"dtype\": \"string\",\n        \"num_unique_values\": 91,\n        \"samples\": [\n          \"/content/drive/MyDrive/Project/Good/IMG_20240211_000045.jpg\",\n          \"/content/drive/MyDrive/Project/Bad/IMG_20240217_205917.jpg\",\n          \"/content/drive/MyDrive/Project/Good/IMG_20240211_004552.jpg\"\n        ],\n        \"semantic_type\": \"\",\n        \"description\": \"\"\n      }\n    },\n    {\n      \"column\": \"average_hue\",\n      \"properties\": {\n        \"dtype\": \"number\",\n        \"std\": 8.36474548658184,\n        \"min\": 155.74238895590787,\n        \"max\": 196.9060900719337,\n        \"num_unique_values\": 91,\n        \"samples\": [\n          190.07119212431064,\n          183.7228673398884,\n          178.5198506872638\n        ],\n        \"semantic_type\": \"\",\n        \"description\": \"\"\n      }\n    },\n    {\n      \"column\": \"average_saturation\",\n      \"properties\": {\n        \"dtype\": \"number\",\n        \"std\": 0.0,\n        \"min\": 0.0,\n        \"max\": 0.0,\n        \"num_unique_values\": 1,\n        \"samples\": [\n          0.0\n        ],\n        \"semantic_type\": \"\",\n        \"description\": \"\"\n      }\n    },\n    {\n      \"column\": \"average_value\",\n      \"properties\": {\n        \"dtype\": \"number\",\n        \"std\": 0.0,\n        \"min\": 0.0,\n        \"max\": 0.0,\n        \"num_unique_values\": 1,\n        \"samples\": [\n          0.0\n        ],\n        \"semantic_type\": \"\",\n        \"description\": \"\"\n      }\n    },\n    {\n      \"column\": \"area\",\n      \"properties\": {\n        \"dtype\": \"number\",\n        \"std\": 3320791.7502967464,\n        \"min\": 2505557.0,\n        \"max\": 18965052.0,\n        \"num_unique_values\": 91,\n        \"samples\": [\n          6599290.0\n        ],\n        \"semantic_type\": \"\",\n        \"description\": \"\"\n      }\n    },\n    {\n      \"column\": \"x\",\n      \"properties\": {\n        \"dtype\": \"number\",\n        \"std\": 350,\n        \"min\": 290,\n        \"max\": 1982,\n        \"num_unique_values\": 88,\n        \"samples\": [\n          381\n        ],\n        \"semantic_type\": \"\",\n        \"description\": \"\"\n      }\n    },\n    {\n      \"column\": \"y\",\n      \"properties\": {\n        \"dtype\": \"number\",\n        \"std\": 762,\n        \"min\": 945,\n        \"max\": 5044,\n        \"num_unique_values\": 90,\n        \"samples\": [\n          2259\n        ],\n        \"semantic_type\": \"\",\n        \"description\": \"\"\n      }\n    },\n    {\n      \"column\": \"w\",\n      \"properties\": {\n        \"dtype\": \"number\",\n        \"std\": 625,\n        \"min\": 2311,\n        \"max\": 5449,\n        \"num_unique_values\": 90,\n        \"samples\": [\n          2784\n        ],\n        \"semantic_type\": \"\",\n        \"description\": \"\"\n      }\n    },\n    {\n      \"column\": \"h\",\n      \"properties\": {\n        \"dtype\": \"number\",\n        \"std\": 814,\n        \"min\": 2050,\n        \"max\": 6104,\n        \"num_unique_values\": 90,\n        \"samples\": [\n          4089\n        ],\n        \"semantic_type\": \"\",\n        \"description\": \"\"\n      }\n    },\n    {\n      \"column\": \"aspect_ratio\",\n      \"properties\": {\n        \"dtype\": \"number\",\n        \"std\": 0.17954856876656833,\n        \"min\": 0.6370277975766215,\n        \"max\": 1.5453339230429013,\n        \"num_unique_values\": 91,\n        \"samples\": [\n          0.884090187361067\n        ],\n        \"semantic_type\": \"\",\n        \"description\": \"\"\n      }\n    },\n    {\n      \"column\": \"correlation\",\n      \"properties\": {\n        \"dtype\": \"number\",\n        \"std\": 9.953811304140907e-05,\n        \"min\": 0.9993311323810867,\n        \"max\": 0.9999179748000089,\n        \"num_unique_values\": 91,\n        \"samples\": [\n          0.9996916458001438\n        ],\n        \"semantic_type\": \"\",\n        \"description\": \"\"\n      }\n    },\n    {\n      \"column\": \"energy\",\n      \"properties\": {\n        \"dtype\": \"number\",\n        \"std\": 0.02017318515269178,\n        \"min\": 0.06944570771925075,\n        \"max\": 0.16478552522127535,\n        \"num_unique_values\": 91,\n        \"samples\": [\n          0.14666376914969861\n        ],\n        \"semantic_type\": \"\",\n        \"description\": \"\"\n      }\n    },\n    {\n      \"column\": \"contrast\",\n      \"properties\": {\n        \"dtype\": \"number\",\n        \"std\": 0.38708104964905504,\n        \"min\": 0.4935566774119175,\n        \"max\": 2.4755825087048198,\n        \"num_unique_values\": 91,\n        \"samples\": [\n          1.3678955305303304\n        ],\n        \"semantic_type\": \"\",\n        \"description\": \"\"\n      }\n    },\n    {\n      \"column\": \"homogeneity\",\n      \"properties\": {\n        \"dtype\": \"number\",\n        \"std\": 0.02593757193729193,\n        \"min\": 0.5763770873951916,\n        \"max\": 0.809252080361593,\n        \"num_unique_values\": 91,\n        \"samples\": [\n          0.7793167589413622\n        ],\n        \"semantic_type\": \"\",\n        \"description\": \"\"\n      }\n    },\n    {\n      \"column\": \"quality\",\n      \"properties\": {\n        \"dtype\": \"number\",\n        \"std\": 0,\n        \"min\": 0,\n        \"max\": 1,\n        \"num_unique_values\": 2,\n        \"samples\": [\n          0\n        ],\n        \"semantic_type\": \"\",\n        \"description\": \"\"\n      }\n    }\n  ]\n}"
            }
          },
          "metadata": {},
          "execution_count": 33
        }
      ]
    },
    {
      "cell_type": "code",
      "source": [
        "# ## Saving Testing Dataset\n",
        "features_test.to_csv(f\"{params.csv_files}/Test.csv\", index = False)"
      ],
      "metadata": {
        "id": "EaUsjS5Ib_0d"
      },
      "execution_count": 34,
      "outputs": []
    },
    {
      "cell_type": "markdown",
      "source": [
        "## **Reading CSV Files**"
      ],
      "metadata": {
        "id": "cjSFg4_xvK6X"
      }
    },
    {
      "cell_type": "code",
      "source": [
        "train_df = pd.read_csv(f\"{params.csv_files}/Train.csv\")\n",
        "test_df = pd.read_csv(f\"{params.csv_files}/Test.csv\")"
      ],
      "metadata": {
        "id": "hGIp1k6NvKMi"
      },
      "execution_count": 35,
      "outputs": []
    },
    {
      "cell_type": "code",
      "source": [
        "train_df.shape, test_df.shape"
      ],
      "metadata": {
        "colab": {
          "base_uri": "https://localhost:8080/",
          "height": 0
        },
        "id": "5v1qeJXMvKP0",
        "outputId": "7cff10ee-dbdf-4d7b-97b8-69105ef66750"
      },
      "execution_count": 36,
      "outputs": [
        {
          "output_type": "execute_result",
          "data": {
            "text/plain": [
              "((364, 15), (91, 15))"
            ]
          },
          "metadata": {},
          "execution_count": 36
        }
      ]
    },
    {
      "cell_type": "code",
      "source": [
        "train_df.head()"
      ],
      "metadata": {
        "colab": {
          "base_uri": "https://localhost:8080/",
          "height": 226
        },
        "id": "QMCpNAwTyK3X",
        "outputId": "d898a77c-16f7-40b1-8351-b5bd9c698c78"
      },
      "execution_count": 37,
      "outputs": [
        {
          "output_type": "execute_result",
          "data": {
            "text/plain": [
              "                                            image_id  average_hue  \\\n",
              "0  /content/drive/MyDrive/Project/Good/IMG_202402...   187.932207   \n",
              "1  /content/drive/MyDrive/Project/Good/IMG_202402...   180.669479   \n",
              "2  /content/drive/MyDrive/Project/Good/IMG_202402...   191.237192   \n",
              "3  /content/drive/MyDrive/Project/Good/IMG_202402...   190.373784   \n",
              "4  /content/drive/MyDrive/Project/Good/IMG_202402...   188.568423   \n",
              "\n",
              "   average_saturation  average_value       area     x     y     w     h  \\\n",
              "0                 0.0            0.0  7306977.0     0  1790  3654  2684   \n",
              "1                 0.0            0.0  9237372.0   928  2264  3014  4208   \n",
              "2                 0.0            0.0  4354118.5  1699  2635  2352  2481   \n",
              "3                 0.0            0.0   691646.0  1213  4233  2624  1181   \n",
              "4                 0.0            0.0  7322388.0  1405  2007  3134  3432   \n",
              "\n",
              "   aspect_ratio  correlation    energy  contrast  homogeneity  quality  \n",
              "0      1.361401     0.999488  0.074876  1.793483     0.575839        1  \n",
              "1      0.716255     0.999887  0.108073  0.558863     0.780224        1  \n",
              "2      0.948005     0.999708  0.138788  0.837597     0.777061        1  \n",
              "3      2.221846     0.999591  0.114365  0.674852     0.775816        1  \n",
              "4      0.913170     0.999814  0.125936  0.721641     0.776437        1  "
            ],
            "text/html": [
              "\n",
              "  <div id=\"df-509fe9bf-b31a-415c-b6d3-c288a6577e07\" class=\"colab-df-container\">\n",
              "    <div>\n",
              "<style scoped>\n",
              "    .dataframe tbody tr th:only-of-type {\n",
              "        vertical-align: middle;\n",
              "    }\n",
              "\n",
              "    .dataframe tbody tr th {\n",
              "        vertical-align: top;\n",
              "    }\n",
              "\n",
              "    .dataframe thead th {\n",
              "        text-align: right;\n",
              "    }\n",
              "</style>\n",
              "<table border=\"1\" class=\"dataframe\">\n",
              "  <thead>\n",
              "    <tr style=\"text-align: right;\">\n",
              "      <th></th>\n",
              "      <th>image_id</th>\n",
              "      <th>average_hue</th>\n",
              "      <th>average_saturation</th>\n",
              "      <th>average_value</th>\n",
              "      <th>area</th>\n",
              "      <th>x</th>\n",
              "      <th>y</th>\n",
              "      <th>w</th>\n",
              "      <th>h</th>\n",
              "      <th>aspect_ratio</th>\n",
              "      <th>correlation</th>\n",
              "      <th>energy</th>\n",
              "      <th>contrast</th>\n",
              "      <th>homogeneity</th>\n",
              "      <th>quality</th>\n",
              "    </tr>\n",
              "  </thead>\n",
              "  <tbody>\n",
              "    <tr>\n",
              "      <th>0</th>\n",
              "      <td>/content/drive/MyDrive/Project/Good/IMG_202402...</td>\n",
              "      <td>187.932207</td>\n",
              "      <td>0.0</td>\n",
              "      <td>0.0</td>\n",
              "      <td>7306977.0</td>\n",
              "      <td>0</td>\n",
              "      <td>1790</td>\n",
              "      <td>3654</td>\n",
              "      <td>2684</td>\n",
              "      <td>1.361401</td>\n",
              "      <td>0.999488</td>\n",
              "      <td>0.074876</td>\n",
              "      <td>1.793483</td>\n",
              "      <td>0.575839</td>\n",
              "      <td>1</td>\n",
              "    </tr>\n",
              "    <tr>\n",
              "      <th>1</th>\n",
              "      <td>/content/drive/MyDrive/Project/Good/IMG_202402...</td>\n",
              "      <td>180.669479</td>\n",
              "      <td>0.0</td>\n",
              "      <td>0.0</td>\n",
              "      <td>9237372.0</td>\n",
              "      <td>928</td>\n",
              "      <td>2264</td>\n",
              "      <td>3014</td>\n",
              "      <td>4208</td>\n",
              "      <td>0.716255</td>\n",
              "      <td>0.999887</td>\n",
              "      <td>0.108073</td>\n",
              "      <td>0.558863</td>\n",
              "      <td>0.780224</td>\n",
              "      <td>1</td>\n",
              "    </tr>\n",
              "    <tr>\n",
              "      <th>2</th>\n",
              "      <td>/content/drive/MyDrive/Project/Good/IMG_202402...</td>\n",
              "      <td>191.237192</td>\n",
              "      <td>0.0</td>\n",
              "      <td>0.0</td>\n",
              "      <td>4354118.5</td>\n",
              "      <td>1699</td>\n",
              "      <td>2635</td>\n",
              "      <td>2352</td>\n",
              "      <td>2481</td>\n",
              "      <td>0.948005</td>\n",
              "      <td>0.999708</td>\n",
              "      <td>0.138788</td>\n",
              "      <td>0.837597</td>\n",
              "      <td>0.777061</td>\n",
              "      <td>1</td>\n",
              "    </tr>\n",
              "    <tr>\n",
              "      <th>3</th>\n",
              "      <td>/content/drive/MyDrive/Project/Good/IMG_202402...</td>\n",
              "      <td>190.373784</td>\n",
              "      <td>0.0</td>\n",
              "      <td>0.0</td>\n",
              "      <td>691646.0</td>\n",
              "      <td>1213</td>\n",
              "      <td>4233</td>\n",
              "      <td>2624</td>\n",
              "      <td>1181</td>\n",
              "      <td>2.221846</td>\n",
              "      <td>0.999591</td>\n",
              "      <td>0.114365</td>\n",
              "      <td>0.674852</td>\n",
              "      <td>0.775816</td>\n",
              "      <td>1</td>\n",
              "    </tr>\n",
              "    <tr>\n",
              "      <th>4</th>\n",
              "      <td>/content/drive/MyDrive/Project/Good/IMG_202402...</td>\n",
              "      <td>188.568423</td>\n",
              "      <td>0.0</td>\n",
              "      <td>0.0</td>\n",
              "      <td>7322388.0</td>\n",
              "      <td>1405</td>\n",
              "      <td>2007</td>\n",
              "      <td>3134</td>\n",
              "      <td>3432</td>\n",
              "      <td>0.913170</td>\n",
              "      <td>0.999814</td>\n",
              "      <td>0.125936</td>\n",
              "      <td>0.721641</td>\n",
              "      <td>0.776437</td>\n",
              "      <td>1</td>\n",
              "    </tr>\n",
              "  </tbody>\n",
              "</table>\n",
              "</div>\n",
              "    <div class=\"colab-df-buttons\">\n",
              "\n",
              "  <div class=\"colab-df-container\">\n",
              "    <button class=\"colab-df-convert\" onclick=\"convertToInteractive('df-509fe9bf-b31a-415c-b6d3-c288a6577e07')\"\n",
              "            title=\"Convert this dataframe to an interactive table.\"\n",
              "            style=\"display:none;\">\n",
              "\n",
              "  <svg xmlns=\"http://www.w3.org/2000/svg\" height=\"24px\" viewBox=\"0 -960 960 960\">\n",
              "    <path d=\"M120-120v-720h720v720H120Zm60-500h600v-160H180v160Zm220 220h160v-160H400v160Zm0 220h160v-160H400v160ZM180-400h160v-160H180v160Zm440 0h160v-160H620v160ZM180-180h160v-160H180v160Zm440 0h160v-160H620v160Z\"/>\n",
              "  </svg>\n",
              "    </button>\n",
              "\n",
              "  <style>\n",
              "    .colab-df-container {\n",
              "      display:flex;\n",
              "      gap: 12px;\n",
              "    }\n",
              "\n",
              "    .colab-df-convert {\n",
              "      background-color: #E8F0FE;\n",
              "      border: none;\n",
              "      border-radius: 50%;\n",
              "      cursor: pointer;\n",
              "      display: none;\n",
              "      fill: #1967D2;\n",
              "      height: 32px;\n",
              "      padding: 0 0 0 0;\n",
              "      width: 32px;\n",
              "    }\n",
              "\n",
              "    .colab-df-convert:hover {\n",
              "      background-color: #E2EBFA;\n",
              "      box-shadow: 0px 1px 2px rgba(60, 64, 67, 0.3), 0px 1px 3px 1px rgba(60, 64, 67, 0.15);\n",
              "      fill: #174EA6;\n",
              "    }\n",
              "\n",
              "    .colab-df-buttons div {\n",
              "      margin-bottom: 4px;\n",
              "    }\n",
              "\n",
              "    [theme=dark] .colab-df-convert {\n",
              "      background-color: #3B4455;\n",
              "      fill: #D2E3FC;\n",
              "    }\n",
              "\n",
              "    [theme=dark] .colab-df-convert:hover {\n",
              "      background-color: #434B5C;\n",
              "      box-shadow: 0px 1px 3px 1px rgba(0, 0, 0, 0.15);\n",
              "      filter: drop-shadow(0px 1px 2px rgba(0, 0, 0, 0.3));\n",
              "      fill: #FFFFFF;\n",
              "    }\n",
              "  </style>\n",
              "\n",
              "    <script>\n",
              "      const buttonEl =\n",
              "        document.querySelector('#df-509fe9bf-b31a-415c-b6d3-c288a6577e07 button.colab-df-convert');\n",
              "      buttonEl.style.display =\n",
              "        google.colab.kernel.accessAllowed ? 'block' : 'none';\n",
              "\n",
              "      async function convertToInteractive(key) {\n",
              "        const element = document.querySelector('#df-509fe9bf-b31a-415c-b6d3-c288a6577e07');\n",
              "        const dataTable =\n",
              "          await google.colab.kernel.invokeFunction('convertToInteractive',\n",
              "                                                    [key], {});\n",
              "        if (!dataTable) return;\n",
              "\n",
              "        const docLinkHtml = 'Like what you see? Visit the ' +\n",
              "          '<a target=\"_blank\" href=https://colab.research.google.com/notebooks/data_table.ipynb>data table notebook</a>'\n",
              "          + ' to learn more about interactive tables.';\n",
              "        element.innerHTML = '';\n",
              "        dataTable['output_type'] = 'display_data';\n",
              "        await google.colab.output.renderOutput(dataTable, element);\n",
              "        const docLink = document.createElement('div');\n",
              "        docLink.innerHTML = docLinkHtml;\n",
              "        element.appendChild(docLink);\n",
              "      }\n",
              "    </script>\n",
              "  </div>\n",
              "\n",
              "\n",
              "<div id=\"df-6d418d58-685d-4332-8483-2ca0dd5109db\">\n",
              "  <button class=\"colab-df-quickchart\" onclick=\"quickchart('df-6d418d58-685d-4332-8483-2ca0dd5109db')\"\n",
              "            title=\"Suggest charts\"\n",
              "            style=\"display:none;\">\n",
              "\n",
              "<svg xmlns=\"http://www.w3.org/2000/svg\" height=\"24px\"viewBox=\"0 0 24 24\"\n",
              "     width=\"24px\">\n",
              "    <g>\n",
              "        <path d=\"M19 3H5c-1.1 0-2 .9-2 2v14c0 1.1.9 2 2 2h14c1.1 0 2-.9 2-2V5c0-1.1-.9-2-2-2zM9 17H7v-7h2v7zm4 0h-2V7h2v10zm4 0h-2v-4h2v4z\"/>\n",
              "    </g>\n",
              "</svg>\n",
              "  </button>\n",
              "\n",
              "<style>\n",
              "  .colab-df-quickchart {\n",
              "      --bg-color: #E8F0FE;\n",
              "      --fill-color: #1967D2;\n",
              "      --hover-bg-color: #E2EBFA;\n",
              "      --hover-fill-color: #174EA6;\n",
              "      --disabled-fill-color: #AAA;\n",
              "      --disabled-bg-color: #DDD;\n",
              "  }\n",
              "\n",
              "  [theme=dark] .colab-df-quickchart {\n",
              "      --bg-color: #3B4455;\n",
              "      --fill-color: #D2E3FC;\n",
              "      --hover-bg-color: #434B5C;\n",
              "      --hover-fill-color: #FFFFFF;\n",
              "      --disabled-bg-color: #3B4455;\n",
              "      --disabled-fill-color: #666;\n",
              "  }\n",
              "\n",
              "  .colab-df-quickchart {\n",
              "    background-color: var(--bg-color);\n",
              "    border: none;\n",
              "    border-radius: 50%;\n",
              "    cursor: pointer;\n",
              "    display: none;\n",
              "    fill: var(--fill-color);\n",
              "    height: 32px;\n",
              "    padding: 0;\n",
              "    width: 32px;\n",
              "  }\n",
              "\n",
              "  .colab-df-quickchart:hover {\n",
              "    background-color: var(--hover-bg-color);\n",
              "    box-shadow: 0 1px 2px rgba(60, 64, 67, 0.3), 0 1px 3px 1px rgba(60, 64, 67, 0.15);\n",
              "    fill: var(--button-hover-fill-color);\n",
              "  }\n",
              "\n",
              "  .colab-df-quickchart-complete:disabled,\n",
              "  .colab-df-quickchart-complete:disabled:hover {\n",
              "    background-color: var(--disabled-bg-color);\n",
              "    fill: var(--disabled-fill-color);\n",
              "    box-shadow: none;\n",
              "  }\n",
              "\n",
              "  .colab-df-spinner {\n",
              "    border: 2px solid var(--fill-color);\n",
              "    border-color: transparent;\n",
              "    border-bottom-color: var(--fill-color);\n",
              "    animation:\n",
              "      spin 1s steps(1) infinite;\n",
              "  }\n",
              "\n",
              "  @keyframes spin {\n",
              "    0% {\n",
              "      border-color: transparent;\n",
              "      border-bottom-color: var(--fill-color);\n",
              "      border-left-color: var(--fill-color);\n",
              "    }\n",
              "    20% {\n",
              "      border-color: transparent;\n",
              "      border-left-color: var(--fill-color);\n",
              "      border-top-color: var(--fill-color);\n",
              "    }\n",
              "    30% {\n",
              "      border-color: transparent;\n",
              "      border-left-color: var(--fill-color);\n",
              "      border-top-color: var(--fill-color);\n",
              "      border-right-color: var(--fill-color);\n",
              "    }\n",
              "    40% {\n",
              "      border-color: transparent;\n",
              "      border-right-color: var(--fill-color);\n",
              "      border-top-color: var(--fill-color);\n",
              "    }\n",
              "    60% {\n",
              "      border-color: transparent;\n",
              "      border-right-color: var(--fill-color);\n",
              "    }\n",
              "    80% {\n",
              "      border-color: transparent;\n",
              "      border-right-color: var(--fill-color);\n",
              "      border-bottom-color: var(--fill-color);\n",
              "    }\n",
              "    90% {\n",
              "      border-color: transparent;\n",
              "      border-bottom-color: var(--fill-color);\n",
              "    }\n",
              "  }\n",
              "</style>\n",
              "\n",
              "  <script>\n",
              "    async function quickchart(key) {\n",
              "      const quickchartButtonEl =\n",
              "        document.querySelector('#' + key + ' button');\n",
              "      quickchartButtonEl.disabled = true;  // To prevent multiple clicks.\n",
              "      quickchartButtonEl.classList.add('colab-df-spinner');\n",
              "      try {\n",
              "        const charts = await google.colab.kernel.invokeFunction(\n",
              "            'suggestCharts', [key], {});\n",
              "      } catch (error) {\n",
              "        console.error('Error during call to suggestCharts:', error);\n",
              "      }\n",
              "      quickchartButtonEl.classList.remove('colab-df-spinner');\n",
              "      quickchartButtonEl.classList.add('colab-df-quickchart-complete');\n",
              "    }\n",
              "    (() => {\n",
              "      let quickchartButtonEl =\n",
              "        document.querySelector('#df-6d418d58-685d-4332-8483-2ca0dd5109db button');\n",
              "      quickchartButtonEl.style.display =\n",
              "        google.colab.kernel.accessAllowed ? 'block' : 'none';\n",
              "    })();\n",
              "  </script>\n",
              "</div>\n",
              "\n",
              "    </div>\n",
              "  </div>\n"
            ],
            "application/vnd.google.colaboratory.intrinsic+json": {
              "type": "dataframe",
              "variable_name": "train_df",
              "summary": "{\n  \"name\": \"train_df\",\n  \"rows\": 364,\n  \"fields\": [\n    {\n      \"column\": \"image_id\",\n      \"properties\": {\n        \"dtype\": \"string\",\n        \"num_unique_values\": 364,\n        \"samples\": [\n          \"/content/drive/MyDrive/Project/Good/IMG_20240211_004413.jpg\",\n          \"/content/drive/MyDrive/Project/Good/IMG_20240211_001806.jpg\",\n          \"/content/drive/MyDrive/Project/Good/IMG_20240211_004955.jpg\"\n        ],\n        \"semantic_type\": \"\",\n        \"description\": \"\"\n      }\n    },\n    {\n      \"column\": \"average_hue\",\n      \"properties\": {\n        \"dtype\": \"number\",\n        \"std\": 9.161995346913264,\n        \"min\": 153.3291836009306,\n        \"max\": 203.65981680676828,\n        \"num_unique_values\": 364,\n        \"samples\": [\n          170.68505817488128,\n          179.55199217952153,\n          183.02457221536076\n        ],\n        \"semantic_type\": \"\",\n        \"description\": \"\"\n      }\n    },\n    {\n      \"column\": \"average_saturation\",\n      \"properties\": {\n        \"dtype\": \"number\",\n        \"std\": 0.0,\n        \"min\": 0.0,\n        \"max\": 0.0,\n        \"num_unique_values\": 1,\n        \"samples\": [\n          0.0\n        ],\n        \"semantic_type\": \"\",\n        \"description\": \"\"\n      }\n    },\n    {\n      \"column\": \"average_value\",\n      \"properties\": {\n        \"dtype\": \"number\",\n        \"std\": 0.0,\n        \"min\": 0.0,\n        \"max\": 0.0,\n        \"num_unique_values\": 1,\n        \"samples\": [\n          0.0\n        ],\n        \"semantic_type\": \"\",\n        \"description\": \"\"\n      }\n    },\n    {\n      \"column\": \"area\",\n      \"properties\": {\n        \"dtype\": \"number\",\n        \"std\": 3927295.739568326,\n        \"min\": 348592.0,\n        \"max\": 22255211.5,\n        \"num_unique_values\": 364,\n        \"samples\": [\n          14697197.5\n        ],\n        \"semantic_type\": \"\",\n        \"description\": \"\"\n      }\n    },\n    {\n      \"column\": \"x\",\n      \"properties\": {\n        \"dtype\": \"number\",\n        \"std\": 522,\n        \"min\": 0,\n        \"max\": 3715,\n        \"num_unique_values\": 325,\n        \"samples\": [\n          1233\n        ],\n        \"semantic_type\": \"\",\n        \"description\": \"\"\n      }\n    },\n    {\n      \"column\": \"y\",\n      \"properties\": {\n        \"dtype\": \"number\",\n        \"std\": 851,\n        \"min\": 0,\n        \"max\": 5921,\n        \"num_unique_values\": 339,\n        \"samples\": [\n          3039\n        ],\n        \"semantic_type\": \"\",\n        \"description\": \"\"\n      }\n    },\n    {\n      \"column\": \"w\",\n      \"properties\": {\n        \"dtype\": \"number\",\n        \"std\": 793,\n        \"min\": 1365,\n        \"max\": 5925,\n        \"num_unique_values\": 340,\n        \"samples\": [\n          3546\n        ],\n        \"semantic_type\": \"\",\n        \"description\": \"\"\n      }\n    },\n    {\n      \"column\": \"h\",\n      \"properties\": {\n        \"dtype\": \"number\",\n        \"std\": 916,\n        \"min\": 523,\n        \"max\": 7034,\n        \"num_unique_values\": 340,\n        \"samples\": [\n          4908\n        ],\n        \"semantic_type\": \"\",\n        \"description\": \"\"\n      }\n    },\n    {\n      \"column\": \"aspect_ratio\",\n      \"properties\": {\n        \"dtype\": \"number\",\n        \"std\": 0.2786495739016698,\n        \"min\": 0.5063974978675007,\n        \"max\": 3.001814882032668,\n        \"num_unique_values\": 364,\n        \"samples\": [\n          1.150504813336464\n        ],\n        \"semantic_type\": \"\",\n        \"description\": \"\"\n      }\n    },\n    {\n      \"column\": \"correlation\",\n      \"properties\": {\n        \"dtype\": \"number\",\n        \"std\": 0.0001345755668350928,\n        \"min\": 0.9986909707725524,\n        \"max\": 0.9999242126080624,\n        \"num_unique_values\": 364,\n        \"samples\": [\n          0.9998719608077322\n        ],\n        \"semantic_type\": \"\",\n        \"description\": \"\"\n      }\n    },\n    {\n      \"column\": \"energy\",\n      \"properties\": {\n        \"dtype\": \"number\",\n        \"std\": 0.02362397902012482,\n        \"min\": 0.0697640117607474,\n        \"max\": 0.2125240752681675,\n        \"num_unique_values\": 364,\n        \"samples\": [\n          0.0937578470677631\n        ],\n        \"semantic_type\": \"\",\n        \"description\": \"\"\n      }\n    },\n    {\n      \"column\": \"contrast\",\n      \"properties\": {\n        \"dtype\": \"number\",\n        \"std\": 0.43266661573731025,\n        \"min\": 0.4572677642817041,\n        \"max\": 2.754430054149489,\n        \"num_unique_values\": 364,\n        \"samples\": [\n          0.6951552149432406\n        ],\n        \"semantic_type\": \"\",\n        \"description\": \"\"\n      }\n    },\n    {\n      \"column\": \"homogeneity\",\n      \"properties\": {\n        \"dtype\": \"number\",\n        \"std\": 0.03572124907887313,\n        \"min\": 0.5689811853630415,\n        \"max\": 0.8084458736312256,\n        \"num_unique_values\": 364,\n        \"samples\": [\n          0.7728779130793234\n        ],\n        \"semantic_type\": \"\",\n        \"description\": \"\"\n      }\n    },\n    {\n      \"column\": \"quality\",\n      \"properties\": {\n        \"dtype\": \"number\",\n        \"std\": 0,\n        \"min\": 0,\n        \"max\": 1,\n        \"num_unique_values\": 2,\n        \"samples\": [\n          0\n        ],\n        \"semantic_type\": \"\",\n        \"description\": \"\"\n      }\n    }\n  ]\n}"
            }
          },
          "metadata": {},
          "execution_count": 37
        }
      ]
    },
    {
      "cell_type": "markdown",
      "source": [
        "## **Exploratory Data Analysis**"
      ],
      "metadata": {
        "id": "fccrKbsekpW-"
      }
    },
    {
      "cell_type": "code",
      "source": [
        "test_df['quality'].value_counts()"
      ],
      "metadata": {
        "colab": {
          "base_uri": "https://localhost:8080/",
          "height": 0
        },
        "id": "I_ofC7mVXcxA",
        "outputId": "df160aaf-56f1-403f-d31a-70049a7fa8f7"
      },
      "execution_count": 40,
      "outputs": [
        {
          "output_type": "execute_result",
          "data": {
            "text/plain": [
              "1    70\n",
              "0    21\n",
              "Name: quality, dtype: int64"
            ]
          },
          "metadata": {},
          "execution_count": 40
        }
      ]
    },
    {
      "cell_type": "code",
      "source": [
        "import matplotlib.pyplot as plt\n",
        "\n",
        "# Sample data\n",
        "labels = ['Good', 'Bad']\n",
        "counts_train = [282, 82]  # Replace with your actual counts\n",
        "counts_test = [70, 21]  # Replace with your actual counts\n",
        "\n",
        "# Calculate percentages\n",
        "total_count = sum(counts_train)\n",
        "percentages_tr = [(count / total_count) * 100 for count in counts_train]\n",
        "percentages_test = [(count / sum(counts_test)) * 100 for count in counts_test]\n",
        "\n",
        "# Define pleasing colors\n",
        "colors = ['#66b2ff', '#ff9999']\n",
        "\n",
        "# Plotting the 2D pie chart with shadow\n",
        "fig, ax = plt.subplots(1, 2, figsize = (10, 5))\n",
        "# Define the amount of explosion (0.1 means 10% of the radius)\n",
        "explode = (0.1, 0)\n",
        "\n",
        "ax[0].pie(percentages_tr, labels=labels, autopct='%1.1f%%', startangle=90, colors=colors,\n",
        "       wedgeprops={'edgecolor': 'black'}, shadow=True, explode=explode)\n",
        "# Add a title\n",
        "ax[0].set_title('Distribution of Training Images')\n",
        "\n",
        "ax[1].pie(percentages_test, labels=labels, autopct='%1.1f%%', startangle=90, colors=colors,\n",
        "       wedgeprops={'edgecolor': 'black'}, shadow=True, explode=explode)\n",
        "# Add a title\n",
        "ax[1].set_title('Distribution of Test Images')\n",
        "\n",
        "# Display the 2D pie chart with shadow\n",
        "plt.show()"
      ],
      "metadata": {
        "colab": {
          "base_uri": "https://localhost:8080/",
          "height": 411
        },
        "id": "0uUlyvygb_3W",
        "outputId": "49574d01-1632-4f13-fd6b-12dff97f272d"
      },
      "execution_count": 41,
      "outputs": [
        {
          "output_type": "display_data",
          "data": {
            "text/plain": [
              "<Figure size 1000x500 with 2 Axes>"
            ],
            "image/png": "[encoded data removed]"
          },
          "metadata": {}
        }
      ]
    },
    {
      "cell_type": "code",
      "source": [
        "train_df.describe()"
      ],
      "metadata": {
        "colab": {
          "base_uri": "https://localhost:8080/",
          "height": 320
        },
        "id": "I_7zBqvgz45S",
        "outputId": "33a25dd1-9924-4f12-9243-6da79bf41369"
      },
      "execution_count": 42,
      "outputs": [
        {
          "output_type": "execute_result",
          "data": {
            "text/plain": [
              "       average_hue  average_saturation  average_value          area  \\\n",
              "count   364.000000               364.0          364.0  3.640000e+02   \n",
              "mean    182.383346                 0.0            0.0  9.733640e+06   \n",
              "std       9.161995                 0.0            0.0  3.927296e+06   \n",
              "min     153.329184                 0.0            0.0  3.485920e+05   \n",
              "25%     176.455830                 0.0            0.0  7.217095e+06   \n",
              "50%     183.646385                 0.0            0.0  9.593140e+06   \n",
              "75%     189.821567                 0.0            0.0  1.225806e+07   \n",
              "max     203.659817                 0.0            0.0  2.225521e+07   \n",
              "\n",
              "                 x            y            w            h  aspect_ratio  \\\n",
              "count   364.000000   364.000000   364.000000   364.000000    364.000000   \n",
              "mean   1085.796703  2371.763736  3624.741758  3787.510989      0.999664   \n",
              "std     522.006335   851.016549   793.888095   916.910537      0.278650   \n",
              "min       0.000000     0.000000  1365.000000   523.000000      0.506397   \n",
              "25%     785.750000  1870.750000  3132.000000  3238.750000      0.847065   \n",
              "50%    1053.000000  2343.500000  3627.000000  3832.500000      0.937688   \n",
              "75%    1375.500000  2774.250000  4139.750000  4337.250000      1.084221   \n",
              "max    3715.000000  5921.000000  5925.000000  7034.000000      3.001815   \n",
              "\n",
              "       correlation      energy    contrast  homogeneity     quality  \n",
              "count   364.000000  364.000000  364.000000   364.000000  364.000000  \n",
              "mean      0.999774    0.120142    0.965563     0.771811    0.774725  \n",
              "std       0.000135    0.023624    0.432667     0.035721    0.418338  \n",
              "min       0.998691    0.069764    0.457268     0.568981    0.000000  \n",
              "25%       0.999738    0.104358    0.659618     0.767440    1.000000  \n",
              "50%       0.999809    0.116824    0.819573     0.777933    1.000000  \n",
              "75%       0.999856    0.131996    1.134088     0.787670    1.000000  \n",
              "max       0.999924    0.212524    2.754430     0.808446    1.000000  "
            ],
            "text/html": [
              "\n",
              "  <div id=\"df-afe11d8e-a3ac-4f7d-aa56-45dca743c56e\" class=\"colab-df-container\">\n",
              "    <div>\n",
              "<style scoped>\n",
              "    .dataframe tbody tr th:only-of-type {\n",
              "        vertical-align: middle;\n",
              "    }\n",
              "\n",
              "    .dataframe tbody tr th {\n",
              "        vertical-align: top;\n",
              "    }\n",
              "\n",
              "    .dataframe thead th {\n",
              "        text-align: right;\n",
              "    }\n",
              "</style>\n",
              "<table border=\"1\" class=\"dataframe\">\n",
              "  <thead>\n",
              "    <tr style=\"text-align: right;\">\n",
              "      <th></th>\n",
              "      <th>average_hue</th>\n",
              "      <th>average_saturation</th>\n",
              "      <th>average_value</th>\n",
              "      <th>area</th>\n",
              "      <th>x</th>\n",
              "      <th>y</th>\n",
              "      <th>w</th>\n",
              "      <th>h</th>\n",
              "      <th>aspect_ratio</th>\n",
              "      <th>correlation</th>\n",
              "      <th>energy</th>\n",
              "      <th>contrast</th>\n",
              "      <th>homogeneity</th>\n",
              "      <th>quality</th>\n",
              "    </tr>\n",
              "  </thead>\n",
              "  <tbody>\n",
              "    <tr>\n",
              "      <th>count</th>\n",
              "      <td>364.000000</td>\n",
              "      <td>364.0</td>\n",
              "      <td>364.0</td>\n",
              "      <td>3.640000e+02</td>\n",
              "      <td>364.000000</td>\n",
              "      <td>364.000000</td>\n",
              "      <td>364.000000</td>\n",
              "      <td>364.000000</td>\n",
              "      <td>364.000000</td>\n",
              "      <td>364.000000</td>\n",
              "      <td>364.000000</td>\n",
              "      <td>364.000000</td>\n",
              "      <td>364.000000</td>\n",
              "      <td>364.000000</td>\n",
              "    </tr>\n",
              "    <tr>\n",
              "      <th>mean</th>\n",
              "      <td>182.383346</td>\n",
              "      <td>0.0</td>\n",
              "      <td>0.0</td>\n",
              "      <td>9.733640e+06</td>\n",
              "      <td>1085.796703</td>\n",
              "      <td>2371.763736</td>\n",
              "      <td>3624.741758</td>\n",
              "      <td>3787.510989</td>\n",
              "      <td>0.999664</td>\n",
              "      <td>0.999774</td>\n",
              "      <td>0.120142</td>\n",
              "      <td>0.965563</td>\n",
              "      <td>0.771811</td>\n",
              "      <td>0.774725</td>\n",
              "    </tr>\n",
              "    <tr>\n",
              "      <th>std</th>\n",
              "      <td>9.161995</td>\n",
              "      <td>0.0</td>\n",
              "      <td>0.0</td>\n",
              "      <td>3.927296e+06</td>\n",
              "      <td>522.006335</td>\n",
              "      <td>851.016549</td>\n",
              "      <td>793.888095</td>\n",
              "      <td>916.910537</td>\n",
              "      <td>0.278650</td>\n",
              "      <td>0.000135</td>\n",
              "      <td>0.023624</td>\n",
              "      <td>0.432667</td>\n",
              "      <td>0.035721</td>\n",
              "      <td>0.418338</td>\n",
              "    </tr>\n",
              "    <tr>\n",
              "      <th>min</th>\n",
              "      <td>153.329184</td>\n",
              "      <td>0.0</td>\n",
              "      <td>0.0</td>\n",
              "      <td>3.485920e+05</td>\n",
              "      <td>0.000000</td>\n",
              "      <td>0.000000</td>\n",
              "      <td>1365.000000</td>\n",
              "      <td>523.000000</td>\n",
              "      <td>0.506397</td>\n",
              "      <td>0.998691</td>\n",
              "      <td>0.069764</td>\n",
              "      <td>0.457268</td>\n",
              "      <td>0.568981</td>\n",
              "      <td>0.000000</td>\n",
              "    </tr>\n",
              "    <tr>\n",
              "      <th>25%</th>\n",
              "      <td>176.455830</td>\n",
              "      <td>0.0</td>\n",
              "      <td>0.0</td>\n",
              "      <td>7.217095e+06</td>\n",
              "      <td>785.750000</td>\n",
              "      <td>1870.750000</td>\n",
              "      <td>3132.000000</td>\n",
              "      <td>3238.750000</td>\n",
              "      <td>0.847065</td>\n",
              "      <td>0.999738</td>\n",
              "      <td>0.104358</td>\n",
              "      <td>0.659618</td>\n",
              "      <td>0.767440</td>\n",
              "      <td>1.000000</td>\n",
              "    </tr>\n",
              "    <tr>\n",
              "      <th>50%</th>\n",
              "      <td>183.646385</td>\n",
              "      <td>0.0</td>\n",
              "      <td>0.0</td>\n",
              "      <td>9.593140e+06</td>\n",
              "      <td>1053.000000</td>\n",
              "      <td>2343.500000</td>\n",
              "      <td>3627.000000</td>\n",
              "      <td>3832.500000</td>\n",
              "      <td>0.937688</td>\n",
              "      <td>0.999809</td>\n",
              "      <td>0.116824</td>\n",
              "      <td>0.819573</td>\n",
              "      <td>0.777933</td>\n",
              "      <td>1.000000</td>\n",
              "    </tr>\n",
              "    <tr>\n",
              "      <th>75%</th>\n",
              "      <td>189.821567</td>\n",
              "      <td>0.0</td>\n",
              "      <td>0.0</td>\n",
              "      <td>1.225806e+07</td>\n",
              "      <td>1375.500000</td>\n",
              "      <td>2774.250000</td>\n",
              "      <td>4139.750000</td>\n",
              "      <td>4337.250000</td>\n",
              "      <td>1.084221</td>\n",
              "      <td>0.999856</td>\n",
              "      <td>0.131996</td>\n",
              "      <td>1.134088</td>\n",
              "      <td>0.787670</td>\n",
              "      <td>1.000000</td>\n",
              "    </tr>\n",
              "    <tr>\n",
              "      <th>max</th>\n",
              "      <td>203.659817</td>\n",
              "      <td>0.0</td>\n",
              "      <td>0.0</td>\n",
              "      <td>2.225521e+07</td>\n",
              "      <td>3715.000000</td>\n",
              "      <td>5921.000000</td>\n",
              "      <td>5925.000000</td>\n",
              "      <td>7034.000000</td>\n",
              "      <td>3.001815</td>\n",
              "      <td>0.999924</td>\n",
              "      <td>0.212524</td>\n",
              "      <td>2.754430</td>\n",
              "      <td>0.808446</td>\n",
              "      <td>1.000000</td>\n",
              "    </tr>\n",
              "  </tbody>\n",
              "</table>\n",
              "</div>\n",
              "    <div class=\"colab-df-buttons\">\n",
              "\n",
              "  <div class=\"colab-df-container\">\n",
              "    <button class=\"colab-df-convert\" onclick=\"convertToInteractive('df-afe11d8e-a3ac-4f7d-aa56-45dca743c56e')\"\n",
              "            title=\"Convert this dataframe to an interactive table.\"\n",
              "            style=\"display:none;\">\n",
              "\n",
              "  <svg xmlns=\"http://www.w3.org/2000/svg\" height=\"24px\" viewBox=\"0 -960 960 960\">\n",
              "    <path d=\"M120-120v-720h720v720H120Zm60-500h600v-160H180v160Zm220 220h160v-160H400v160Zm0 220h160v-160H400v160ZM180-400h160v-160H180v160Zm440 0h160v-160H620v160ZM180-180h160v-160H180v160Zm440 0h160v-160H620v160Z\"/>\n",
              "  </svg>\n",
              "    </button>\n",
              "\n",
              "  <style>\n",
              "    .colab-df-container {\n",
              "      display:flex;\n",
              "      gap: 12px;\n",
              "    }\n",
              "\n",
              "    .colab-df-convert {\n",
              "      background-color: #E8F0FE;\n",
              "      border: none;\n",
              "      border-radius: 50%;\n",
              "      cursor: pointer;\n",
              "      display: none;\n",
              "      fill: #1967D2;\n",
              "      height: 32px;\n",
              "      padding: 0 0 0 0;\n",
              "      width: 32px;\n",
              "    }\n",
              "\n",
              "    .colab-df-convert:hover {\n",
              "      background-color: #E2EBFA;\n",
              "      box-shadow: 0px 1px 2px rgba(60, 64, 67, 0.3), 0px 1px 3px 1px rgba(60, 64, 67, 0.15);\n",
              "      fill: #174EA6;\n",
              "    }\n",
              "\n",
              "    .colab-df-buttons div {\n",
              "      margin-bottom: 4px;\n",
              "    }\n",
              "\n",
              "    [theme=dark] .colab-df-convert {\n",
              "      background-color: #3B4455;\n",
              "      fill: #D2E3FC;\n",
              "    }\n",
              "\n",
              "    [theme=dark] .colab-df-convert:hover {\n",
              "      background-color: #434B5C;\n",
              "      box-shadow: 0px 1px 3px 1px rgba(0, 0, 0, 0.15);\n",
              "      filter: drop-shadow(0px 1px 2px rgba(0, 0, 0, 0.3));\n",
              "      fill: #FFFFFF;\n",
              "    }\n",
              "  </style>\n",
              "\n",
              "    <script>\n",
              "      const buttonEl =\n",
              "        document.querySelector('#df-afe11d8e-a3ac-4f7d-aa56-45dca743c56e button.colab-df-convert');\n",
              "      buttonEl.style.display =\n",
              "        google.colab.kernel.accessAllowed ? 'block' : 'none';\n",
              "\n",
              "      async function convertToInteractive(key) {\n",
              "        const element = document.querySelector('#df-afe11d8e-a3ac-4f7d-aa56-45dca743c56e');\n",
              "        const dataTable =\n",
              "          await google.colab.kernel.invokeFunction('convertToInteractive',\n",
              "                                                    [key], {});\n",
              "        if (!dataTable) return;\n",
              "\n",
              "        const docLinkHtml = 'Like what you see? Visit the ' +\n",
              "          '<a target=\"_blank\" href=https://colab.research.google.com/notebooks/data_table.ipynb>data table notebook</a>'\n",
              "          + ' to learn more about interactive tables.';\n",
              "        element.innerHTML = '';\n",
              "        dataTable['output_type'] = 'display_data';\n",
              "        await google.colab.output.renderOutput(dataTable, element);\n",
              "        const docLink = document.createElement('div');\n",
              "        docLink.innerHTML = docLinkHtml;\n",
              "        element.appendChild(docLink);\n",
              "      }\n",
              "    </script>\n",
              "  </div>\n",
              "\n",
              "\n",
              "<div id=\"df-02132893-c958-4a6b-9920-3d8983f0a42b\">\n",
              "  <button class=\"colab-df-quickchart\" onclick=\"quickchart('df-02132893-c958-4a6b-9920-3d8983f0a42b')\"\n",
              "            title=\"Suggest charts\"\n",
              "            style=\"display:none;\">\n",
              "\n",
              "<svg xmlns=\"http://www.w3.org/2000/svg\" height=\"24px\"viewBox=\"0 0 24 24\"\n",
              "     width=\"24px\">\n",
              "    <g>\n",
              "        <path d=\"M19 3H5c-1.1 0-2 .9-2 2v14c0 1.1.9 2 2 2h14c1.1 0 2-.9 2-2V5c0-1.1-.9-2-2-2zM9 17H7v-7h2v7zm4 0h-2V7h2v10zm4 0h-2v-4h2v4z\"/>\n",
              "    </g>\n",
              "</svg>\n",
              "  </button>\n",
              "\n",
              "<style>\n",
              "  .colab-df-quickchart {\n",
              "      --bg-color: #E8F0FE;\n",
              "      --fill-color: #1967D2;\n",
              "      --hover-bg-color: #E2EBFA;\n",
              "      --hover-fill-color: #174EA6;\n",
              "      --disabled-fill-color: #AAA;\n",
              "      --disabled-bg-color: #DDD;\n",
              "  }\n",
              "\n",
              "  [theme=dark] .colab-df-quickchart {\n",
              "      --bg-color: #3B4455;\n",
              "      --fill-color: #D2E3FC;\n",
              "      --hover-bg-color: #434B5C;\n",
              "      --hover-fill-color: #FFFFFF;\n",
              "      --disabled-bg-color: #3B4455;\n",
              "      --disabled-fill-color: #666;\n",
              "  }\n",
              "\n",
              "  .colab-df-quickchart {\n",
              "    background-color: var(--bg-color);\n",
              "    border: none;\n",
              "    border-radius: 50%;\n",
              "    cursor: pointer;\n",
              "    display: none;\n",
              "    fill: var(--fill-color);\n",
              "    height: 32px;\n",
              "    padding: 0;\n",
              "    width: 32px;\n",
              "  }\n",
              "\n",
              "  .colab-df-quickchart:hover {\n",
              "    background-color: var(--hover-bg-color);\n",
              "    box-shadow: 0 1px 2px rgba(60, 64, 67, 0.3), 0 1px 3px 1px rgba(60, 64, 67, 0.15);\n",
              "    fill: var(--button-hover-fill-color);\n",
              "  }\n",
              "\n",
              "  .colab-df-quickchart-complete:disabled,\n",
              "  .colab-df-quickchart-complete:disabled:hover {\n",
              "    background-color: var(--disabled-bg-color);\n",
              "    fill: var(--disabled-fill-color);\n",
              "    box-shadow: none;\n",
              "  }\n",
              "\n",
              "  .colab-df-spinner {\n",
              "    border: 2px solid var(--fill-color);\n",
              "    border-color: transparent;\n",
              "    border-bottom-color: var(--fill-color);\n",
              "    animation:\n",
              "      spin 1s steps(1) infinite;\n",
              "  }\n",
              "\n",
              "  @keyframes spin {\n",
              "    0% {\n",
              "      border-color: transparent;\n",
              "      border-bottom-color: var(--fill-color);\n",
              "      border-left-color: var(--fill-color);\n",
              "    }\n",
              "    20% {\n",
              "      border-color: transparent;\n",
              "      border-left-color: var(--fill-color);\n",
              "      border-top-color: var(--fill-color);\n",
              "    }\n",
              "    30% {\n",
              "      border-color: transparent;\n",
              "      border-left-color: var(--fill-color);\n",
              "      border-top-color: var(--fill-color);\n",
              "      border-right-color: var(--fill-color);\n",
              "    }\n",
              "    40% {\n",
              "      border-color: transparent;\n",
              "      border-right-color: var(--fill-color);\n",
              "      border-top-color: var(--fill-color);\n",
              "    }\n",
              "    60% {\n",
              "      border-color: transparent;\n",
              "      border-right-color: var(--fill-color);\n",
              "    }\n",
              "    80% {\n",
              "      border-color: transparent;\n",
              "      border-right-color: var(--fill-color);\n",
              "      border-bottom-color: var(--fill-color);\n",
              "    }\n",
              "    90% {\n",
              "      border-color: transparent;\n",
              "      border-bottom-color: var(--fill-color);\n",
              "    }\n",
              "  }\n",
              "</style>\n",
              "\n",
              "  <script>\n",
              "    async function quickchart(key) {\n",
              "      const quickchartButtonEl =\n",
              "        document.querySelector('#' + key + ' button');\n",
              "      quickchartButtonEl.disabled = true;  // To prevent multiple clicks.\n",
              "      quickchartButtonEl.classList.add('colab-df-spinner');\n",
              "      try {\n",
              "        const charts = await google.colab.kernel.invokeFunction(\n",
              "            'suggestCharts', [key], {});\n",
              "      } catch (error) {\n",
              "        console.error('Error during call to suggestCharts:', error);\n",
              "      }\n",
              "      quickchartButtonEl.classList.remove('colab-df-spinner');\n",
              "      quickchartButtonEl.classList.add('colab-df-quickchart-complete');\n",
              "    }\n",
              "    (() => {\n",
              "      let quickchartButtonEl =\n",
              "        document.querySelector('#df-02132893-c958-4a6b-9920-3d8983f0a42b button');\n",
              "      quickchartButtonEl.style.display =\n",
              "        google.colab.kernel.accessAllowed ? 'block' : 'none';\n",
              "    })();\n",
              "  </script>\n",
              "</div>\n",
              "\n",
              "    </div>\n",
              "  </div>\n"
            ],
            "application/vnd.google.colaboratory.intrinsic+json": {
              "type": "dataframe",
              "summary": "{\n  \"name\": \"train_df\",\n  \"rows\": 8,\n  \"fields\": [\n    {\n      \"column\": \"average_hue\",\n      \"properties\": {\n        \"dtype\": \"number\",\n        \"std\": 95.90002091360047,\n        \"min\": 9.161995346913264,\n        \"max\": 364.0,\n        \"num_unique_values\": 8,\n        \"samples\": [\n          182.38334555981754,\n          183.6463847939485,\n          364.0\n        ],\n        \"semantic_type\": \"\",\n        \"description\": \"\"\n      }\n    },\n    {\n      \"column\": \"average_saturation\",\n      \"properties\": {\n        \"dtype\": \"number\",\n        \"std\": 128.69343417595164,\n        \"min\": 0.0,\n        \"max\": 364.0,\n        \"num_unique_values\": 2,\n        \"samples\": [\n          0.0,\n          364.0\n        ],\n        \"semantic_type\": \"\",\n        \"description\": \"\"\n      }\n    },\n    {\n      \"column\": \"average_value\",\n      \"properties\": {\n        \"dtype\": \"number\",\n        \"std\": 128.69343417595164,\n        \"min\": 0.0,\n        \"max\": 364.0,\n        \"num_unique_values\": 2,\n        \"samples\": [\n          0.0,\n          364.0\n        ],\n        \"semantic_type\": \"\",\n        \"description\": \"\"\n      }\n    },\n    {\n      \"column\": \"area\",\n      \"properties\": {\n        \"dtype\": \"number\",\n        \"std\": 7234852.23468806,\n        \"min\": 364.0,\n        \"max\": 22255211.5,\n        \"num_unique_values\": 8,\n        \"samples\": [\n          9733640.493131869,\n          9593140.25\n        ],\n        \"semantic_type\": \"\",\n        \"description\": \"\"\n      }\n    },\n    {\n      \"column\": \"x\",\n      \"properties\": {\n        \"dtype\": \"number\",\n        \"std\": 1140.161972069206,\n        \"min\": 0.0,\n        \"max\": 3715.0,\n        \"num_unique_values\": 8,\n        \"samples\": [\n          1085.7967032967033,\n          1053.0\n        ],\n        \"semantic_type\": \"\",\n        \"description\": \"\"\n      }\n    },\n    {\n      \"column\": \"y\",\n      \"properties\": {\n        \"dtype\": \"number\",\n        \"std\": 1859.8188220275867,\n        \"min\": 0.0,\n        \"max\": 5921.0,\n        \"num_unique_values\": 8,\n        \"samples\": [\n          2371.763736263736,\n          2343.5\n        ],\n        \"semantic_type\": \"\",\n        \"description\": \"\"\n      }\n    },\n    {\n      \"column\": \"w\",\n      \"properties\": {\n        \"dtype\": \"number\",\n        \"std\": 1890.2722267114375,\n        \"min\": 364.0,\n        \"max\": 5925.0,\n        \"num_unique_values\": 8,\n        \"samples\": [\n          3624.7417582417584,\n          3627.0\n        ],\n        \"semantic_type\": \"\",\n        \"description\": \"\"\n      }\n    },\n    {\n      \"column\": \"h\",\n      \"properties\": {\n        \"dtype\": \"number\",\n        \"std\": 2294.5515530703037,\n        \"min\": 364.0,\n        \"max\": 7034.0,\n        \"num_unique_values\": 8,\n        \"samples\": [\n          3787.510989010989,\n          3832.5\n        ],\n        \"semantic_type\": \"\",\n        \"description\": \"\"\n      }\n    },\n    {\n      \"column\": \"aspect_ratio\",\n      \"properties\": {\n        \"dtype\": \"number\",\n        \"std\": 128.3094141499433,\n        \"min\": 0.2786495739016698,\n        \"max\": 364.0,\n        \"num_unique_values\": 8,\n        \"samples\": [\n          0.9996638335138458,\n          0.937687843345704\n        ],\n        \"semantic_type\": \"\",\n        \"description\": \"\"\n      }\n    },\n    {\n      \"column\": \"correlation\",\n      \"properties\": {\n        \"dtype\": \"number\",\n        \"std\": 128.3909694735044,\n        \"min\": 0.0001345755668350928,\n        \"max\": 364.0,\n        \"num_unique_values\": 8,\n        \"samples\": [\n          0.9997738704431215,\n          0.9998094339549859\n        ],\n        \"semantic_type\": \"\",\n        \"description\": \"\"\n      }\n    },\n    {\n      \"column\": \"energy\",\n      \"properties\": {\n        \"dtype\": \"number\",\n        \"std\": 128.65408827374614,\n        \"min\": 0.02362397902012482,\n        \"max\": 364.0,\n        \"num_unique_values\": 8,\n        \"samples\": [\n          0.12014186349013604,\n          0.11682379606959845\n        ],\n        \"semantic_type\": \"\",\n        \"description\": \"\"\n      }\n    },\n    {\n      \"column\": \"contrast\",\n      \"properties\": {\n        \"dtype\": \"number\",\n        \"std\": 128.33075275244792,\n        \"min\": 0.43266661573731025,\n        \"max\": 364.0,\n        \"num_unique_values\": 8,\n        \"samples\": [\n          0.9655634294385729,\n          0.819573191938225\n        ],\n        \"semantic_type\": \"\",\n        \"description\": \"\"\n      }\n    },\n    {\n      \"column\": \"homogeneity\",\n      \"properties\": {\n        \"dtype\": \"number\",\n        \"std\": 128.46550351908093,\n        \"min\": 0.03572124907887313,\n        \"max\": 364.0,\n        \"num_unique_values\": 8,\n        \"samples\": [\n          0.7718106678869436,\n          0.77793267592856\n        ],\n        \"semantic_type\": \"\",\n        \"description\": \"\"\n      }\n    },\n    {\n      \"column\": \"quality\",\n      \"properties\": {\n        \"dtype\": \"number\",\n        \"std\": 128.43165800508515,\n        \"min\": 0.0,\n        \"max\": 364.0,\n        \"num_unique_values\": 5,\n        \"samples\": [\n          0.7747252747252747,\n          1.0\n        ],\n        \"semantic_type\": \"\",\n        \"description\": \"\"\n      }\n    }\n  ]\n}"
            }
          },
          "metadata": {},
          "execution_count": 42
        }
      ]
    },
    {
      "cell_type": "code",
      "source": [
        "import seaborn as sns"
      ],
      "metadata": {
        "id": "PqJwpFOwb_8_"
      },
      "execution_count": 43,
      "outputs": []
    },
    {
      "cell_type": "code",
      "source": [
        "sns.distplot(train_df[\"average_hue\"], color = \"green\")\n",
        "plt.title(\"Average Hue Distribution\")\n",
        "plt.show()"
      ],
      "metadata": {
        "colab": {
          "base_uri": "https://localhost:8080/",
          "height": 472
        },
        "id": "g_WrQ23pzw6B",
        "outputId": "599dd40c-f6ca-4da5-b811-e12245b74813"
      },
      "execution_count": 44,
      "outputs": [
        {
          "output_type": "display_data",
          "data": {
            "text/plain": [
              "<Figure size 640x480 with 1 Axes>"
            ],
            "image/png": "[encoded data removed]"
          },
          "metadata": {}
        }
      ]
    },
    {
      "cell_type": "code",
      "source": [
        "sns.distplot(train_df[\"area\"], color = \"green\")\n",
        "plt.title(\"Area Distribution\")\n",
        "plt.show()"
      ],
      "metadata": {
        "colab": {
          "base_uri": "https://localhost:8080/",
          "height": 472
        },
        "id": "6lMl3nHZzw9k",
        "outputId": "20484be1-a3ea-4519-cb90-4505e404336b"
      },
      "execution_count": 47,
      "outputs": [
        {
          "output_type": "display_data",
          "data": {
            "text/plain": [
              "<Figure size 640x480 with 1 Axes>"
            ],
            "image/png": "[encoded data removed]"
          },
          "metadata": {}
        }
      ]
    },
    {
      "cell_type": "code",
      "source": [
        "sns.distplot(train_df[\"aspect_ratio\"], color = \"green\")\n",
        "plt.title(\"Aspect Ratio Distribution\")\n",
        "plt.show()"
      ],
      "metadata": {
        "colab": {
          "base_uri": "https://localhost:8080/",
          "height": 472
        },
        "id": "46kHXiGszxAO",
        "outputId": "0da6fe9c-e8c0-4136-f154-c86e8cb93566"
      },
      "execution_count": 48,
      "outputs": [
        {
          "output_type": "display_data",
          "data": {
            "text/plain": [
              "<Figure size 640x480 with 1 Axes>"
            ],
            "image/png": "[encoded data removed]"
          },
          "metadata": {}
        }
      ]
    },
    {
      "cell_type": "code",
      "source": [
        "sns.distplot(train_df[\"correlation\"], color = \"green\")\n",
        "plt.title(\"Correlation Distribution\")\n",
        "plt.show()"
      ],
      "metadata": {
        "colab": {
          "base_uri": "https://localhost:8080/",
          "height": 472
        },
        "id": "SEvRE0QY0qOW",
        "outputId": "ee5db515-aee2-429d-f263-1ebc2bde06d5"
      },
      "execution_count": 49,
      "outputs": [
        {
          "output_type": "display_data",
          "data": {
            "text/plain": [
              "<Figure size 640x480 with 1 Axes>"
            ],
            "image/png": "[encoded data removed]"
          },
          "metadata": {}
        }
      ]
    },
    {
      "cell_type": "code",
      "source": [
        "sns.distplot(train_df[\"energy\"], color = \"green\")\n",
        "plt.title(\"Energy Distribution\")\n",
        "plt.show()"
      ],
      "metadata": {
        "colab": {
          "base_uri": "https://localhost:8080/",
          "height": 472
        },
        "id": "g9blh_oy0qkA",
        "outputId": "565e2e9e-b9ef-4fb8-942d-677110cf6b1b"
      },
      "execution_count": 50,
      "outputs": [
        {
          "output_type": "display_data",
          "data": {
            "text/plain": [
              "<Figure size 640x480 with 1 Axes>"
            ],
            "image/png": "[encoded data removed]"
          },
          "metadata": {}
        }
      ]
    },
    {
      "cell_type": "code",
      "source": [
        "sns.distplot(train_df[\"contrast\"], color = \"green\")\n",
        "plt.title(\"Contrast Distribution\")\n",
        "plt.show()"
      ],
      "metadata": {
        "colab": {
          "base_uri": "https://localhost:8080/",
          "height": 472
        },
        "id": "nM5sHX1r0qmk",
        "outputId": "b1a7ef1b-2762-487a-d6f4-ddf1147762d4"
      },
      "execution_count": 51,
      "outputs": [
        {
          "output_type": "display_data",
          "data": {
            "text/plain": [
              "<Figure size 640x480 with 1 Axes>"
            ],
            "image/png": "[encoded data removed]"
          },
          "metadata": {}
        }
      ]
    },
    {
      "cell_type": "code",
      "source": [
        "sns.distplot(train_df[\"homogeneity\"], color = \"green\")\n",
        "plt.title(\"Homogeneity Distribution\")\n",
        "plt.show()"
      ],
      "metadata": {
        "colab": {
          "base_uri": "https://localhost:8080/",
          "height": 472
        },
        "id": "E9-rIZyo0qp0",
        "outputId": "44fe73ed-7639-4815-c3da-1e7d693760aa"
      },
      "execution_count": 52,
      "outputs": [
        {
          "output_type": "display_data",
          "data": {
            "text/plain": [
              "<Figure size 640x480 with 1 Axes>"
            ],
            "image/png": "[encoded data removed]"
          },
          "metadata": {}
        }
      ]
    },
    {
      "cell_type": "markdown",
      "source": [
        "## **Feature Engineering and Selection**"
      ],
      "metadata": {
        "id": "HzsxL-kD09aI"
      }
    },
    {
      "cell_type": "code",
      "source": [
        "train_df.columns"
      ],
      "metadata": {
        "colab": {
          "base_uri": "https://localhost:8080/",
          "height": 0
        },
        "id": "kMRHZQxX1CAX",
        "outputId": "a3d90cb8-9236-4b02-da9c-751d2e30e0aa"
      },
      "execution_count": 53,
      "outputs": [
        {
          "output_type": "execute_result",
          "data": {
            "text/plain": [
              "Index(['image_id', 'average_hue', 'average_saturation', 'average_value',\n",
              "       'area', 'x', 'y', 'w', 'h', 'aspect_ratio', 'correlation', 'energy',\n",
              "       'contrast', 'homogeneity', 'quality'],\n",
              "      dtype='object')"
            ]
          },
          "metadata": {},
          "execution_count": 53
        }
      ]
    },
    {
      "cell_type": "code",
      "source": [
        "features = ['average_hue', 'area', 'aspect_ratio', 'correlation', 'energy', 'contrast', 'homogeneity', 'x', 'y', 'w', 'h']\n",
        "target = [\"quality\"]"
      ],
      "metadata": {
        "id": "73JbJlPr1CDA"
      },
      "execution_count": 56,
      "outputs": []
    },
    {
      "cell_type": "code",
      "source": [
        "X_train = train_df[features]\n",
        "y_train = train_df[target]\n",
        "\n",
        "X_test = test_df[features]\n",
        "y_test = test_df[target]"
      ],
      "metadata": {
        "id": "m9OFEL641CFx"
      },
      "execution_count": 57,
      "outputs": []
    },
    {
      "cell_type": "code",
      "source": [
        "X_train.head(3)"
      ],
      "metadata": {
        "colab": {
          "base_uri": "https://localhost:8080/",
          "height": 143
        },
        "id": "GTsgbqxM1CIp",
        "outputId": "7515f131-0736-4345-ab41-69c6dcaed6d3"
      },
      "execution_count": 58,
      "outputs": [
        {
          "output_type": "execute_result",
          "data": {
            "text/plain": [
              "   average_hue       area  aspect_ratio  correlation    energy  contrast  \\\n",
              "0   187.932207  7306977.0      1.361401     0.999488  0.074876  1.793483   \n",
              "1   180.669479  9237372.0      0.716255     0.999887  0.108073  0.558863   \n",
              "2   191.237192  4354118.5      0.948005     0.999708  0.138788  0.837597   \n",
              "\n",
              "   homogeneity     x     y     w     h  \n",
              "0     0.575839     0  1790  3654  2684  \n",
              "1     0.780224   928  2264  3014  4208  \n",
              "2     0.777061  1699  2635  2352  2481  "
            ],
            "text/html": [
              "\n",
              "  <div id=\"df-128374fa-2979-476f-84ce-d53d7c25eecc\" class=\"colab-df-container\">\n",
              "    <div>\n",
              "<style scoped>\n",
              "    .dataframe tbody tr th:only-of-type {\n",
              "        vertical-align: middle;\n",
              "    }\n",
              "\n",
              "    .dataframe tbody tr th {\n",
              "        vertical-align: top;\n",
              "    }\n",
              "\n",
              "    .dataframe thead th {\n",
              "        text-align: right;\n",
              "    }\n",
              "</style>\n",
              "<table border=\"1\" class=\"dataframe\">\n",
              "  <thead>\n",
              "    <tr style=\"text-align: right;\">\n",
              "      <th></th>\n",
              "      <th>average_hue</th>\n",
              "      <th>area</th>\n",
              "      <th>aspect_ratio</th>\n",
              "      <th>correlation</th>\n",
              "      <th>energy</th>\n",
              "      <th>contrast</th>\n",
              "      <th>homogeneity</th>\n",
              "      <th>x</th>\n",
              "      <th>y</th>\n",
              "      <th>w</th>\n",
              "      <th>h</th>\n",
              "    </tr>\n",
              "  </thead>\n",
              "  <tbody>\n",
              "    <tr>\n",
              "      <th>0</th>\n",
              "      <td>187.932207</td>\n",
              "      <td>7306977.0</td>\n",
              "      <td>1.361401</td>\n",
              "      <td>0.999488</td>\n",
              "      <td>0.074876</td>\n",
              "      <td>1.793483</td>\n",
              "      <td>0.575839</td>\n",
              "      <td>0</td>\n",
              "      <td>1790</td>\n",
              "      <td>3654</td>\n",
              "      <td>2684</td>\n",
              "    </tr>\n",
              "    <tr>\n",
              "      <th>1</th>\n",
              "      <td>180.669479</td>\n",
              "      <td>9237372.0</td>\n",
              "      <td>0.716255</td>\n",
              "      <td>0.999887</td>\n",
              "      <td>0.108073</td>\n",
              "      <td>0.558863</td>\n",
              "      <td>0.780224</td>\n",
              "      <td>928</td>\n",
              "      <td>2264</td>\n",
              "      <td>3014</td>\n",
              "      <td>4208</td>\n",
              "    </tr>\n",
              "    <tr>\n",
              "      <th>2</th>\n",
              "      <td>191.237192</td>\n",
              "      <td>4354118.5</td>\n",
              "      <td>0.948005</td>\n",
              "      <td>0.999708</td>\n",
              "      <td>0.138788</td>\n",
              "      <td>0.837597</td>\n",
              "      <td>0.777061</td>\n",
              "      <td>1699</td>\n",
              "      <td>2635</td>\n",
              "      <td>2352</td>\n",
              "      <td>2481</td>\n",
              "    </tr>\n",
              "  </tbody>\n",
              "</table>\n",
              "</div>\n",
              "    <div class=\"colab-df-buttons\">\n",
              "\n",
              "  <div class=\"colab-df-container\">\n",
              "    <button class=\"colab-df-convert\" onclick=\"convertToInteractive('df-128374fa-2979-476f-84ce-d53d7c25eecc')\"\n",
              "            title=\"Convert this dataframe to an interactive table.\"\n",
              "            style=\"display:none;\">\n",
              "\n",
              "  <svg xmlns=\"http://www.w3.org/2000/svg\" height=\"24px\" viewBox=\"0 -960 960 960\">\n",
              "    <path d=\"M120-120v-720h720v720H120Zm60-500h600v-160H180v160Zm220 220h160v-160H400v160Zm0 220h160v-160H400v160ZM180-400h160v-160H180v160Zm440 0h160v-160H620v160ZM180-180h160v-160H180v160Zm440 0h160v-160H620v160Z\"/>\n",
              "  </svg>\n",
              "    </button>\n",
              "\n",
              "  <style>\n",
              "    .colab-df-container {\n",
              "      display:flex;\n",
              "      gap: 12px;\n",
              "    }\n",
              "\n",
              "    .colab-df-convert {\n",
              "      background-color: #E8F0FE;\n",
              "      border: none;\n",
              "      border-radius: 50%;\n",
              "      cursor: pointer;\n",
              "      display: none;\n",
              "      fill: #1967D2;\n",
              "      height: 32px;\n",
              "      padding: 0 0 0 0;\n",
              "      width: 32px;\n",
              "    }\n",
              "\n",
              "    .colab-df-convert:hover {\n",
              "      background-color: #E2EBFA;\n",
              "      box-shadow: 0px 1px 2px rgba(60, 64, 67, 0.3), 0px 1px 3px 1px rgba(60, 64, 67, 0.15);\n",
              "      fill: #174EA6;\n",
              "    }\n",
              "\n",
              "    .colab-df-buttons div {\n",
              "      margin-bottom: 4px;\n",
              "    }\n",
              "\n",
              "    [theme=dark] .colab-df-convert {\n",
              "      background-color: #3B4455;\n",
              "      fill: #D2E3FC;\n",
              "    }\n",
              "\n",
              "    [theme=dark] .colab-df-convert:hover {\n",
              "      background-color: #434B5C;\n",
              "      box-shadow: 0px 1px 3px 1px rgba(0, 0, 0, 0.15);\n",
              "      filter: drop-shadow(0px 1px 2px rgba(0, 0, 0, 0.3));\n",
              "      fill: #FFFFFF;\n",
              "    }\n",
              "  </style>\n",
              "\n",
              "    <script>\n",
              "      const buttonEl =\n",
              "        document.querySelector('#df-128374fa-2979-476f-84ce-d53d7c25eecc button.colab-df-convert');\n",
              "      buttonEl.style.display =\n",
              "        google.colab.kernel.accessAllowed ? 'block' : 'none';\n",
              "\n",
              "      async function convertToInteractive(key) {\n",
              "        const element = document.querySelector('#df-128374fa-2979-476f-84ce-d53d7c25eecc');\n",
              "        const dataTable =\n",
              "          await google.colab.kernel.invokeFunction('convertToInteractive',\n",
              "                                                    [key], {});\n",
              "        if (!dataTable) return;\n",
              "\n",
              "        const docLinkHtml = 'Like what you see? Visit the ' +\n",
              "          '<a target=\"_blank\" href=https://colab.research.google.com/notebooks/data_table.ipynb>data table notebook</a>'\n",
              "          + ' to learn more about interactive tables.';\n",
              "        element.innerHTML = '';\n",
              "        dataTable['output_type'] = 'display_data';\n",
              "        await google.colab.output.renderOutput(dataTable, element);\n",
              "        const docLink = document.createElement('div');\n",
              "        docLink.innerHTML = docLinkHtml;\n",
              "        element.appendChild(docLink);\n",
              "      }\n",
              "    </script>\n",
              "  </div>\n",
              "\n",
              "\n",
              "<div id=\"df-8218ee50-916e-4ce0-bc05-b588e419f878\">\n",
              "  <button class=\"colab-df-quickchart\" onclick=\"quickchart('df-8218ee50-916e-4ce0-bc05-b588e419f878')\"\n",
              "            title=\"Suggest charts\"\n",
              "            style=\"display:none;\">\n",
              "\n",
              "<svg xmlns=\"http://www.w3.org/2000/svg\" height=\"24px\"viewBox=\"0 0 24 24\"\n",
              "     width=\"24px\">\n",
              "    <g>\n",
              "        <path d=\"M19 3H5c-1.1 0-2 .9-2 2v14c0 1.1.9 2 2 2h14c1.1 0 2-.9 2-2V5c0-1.1-.9-2-2-2zM9 17H7v-7h2v7zm4 0h-2V7h2v10zm4 0h-2v-4h2v4z\"/>\n",
              "    </g>\n",
              "</svg>\n",
              "  </button>\n",
              "\n",
              "<style>\n",
              "  .colab-df-quickchart {\n",
              "      --bg-color: #E8F0FE;\n",
              "      --fill-color: #1967D2;\n",
              "      --hover-bg-color: #E2EBFA;\n",
              "      --hover-fill-color: #174EA6;\n",
              "      --disabled-fill-color: #AAA;\n",
              "      --disabled-bg-color: #DDD;\n",
              "  }\n",
              "\n",
              "  [theme=dark] .colab-df-quickchart {\n",
              "      --bg-color: #3B4455;\n",
              "      --fill-color: #D2E3FC;\n",
              "      --hover-bg-color: #434B5C;\n",
              "      --hover-fill-color: #FFFFFF;\n",
              "      --disabled-bg-color: #3B4455;\n",
              "      --disabled-fill-color: #666;\n",
              "  }\n",
              "\n",
              "  .colab-df-quickchart {\n",
              "    background-color: var(--bg-color);\n",
              "    border: none;\n",
              "    border-radius: 50%;\n",
              "    cursor: pointer;\n",
              "    display: none;\n",
              "    fill: var(--fill-color);\n",
              "    height: 32px;\n",
              "    padding: 0;\n",
              "    width: 32px;\n",
              "  }\n",
              "\n",
              "  .colab-df-quickchart:hover {\n",
              "    background-color: var(--hover-bg-color);\n",
              "    box-shadow: 0 1px 2px rgba(60, 64, 67, 0.3), 0 1px 3px 1px rgba(60, 64, 67, 0.15);\n",
              "    fill: var(--button-hover-fill-color);\n",
              "  }\n",
              "\n",
              "  .colab-df-quickchart-complete:disabled,\n",
              "  .colab-df-quickchart-complete:disabled:hover {\n",
              "    background-color: var(--disabled-bg-color);\n",
              "    fill: var(--disabled-fill-color);\n",
              "    box-shadow: none;\n",
              "  }\n",
              "\n",
              "  .colab-df-spinner {\n",
              "    border: 2px solid var(--fill-color);\n",
              "    border-color: transparent;\n",
              "    border-bottom-color: var(--fill-color);\n",
              "    animation:\n",
              "      spin 1s steps(1) infinite;\n",
              "  }\n",
              "\n",
              "  @keyframes spin {\n",
              "    0% {\n",
              "      border-color: transparent;\n",
              "      border-bottom-color: var(--fill-color);\n",
              "      border-left-color: var(--fill-color);\n",
              "    }\n",
              "    20% {\n",
              "      border-color: transparent;\n",
              "      border-left-color: var(--fill-color);\n",
              "      border-top-color: var(--fill-color);\n",
              "    }\n",
              "    30% {\n",
              "      border-color: transparent;\n",
              "      border-left-color: var(--fill-color);\n",
              "      border-top-color: var(--fill-color);\n",
              "      border-right-color: var(--fill-color);\n",
              "    }\n",
              "    40% {\n",
              "      border-color: transparent;\n",
              "      border-right-color: var(--fill-color);\n",
              "      border-top-color: var(--fill-color);\n",
              "    }\n",
              "    60% {\n",
              "      border-color: transparent;\n",
              "      border-right-color: var(--fill-color);\n",
              "    }\n",
              "    80% {\n",
              "      border-color: transparent;\n",
              "      border-right-color: var(--fill-color);\n",
              "      border-bottom-color: var(--fill-color);\n",
              "    }\n",
              "    90% {\n",
              "      border-color: transparent;\n",
              "      border-bottom-color: var(--fill-color);\n",
              "    }\n",
              "  }\n",
              "</style>\n",
              "\n",
              "  <script>\n",
              "    async function quickchart(key) {\n",
              "      const quickchartButtonEl =\n",
              "        document.querySelector('#' + key + ' button');\n",
              "      quickchartButtonEl.disabled = true;  // To prevent multiple clicks.\n",
              "      quickchartButtonEl.classList.add('colab-df-spinner');\n",
              "      try {\n",
              "        const charts = await google.colab.kernel.invokeFunction(\n",
              "            'suggestCharts', [key], {});\n",
              "      } catch (error) {\n",
              "        console.error('Error during call to suggestCharts:', error);\n",
              "      }\n",
              "      quickchartButtonEl.classList.remove('colab-df-spinner');\n",
              "      quickchartButtonEl.classList.add('colab-df-quickchart-complete');\n",
              "    }\n",
              "    (() => {\n",
              "      let quickchartButtonEl =\n",
              "        document.querySelector('#df-8218ee50-916e-4ce0-bc05-b588e419f878 button');\n",
              "      quickchartButtonEl.style.display =\n",
              "        google.colab.kernel.accessAllowed ? 'block' : 'none';\n",
              "    })();\n",
              "  </script>\n",
              "</div>\n",
              "\n",
              "    </div>\n",
              "  </div>\n"
            ],
            "application/vnd.google.colaboratory.intrinsic+json": {
              "type": "dataframe",
              "variable_name": "X_train",
              "summary": "{\n  \"name\": \"X_train\",\n  \"rows\": 364,\n  \"fields\": [\n    {\n      \"column\": \"average_hue\",\n      \"properties\": {\n        \"dtype\": \"number\",\n        \"std\": 9.161995346913264,\n        \"min\": 153.3291836009306,\n        \"max\": 203.65981680676828,\n        \"num_unique_values\": 364,\n        \"samples\": [\n          170.68505817488128,\n          179.55199217952153,\n          183.02457221536076\n        ],\n        \"semantic_type\": \"\",\n        \"description\": \"\"\n      }\n    },\n    {\n      \"column\": \"area\",\n      \"properties\": {\n        \"dtype\": \"number\",\n        \"std\": 3927295.739568326,\n        \"min\": 348592.0,\n        \"max\": 22255211.5,\n        \"num_unique_values\": 364,\n        \"samples\": [\n          14697197.5,\n          11838790.0,\n          10174061.0\n        ],\n        \"semantic_type\": \"\",\n        \"description\": \"\"\n      }\n    },\n    {\n      \"column\": \"aspect_ratio\",\n      \"properties\": {\n        \"dtype\": \"number\",\n        \"std\": 0.2786495739016698,\n        \"min\": 0.5063974978675007,\n        \"max\": 3.001814882032668,\n        \"num_unique_values\": 364,\n        \"samples\": [\n          1.150504813336464,\n          0.9810369659145464,\n          0.7910415773681955\n        ],\n        \"semantic_type\": \"\",\n        \"description\": \"\"\n      }\n    },\n    {\n      \"column\": \"correlation\",\n      \"properties\": {\n        \"dtype\": \"number\",\n        \"std\": 0.0001345755668350928,\n        \"min\": 0.9986909707725524,\n        \"max\": 0.9999242126080624,\n        \"num_unique_values\": 364,\n        \"samples\": [\n          0.9998719608077322,\n          0.999851689475564,\n          0.9997963203173096\n        ],\n        \"semantic_type\": \"\",\n        \"description\": \"\"\n      }\n    },\n    {\n      \"column\": \"energy\",\n      \"properties\": {\n        \"dtype\": \"number\",\n        \"std\": 0.02362397902012482,\n        \"min\": 0.0697640117607474,\n        \"max\": 0.2125240752681675,\n        \"num_unique_values\": 364,\n        \"samples\": [\n          0.0937578470677631,\n          0.1229944240857671,\n          0.1058406774981535\n        ],\n        \"semantic_type\": \"\",\n        \"description\": \"\"\n      }\n    },\n    {\n      \"column\": \"contrast\",\n      \"properties\": {\n        \"dtype\": \"number\",\n        \"std\": 0.43266661573731025,\n        \"min\": 0.4572677642817041,\n        \"max\": 2.754430054149489,\n        \"num_unique_values\": 364,\n        \"samples\": [\n          0.6951552149432406,\n          0.7008934757114363,\n          0.8140385805922679\n        ],\n        \"semantic_type\": \"\",\n        \"description\": \"\"\n      }\n    },\n    {\n      \"column\": \"homogeneity\",\n      \"properties\": {\n        \"dtype\": \"number\",\n        \"std\": 0.03572124907887313,\n        \"min\": 0.5689811853630415,\n        \"max\": 0.8084458736312256,\n        \"num_unique_values\": 364,\n        \"samples\": [\n          0.7728779130793234,\n          0.7874505858912892,\n          0.7836114904958588\n        ],\n        \"semantic_type\": \"\",\n        \"description\": \"\"\n      }\n    },\n    {\n      \"column\": \"x\",\n      \"properties\": {\n        \"dtype\": \"number\",\n        \"std\": 522,\n        \"min\": 0,\n        \"max\": 3715,\n        \"num_unique_values\": 325,\n        \"samples\": [\n          1233,\n          976,\n          790\n        ],\n        \"semantic_type\": \"\",\n        \"description\": \"\"\n      }\n    },\n    {\n      \"column\": \"y\",\n      \"properties\": {\n        \"dtype\": \"number\",\n        \"std\": 851,\n        \"min\": 0,\n        \"max\": 5921,\n        \"num_unique_values\": 339,\n        \"samples\": [\n          3039,\n          1728,\n          826\n        ],\n        \"semantic_type\": \"\",\n        \"description\": \"\"\n      }\n    },\n    {\n      \"column\": \"w\",\n      \"properties\": {\n        \"dtype\": \"number\",\n        \"std\": 793,\n        \"min\": 1365,\n        \"max\": 5925,\n        \"num_unique_values\": 340,\n        \"samples\": [\n          3546,\n          2666,\n          2635\n        ],\n        \"semantic_type\": \"\",\n        \"description\": \"\"\n      }\n    },\n    {\n      \"column\": \"h\",\n      \"properties\": {\n        \"dtype\": \"number\",\n        \"std\": 916,\n        \"min\": 523,\n        \"max\": 7034,\n        \"num_unique_values\": 340,\n        \"samples\": [\n          4908,\n          4141,\n          3749\n        ],\n        \"semantic_type\": \"\",\n        \"description\": \"\"\n      }\n    }\n  ]\n}"
            }
          },
          "metadata": {},
          "execution_count": 58
        }
      ]
    },
    {
      "cell_type": "markdown",
      "source": [
        "**Feature Scaling (Standardization)**"
      ],
      "metadata": {
        "id": "FSkctS8n1jQ1"
      }
    },
    {
      "cell_type": "code",
      "source": [
        "from sklearn.preprocessing import StandardScaler\n",
        "\n",
        "# Create a StandardScaler instance\n",
        "scaler = StandardScaler()\n",
        "scaler.fit(X_train)\n",
        "# Fit the scaler to the data and transform the data\n",
        "X_train = scaler.transform(X_train)\n",
        "X_test = scaler.transform(X_test)"
      ],
      "metadata": {
        "id": "k6tXfZOL1njW"
      },
      "execution_count": 59,
      "outputs": []
    },
    {
      "cell_type": "code",
      "source": [
        "X_train"
      ],
      "metadata": {
        "colab": {
          "base_uri": "https://localhost:8080/",
          "height": 0
        },
        "id": "ul3KEMqD1nl5",
        "outputId": "e435ee7b-ee2c-4f65-ccf0-8f726fa42618"
      },
      "execution_count": 60,
      "outputs": [
        {
          "output_type": "execute_result",
          "data": {
            "text/plain": [
              "array([[ 0.60647261, -0.61874732,  1.29996602, ..., -0.68455133,\n",
              "         0.03690509, -1.20516657],\n",
              "       [-0.18732009, -0.12653786, -1.01848059, ..., -0.12680373,\n",
              "        -0.77036351,  0.45922452],\n",
              "       [ 0.96769675, -1.37166311, -0.18564573, ...,  0.30974556,\n",
              "        -1.60538198, -1.42686696],\n",
              "       ...,\n",
              "       [ 1.56658393, -1.76009615, -0.08446899, ...,  0.43094388,\n",
              "        -1.78323334, -1.66276491],\n",
              "       [-0.42277044,  0.40741007, -0.22268611, ...,  0.50154484,\n",
              "         0.28791518,  0.35110462],\n",
              "       [ 0.55445894,  0.10557505, -0.43740103, ..., -0.68925806,\n",
              "        -0.2077982 ,  0.16762844]])"
            ]
          },
          "metadata": {},
          "execution_count": 60
        }
      ]
    },
    {
      "cell_type": "markdown",
      "source": [
        "## **Modeling**"
      ],
      "metadata": {
        "id": "kOOtnNSOkrTD"
      }
    },
    {
      "cell_type": "markdown",
      "source": [
        "**Logistics Regression**"
      ],
      "metadata": {
        "id": "HXy_Rj4p2W_1"
      }
    },
    {
      "cell_type": "code",
      "source": [
        "from sklearn.linear_model import LogisticRegression"
      ],
      "metadata": {
        "id": "6-hdCtN72uaF"
      },
      "execution_count": 61,
      "outputs": []
    },
    {
      "cell_type": "code",
      "source": [
        "model_log_reg = LogisticRegression()\n",
        "\n",
        "# Train the model on the training data\n",
        "model_log_reg.fit(X_train, y_train)\n",
        "\n",
        "# Make predictions on the test data\n",
        "pred_log_reg = model_log_reg.predict(X_test)"
      ],
      "metadata": {
        "id": "IS_YrbOPb__7"
      },
      "execution_count": 62,
      "outputs": []
    },
    {
      "cell_type": "markdown",
      "source": [
        "**SVC**"
      ],
      "metadata": {
        "id": "hW9L24Xt22xK"
      }
    },
    {
      "cell_type": "code",
      "source": [
        "from sklearn.svm import SVC"
      ],
      "metadata": {
        "id": "tHKnSfZrcAC0"
      },
      "execution_count": 63,
      "outputs": []
    },
    {
      "cell_type": "code",
      "source": [
        "model_svc = SVC()\n",
        "\n",
        "# Train the model on the training data\n",
        "model_svc.fit(X_train, y_train)\n",
        "\n",
        "# Make predictions on the test data\n",
        "pred_svc = model_svc.predict(X_test)"
      ],
      "metadata": {
        "id": "lwABnaU3cAF1"
      },
      "execution_count": 64,
      "outputs": []
    },
    {
      "cell_type": "markdown",
      "source": [
        "## **Model Evaluation**"
      ],
      "metadata": {
        "id": "bQ4LrN5CkwUy"
      }
    },
    {
      "cell_type": "code",
      "source": [
        "from sklearn.metrics import accuracy_score, classification_report, confusion_matrix"
      ],
      "metadata": {
        "id": "vgzC9jggkysf"
      },
      "execution_count": 76,
      "outputs": []
    },
    {
      "cell_type": "code",
      "source": [
        "import numpy as np\n",
        "\n",
        "\n",
        "def plot_confusion_matrix(cm,\n",
        "                          target_names,\n",
        "                          title='Confusion matrix',\n",
        "                          cmap=None,\n",
        "                          normalize=True):\n",
        "    \"\"\"\n",
        "    given a sklearn confusion matrix (cm), make a nice plot\n",
        "\n",
        "    Arguments\n",
        "    ---------\n",
        "    cm:           confusion matrix from sklearn.metrics.confusion_matrix\n",
        "\n",
        "    target_names: given classification classes such as [0, 1, 2]\n",
        "                  the class names, for example: ['high', 'medium', 'low']\n",
        "\n",
        "    title:        the text to display at the top of the matrix\n",
        "\n",
        "    cmap:         the gradient of the values displayed from matplotlib.pyplot.cm\n",
        "                  see http://matplotlib.org/examples/color/colormaps_reference.html\n",
        "                  plt.get_cmap('jet') or plt.cm.Blues\n",
        "\n",
        "    normalize:    If False, plot the raw numbers\n",
        "                  If True, plot the proportions\n",
        "\n",
        "    Usage\n",
        "    -----\n",
        "    plot_confusion_matrix(cm           = cm,                  # confusion matrix created by\n",
        "                                                              # sklearn.metrics.confusion_matrix\n",
        "                          normalize    = True,                # show proportions\n",
        "                          target_names = y_labels_vals,       # list of names of the classes\n",
        "                          title        = best_estimator_name) # title of graph\n",
        "\n",
        "    Citiation\n",
        "    ---------\n",
        "    http://scikit-learn.org/stable/auto_examples/model_selection/plot_confusion_matrix.html\n",
        "\n",
        "    \"\"\"\n",
        "    import matplotlib.pyplot as plt\n",
        "    import numpy as np\n",
        "    import itertools\n",
        "\n",
        "    accuracy = np.trace(cm) / float(np.sum(cm))\n",
        "    misclass = 1 - accuracy\n",
        "\n",
        "    if cmap is None:\n",
        "        cmap = plt.get_cmap('Blues')\n",
        "\n",
        "    plt.figure(figsize=(8, 6))\n",
        "    plt.imshow(cm, interpolation='nearest', cmap=cmap)\n",
        "    plt.title(title)\n",
        "    plt.colorbar()\n",
        "\n",
        "    if target_names is not None:\n",
        "        tick_marks = np.arange(len(target_names))\n",
        "        plt.xticks(tick_marks, target_names, rotation=45)\n",
        "        plt.yticks(tick_marks, target_names)\n",
        "\n",
        "    if normalize:\n",
        "        cm = cm.astype('float') / cm.sum(axis=1)[:, np.newaxis]\n",
        "\n",
        "\n",
        "    thresh = cm.max() / 1.5 if normalize else cm.max() / 2\n",
        "    for i, j in itertools.product(range(cm.shape[0]), range(cm.shape[1])):\n",
        "        if normalize:\n",
        "            plt.text(j, i, \"{:0.4f}\".format(cm[i, j]),\n",
        "                     horizontalalignment=\"center\",\n",
        "                     color=\"white\" if cm[i, j] > thresh else \"black\")\n",
        "        else:\n",
        "            plt.text(j, i, \"{:,}\".format(cm[i, j]),\n",
        "                     horizontalalignment=\"center\",\n",
        "                     color=\"white\" if cm[i, j] > thresh else \"black\")\n",
        "\n",
        "\n",
        "    plt.tight_layout()\n",
        "    plt.ylabel('True label')\n",
        "    plt.xlabel('Predicted label\\naccuracy={:0.4f}; misclass={:0.4f}'.format(accuracy, misclass))\n",
        "    plt.show()"
      ],
      "metadata": {
        "id": "8HWL0zYPZq70"
      },
      "execution_count": 80,
      "outputs": []
    },
    {
      "cell_type": "markdown",
      "source": [
        "**Models Accuracy**"
      ],
      "metadata": {
        "id": "y1X76icd3bcu"
      }
    },
    {
      "cell_type": "code",
      "source": [
        "print(f\"Logistic Regression Accuracy: {accuracy_score(y_test, pred_log_reg)}\")\n",
        "print(f\"Support Vector Classifier Accuracy: {accuracy_score(y_test, pred_svc)}\")"
      ],
      "metadata": {
        "colab": {
          "base_uri": "https://localhost:8080/",
          "height": 0
        },
        "id": "cMq_AOQXkzrW",
        "outputId": "0e710cb2-4199-4e51-f1de-d40810983244"
      },
      "execution_count": 66,
      "outputs": [
        {
          "output_type": "stream",
          "name": "stdout",
          "text": [
            "Logistic Regression Accuracy: 0.8021978021978022\n",
            "Support Vector Classifier Accuracy: 0.7802197802197802\n"
          ]
        }
      ]
    },
    {
      "cell_type": "markdown",
      "source": [
        "**Logistic Regression**"
      ],
      "metadata": {
        "id": "U_9b_sM44L1D"
      }
    },
    {
      "cell_type": "code",
      "source": [
        "## Logistic Regression\n",
        "print(classification_report(y_test, pred_log_reg))"
      ],
      "metadata": {
        "colab": {
          "base_uri": "https://localhost:8080/",
          "height": 0
        },
        "id": "HWxO3iYhkzuD",
        "outputId": "5e28f334-61d6-4aff-e16a-d9d00b410e8f"
      },
      "execution_count": 70,
      "outputs": [
        {
          "output_type": "stream",
          "name": "stdout",
          "text": [
            "              precision    recall  f1-score   support\n",
            "\n",
            "           0       0.71      0.24      0.36        21\n",
            "           1       0.81      0.97      0.88        70\n",
            "\n",
            "    accuracy                           0.80        91\n",
            "   macro avg       0.76      0.60      0.62        91\n",
            "weighted avg       0.79      0.80      0.76        91\n",
            "\n"
          ]
        }
      ]
    },
    {
      "cell_type": "code",
      "source": [
        "## Logistic Regression\n",
        "confusion_matrix(y_test, pred_log_reg)"
      ],
      "metadata": {
        "id": "0GeblmyLkzw2",
        "colab": {
          "base_uri": "https://localhost:8080/",
          "height": 0
        },
        "outputId": "29b4ba59-b513-47a2-debc-6e52efb7aad3"
      },
      "execution_count": 71,
      "outputs": [
        {
          "output_type": "execute_result",
          "data": {
            "text/plain": [
              "array([[ 5, 16],\n",
              "       [ 2, 68]])"
            ]
          },
          "metadata": {},
          "execution_count": 71
        }
      ]
    },
    {
      "cell_type": "code",
      "source": [
        "plot_confusion_matrix(cm           = confusion_matrix(y_test, pred_log_reg),\n",
        "                      normalize    = False,\n",
        "                      target_names = ['Bad', 'Good'],\n",
        "                      title        = \"Confusion Matrix\")"
      ],
      "metadata": {
        "id": "P-6U_2ZBkzzg",
        "colab": {
          "base_uri": "https://localhost:8080/",
          "height": 642
        },
        "outputId": "a7148553-f1d2-490a-e4cf-ffc006ac45b4"
      },
      "execution_count": 87,
      "outputs": [
        {
          "output_type": "display_data",
          "data": {
            "text/plain": [
              "<Figure size 800x600 with 2 Axes>"
            ],
            "image/png": "[encoded data removed]"
          },
          "metadata": {}
        }
      ]
    },
    {
      "cell_type": "markdown",
      "source": [
        "**Support Vector Classifier**"
      ],
      "metadata": {
        "id": "59fsrIc_bd41"
      }
    },
    {
      "cell_type": "code",
      "source": [
        "## Logistic Regression\n",
        "print(classification_report(y_test, pred_svc))"
      ],
      "metadata": {
        "colab": {
          "base_uri": "https://localhost:8080/",
          "height": 0
        },
        "id": "qUEwPlpPaaPA",
        "outputId": "566e80c4-e843-4699-a9da-d7cd9dde9786"
      },
      "execution_count": 90,
      "outputs": [
        {
          "output_type": "stream",
          "name": "stdout",
          "text": [
            "              precision    recall  f1-score   support\n",
            "\n",
            "           0       1.00      0.05      0.09        21\n",
            "           1       0.78      1.00      0.88        70\n",
            "\n",
            "    accuracy                           0.78        91\n",
            "   macro avg       0.89      0.52      0.48        91\n",
            "weighted avg       0.83      0.78      0.69        91\n",
            "\n"
          ]
        }
      ]
    },
    {
      "cell_type": "code",
      "source": [
        "plot_confusion_matrix(cm           = confusion_matrix(y_test, pred_svc),\n",
        "                      normalize    = False,\n",
        "                      target_names = ['Bad', 'Good'],\n",
        "                      title        = \"Confusion Matrix\")"
      ],
      "metadata": {
        "colab": {
          "base_uri": "https://localhost:8080/",
          "height": 642
        },
        "id": "mc55oatIa2Bv",
        "outputId": "b82bedea-00b7-4135-feab-e881ec82555d"
      },
      "execution_count": 88,
      "outputs": [
        {
          "output_type": "display_data",
          "data": {
            "text/plain": [
              "<Figure size 800x600 with 2 Axes>"
            ],
            "image/png": "[encoded data removed]"
          },
          "metadata": {}
        }
      ]
    }
  ]
}